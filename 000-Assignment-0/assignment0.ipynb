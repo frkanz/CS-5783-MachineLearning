{
  "nbformat": 4,
  "nbformat_minor": 0,
  "metadata": {
    "colab": {
      "name": "Untitled1.ipynb",
      "provenance": [],
      "collapsed_sections": []
    },
    "kernelspec": {
      "name": "python3",
      "display_name": "Python 3"
    },
    "language_info": {
      "name": "python"
    }
  },
  "cells": [
    {
      "cell_type": "code",
      "source": [
        "################################################################################\n",
        "################################################################################\n",
        "##### CS 5783 - Machine Learning                                           #####\n",
        "##### Assignment - 0                                                       #####\n",
        "##### Question - 1                                                         #####\n",
        "#####                                                                      #####\n",
        "##### 08/27/2022                                                           #####\n",
        "#####                                                                      #####\n",
        "##### Furkan Oz                                                            #####\n",
        "##### foz@okstate.edu                                                      #####\n",
        "################################################################################\n",
        "################################################################################\n",
        "import numpy as np\n",
        "import string\n",
        "import matplotlib.pyplot as plt\n",
        "\n",
        "\n",
        "input = ''\n",
        "\n",
        "# Open file and read lines\n",
        "with open(\"test.txt\", \"r\") as f:\n",
        "    for line in f:\n",
        "        input += line\n",
        "\n",
        "# Initialize alphabet and frequency \n",
        "alphabet = string.ascii_lowercase\n",
        "frequency = np.zeros(len(alphabet))\n",
        "\n",
        "input = input.lower()\n",
        "\n",
        "# Count letters and print it\n",
        "for i in range(len(alphabet)):\n",
        "  frequency[i] = input.count(alphabet[i])\n",
        "  print('\\'' + str(alphabet[i])+'\\''+': '+str(frequency[i]))\n",
        "\n",
        "# Plotting\n",
        "fig = plt.figure(figsize = (10, 5))\n",
        " \n",
        "# Bar plot for normalized frequency\n",
        "plt.bar(list(alphabet), frequency/np.sum(frequency), color ='maroon',width = 0.2)\n",
        " \n",
        "plt.xlabel(\"Letters in Alphabet\")\n",
        "plt.ylabel(\"Normalized Frequency\")\n",
        "plt.title(\"Normalized Frequency of Letters in Input String\")\n",
        "plt.show()\n",
        "\n",
        "fig = plt.figure(figsize = (10.165, 5))\n",
        " \n",
        "# Bar plot for frequency\n",
        "plt.bar(list(alphabet), frequency, color ='maroon',\n",
        "        width = 0.2)\n",
        " \n",
        "plt.xlabel(\"Letters in Alphabet\")\n",
        "plt.ylabel(\"Frequency\")\n",
        "plt.title(\"Frequency of Letters in Input String\")\n",
        "plt.show()"
      ],
      "metadata": {
        "colab": {
          "base_uri": "https://localhost:8080/",
          "height": 1000
        },
        "id": "IWsk6JZaN6el",
        "outputId": "fb9b6541-1bf1-43f2-a64d-c294cb057545"
      },
      "execution_count": 2,
      "outputs": [
        {
          "output_type": "stream",
          "name": "stdout",
          "text": [
            "'a': 44.0\n",
            "'b': 24.0\n",
            "'c': 23.0\n",
            "'d': 30.0\n",
            "'e': 63.0\n",
            "'f': 22.0\n",
            "'g': 23.0\n",
            "'h': 25.0\n",
            "'i': 56.0\n",
            "'j': 23.0\n",
            "'k': 22.0\n",
            "'l': 26.0\n",
            "'m': 22.0\n",
            "'n': 28.0\n",
            "'o': 50.0\n",
            "'p': 25.0\n",
            "'q': 22.0\n",
            "'r': 40.0\n",
            "'s': 25.0\n",
            "'t': 36.0\n",
            "'u': 38.0\n",
            "'v': 22.0\n",
            "'w': 22.0\n",
            "'x': 22.0\n",
            "'y': 27.0\n",
            "'z': 23.0\n"
          ]
        },
        {
          "output_type": "display_data",
          "data": {
            "text/plain": [
              "<Figure size 720x360 with 1 Axes>"
            ],
            "image/png": "[encoded data removed]"
          },
          "metadata": {
            "needs_background": "light"
          }
        },
        {
          "output_type": "display_data",
          "data": {
            "text/plain": [
              "<Figure size 731.88x360 with 1 Axes>"
            ],
            "image/png": "[encoded data removed]"
          },
          "metadata": {
            "needs_background": "light"
          }
        }
      ]
    },
    {
      "cell_type": "code",
      "source": [
        "################################################################################\n",
        "################################################################################\n",
        "##### CS 5783 - Machine Learning                                           #####\n",
        "##### Assignment - 0                                                       #####\n",
        "##### Question - 2                                                         #####\n",
        "#####                                                                      #####\n",
        "##### 08/27/2022                                                           #####\n",
        "#####                                                                      #####\n",
        "##### Furkan Oz                                                            #####\n",
        "##### foz@okstate.edu                                                      #####\n",
        "################################################################################\n",
        "################################################################################\n",
        "import cv2   \n",
        "import numpy as np\n",
        "import copy\n",
        "\n",
        "# Read figure\n",
        "img = cv2.imread(\"test.png\")\n",
        "img1 = copy.deepcopy(img)\n",
        "img2 = copy.deepcopy(img)\n",
        "\n",
        "# Find closest RGB color and change the pixel\n",
        "for i in range(img1.shape[0]):\n",
        "  for j in range(img1.shape[1]):\n",
        "    norm = [np.linalg.norm(img1[i,j,:]-[255,0,0]), np.linalg.norm(img1[i,j,:]-[0,255,0]), np.linalg.norm(img1[i,j,:]-[0,0,255])]\n",
        "    case = norm.index(min(norm))\n",
        "    if case == 0:\n",
        "      img1[i,j,:] = [255,0,0]\n",
        "    elif case == 1:\n",
        "      img1[i,j,:] = [0,255,0]\n",
        "    elif case == 2:\n",
        "      img1[i,j,:] = [0,0,255]\n",
        "\n",
        "# Export new figure\n",
        "cv2.imwrite(\"output1.png\", img1)\n",
        "\n",
        "# Define the center (64.5 for 128x128 figure) and define square to blacken it out\n",
        "center = [(img2.shape[0]+1)/2,(img2.shape[1]+1)/2]\n",
        "for i in range(img2.shape[0]):\n",
        "  for j in range(img2.shape[1]):\n",
        "    if i <= center[0]+25 and i >= center[0]-25 and j <= center[1]+25 and j >= center[1]-25:\n",
        "      img2[i,j,:] = [0,0,0]\n",
        "\n",
        "# Export new figure\n",
        "cv2.imwrite(\"output2.png\", img2)"
      ],
      "metadata": {
        "colab": {
          "base_uri": "https://localhost:8080/"
        },
        "id": "JDVKuQ6QgzOF",
        "outputId": "cc338157-4318-44ef-faf5-cf4107726b42"
      },
      "execution_count": 8,
      "outputs": [
        {
          "output_type": "execute_result",
          "data": {
            "text/plain": [
              "True"
            ]
          },
          "metadata": {},
          "execution_count": 8
        }
      ]
    },
    {
      "cell_type": "code",
      "source": [
        "################################################################################\n",
        "################################################################################\n",
        "##### CS 5783 - Machine Learning                                           #####\n",
        "##### Assignment - 0                                                       #####\n",
        "##### Question - 3                                                         #####\n",
        "#####                                                                      #####\n",
        "##### 08/27/2022                                                           #####\n",
        "#####                                                                      #####\n",
        "##### Furkan Oz                                                            #####\n",
        "##### foz@okstate.edu                                                      #####\n",
        "################################################################################\n",
        "################################################################################\n",
        "import numpy as np\n",
        "import matplotlib as plt\n",
        "\n",
        "# Define the system\n",
        "eq1 = np.array([3, 3])\n",
        "eq2 = np.array([4, 2])\n",
        "\n",
        "# A matrix\n",
        "A = [eq1, eq2]\n",
        "\n",
        "# b vector\n",
        "b = np.array([11.25, 10.0])\n",
        "\n",
        "# Solve Ax=b\n",
        "x = np.linalg.solve(A,b)\n",
        "\n",
        "print('System of equations:')\n",
        "print(A)\n",
        "print('RHS:')\n",
        "print(b)\n",
        "print('Resultant prices:')\n",
        "print(x)\n"
      ],
      "metadata": {
        "colab": {
          "base_uri": "https://localhost:8080/"
        },
        "id": "wj_pNNXu7sfZ",
        "outputId": "adf4a964-c290-4c54-f5b3-215e34449480"
      },
      "execution_count": 7,
      "outputs": [
        {
          "output_type": "stream",
          "name": "stdout",
          "text": [
            "System of equations:\n",
            "[array([3, 3]), array([4, 2])]\n",
            "RHS:\n",
            "[11.25 10.  ]\n",
            "Resultant prices:\n",
            "[1.25 2.5 ]\n"
          ]
        }
      ]
    }
  ]
}