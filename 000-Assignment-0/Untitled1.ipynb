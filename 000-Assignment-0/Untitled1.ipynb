{
  "nbformat": 4,
  "nbformat_minor": 0,
  "metadata": {
    "colab": {
      "name": "Untitled1.ipynb",
      "provenance": [],
      "collapsed_sections": []
    },
    "kernelspec": {
      "name": "python3",
      "display_name": "Python 3"
    },
    "language_info": {
      "name": "python"
    }
  },
  "cells": [
    {
      "cell_type": "code",
      "execution_count": 5,
      "metadata": {
        "colab": {
          "base_uri": "https://localhost:8080/"
        },
        "id": "2NBDXx4gMais",
        "outputId": "048fa90f-3815-4fb6-c31f-435a22a2063b"
      },
      "outputs": [
        {
          "output_type": "stream",
          "name": "stdout",
          "text": [
            "[3 3]\n",
            "[4 2]\n",
            "[array([3, 3]), array([4, 2])]\n",
            "[11.25 10.  ]\n",
            "[1.25 2.5 ]\n"
          ]
        }
      ],
      "source": [
        "import numpy as np\n",
        "import matplotlib as plt\n",
        "\n",
        "eq1 = np.array([3, 3])\n",
        "eq2 = np.array([4, 2])\n",
        "\n",
        "A = [eq1, eq2]\n",
        "\n",
        "b = np.array([11.25, 10.0])\n",
        "\n",
        "x = np.linalg.solve(A,b)\n",
        "print(eq1)\n",
        "print(eq2)\n",
        "print(A)\n",
        "print(b)\n",
        "print(x)\n"
      ]
    },
    {
      "cell_type": "code",
      "source": [
        "import numpy as np\n",
        "import string\n",
        "import matplotlib.pyplot as plt\n",
        "\n",
        "# f = open(\"sample_data/test.txt\", \"r\")\n",
        "input = ''\n",
        "# print(f.readline())\n",
        "# print(f.read().strip())\n",
        "\n",
        "with open(\"sample_data/test.txt\", \"r\") as f:\n",
        "    for line in f:\n",
        "        input += line\n",
        "\n",
        "# print(input)\n",
        "alphabet = string.ascii_lowercase\n",
        "frequency = np.zeros(len(alphabet))\n",
        "# input = 'The quick brown fox jumps over the lazy dog'\n",
        "# input = input.lower()\n",
        "# input = f.read().strip()\n",
        "\n",
        "for i in range(len(alphabet)):\n",
        "  frequency[i] = input.count(alphabet[i])\n",
        "  print('\\'' + str(alphabet[i])+'\\''+': '+str(frequency[i]))\n",
        "\n",
        "fig = plt.figure(figsize = (10, 5))\n",
        " \n",
        "# creating the bar plot\n",
        "plt.bar(list(alphabet), frequency/np.sum(frequency), color ='maroon',width = 0.2)\n",
        " \n",
        "plt.xlabel(\"Letters in Alphabet\")\n",
        "plt.ylabel(\"Normalized Frequency\")\n",
        "plt.title(\"Normalized Frequency of Letters in Input String\")\n",
        "plt.show()\n",
        "\n",
        "fig = plt.figure(figsize = (10.165, 5))\n",
        " \n",
        "# creating the bar plot\n",
        "plt.bar(list(alphabet), frequency, color ='maroon',\n",
        "        width = 0.2)\n",
        " \n",
        "plt.xlabel(\"Letters in Alphabet\")\n",
        "plt.ylabel(\"Frequency\")\n",
        "plt.title(\"Frequency of Letters in Input String\")\n",
        "plt.show()"
      ],
      "metadata": {
        "colab": {
          "base_uri": "https://localhost:8080/",
          "height": 1000
        },
        "id": "IWsk6JZaN6el",
        "outputId": "163c96da-b446-49e8-de32-ebbb1fa63d69"
      },
      "execution_count": 55,
      "outputs": [
        {
          "output_type": "stream",
          "name": "stdout",
          "text": [
            "'a': 43.0\n",
            "'b': 24.0\n",
            "'c': 22.0\n",
            "'d': 30.0\n",
            "'e': 63.0\n",
            "'f': 20.0\n",
            "'g': 22.0\n",
            "'h': 24.0\n",
            "'i': 56.0\n",
            "'j': 19.0\n",
            "'k': 22.0\n",
            "'l': 26.0\n",
            "'m': 22.0\n",
            "'n': 28.0\n",
            "'o': 50.0\n",
            "'p': 23.0\n",
            "'q': 21.0\n",
            "'r': 40.0\n",
            "'s': 23.0\n",
            "'t': 30.0\n",
            "'u': 38.0\n",
            "'v': 22.0\n",
            "'w': 19.0\n",
            "'x': 22.0\n",
            "'y': 27.0\n",
            "'z': 23.0\n"
          ]
        },
        {
          "output_type": "display_data",
          "data": {
            "text/plain": [
              "<Figure size 720x360 with 1 Axes>"
            ],
            "image/png": "[encoded data removed]"
          },
          "metadata": {
            "needs_background": "light"
          }
        },
        {
          "output_type": "display_data",
          "data": {
            "text/plain": [
              "<Figure size 731.88x360 with 1 Axes>"
            ],
            "image/png": "[encoded data removed]"
          },
          "metadata": {
            "needs_background": "light"
          }
        }
      ]
    },
    {
      "cell_type": "code",
      "source": [
        "import cv2   \n",
        "import numpy as np\n",
        "import copy\n",
        "\n",
        "img = cv2.imread(\"sample_data/test.png\")\n",
        "img1 = copy.deepcopy(img)\n",
        "img2 = copy.deepcopy(img)\n",
        "\n",
        "for i in range(img1.shape[0]):\n",
        "  for j in range(img1.shape[1]):\n",
        "    norm = [np.linalg.norm(img1[i,j,:]-[255,0,0]), np.linalg.norm(img1[i,j,:]-[0,255,0]), np.linalg.norm(img1[i,j,:]-[0,0,255])]\n",
        "    case = norm.index(min(norm))\n",
        "    if case == 0:\n",
        "      img1[i,j,:] = [255,0,0]\n",
        "    elif case == 1:\n",
        "      img1[i,j,:] = [0,255,0]\n",
        "    elif case == 2:\n",
        "      img1[i,j,:] = [0,0,255]\n",
        "\n",
        "cv2.imwrite(\"sample_data/output1.png\", img1)\n",
        "\n",
        "center = [(img2.shape[0]+1)/2,(img2.shape[1]+1)/2]\n",
        "for i in range(img2.shape[0]):\n",
        "  for j in range(img2.shape[1]):\n",
        "    if i <= center[0]+25 and i >= center[0]-25 and j <= center[1]+25 and j >= center[1]-25:\n",
        "      img2[i,j,:] = [0,0,0]\n",
        "\n",
        "cv2.imwrite(\"sample_data/output2.png\", img2)"
      ],
      "metadata": {
        "colab": {
          "base_uri": "https://localhost:8080/"
        },
        "id": "JDVKuQ6QgzOF",
        "outputId": "4c5a571d-5467-47ee-f65e-156934866823"
      },
      "execution_count": 80,
      "outputs": [
        {
          "output_type": "execute_result",
          "data": {
            "text/plain": [
              "True"
            ]
          },
          "metadata": {},
          "execution_count": 80
        }
      ]
    }
  ]
}