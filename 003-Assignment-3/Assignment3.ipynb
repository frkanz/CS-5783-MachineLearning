{
  "nbformat": 4,
  "nbformat_minor": 0,
  "metadata": {
    "colab": {
      "provenance": []
    },
    "kernelspec": {
      "name": "python3",
      "display_name": "Python 3"
    },
    "language_info": {
      "name": "python"
    },
    "accelerator": "GPU"
  },
  "cells": [
    {
      "cell_type": "markdown",
      "source": [
        "# Report of Assignment 3\n",
        "The required libraries are:\n",
        "\n",
        "\n",
        "*   numpy\n",
        "*   matplotlib.pyplot\n",
        "*   datetime\n",
        "*   packaging\n",
        "*   tensorflow\n",
        "\n",
        "Furkan Oz\n",
        "\n",
        "foz@okstate.edu"
      ],
      "metadata": {
        "id": "YIy5iouAZ3nX"
      }
    },
    {
      "cell_type": "markdown",
      "source": [
        "Note: Order of code blocks matches with the report's paragraph order.\n",
        "\n",
        "# Question 1\n",
        "In this question it is asked to find optimal model for MINST dataset with 10 convolutional layer. Firstly, it is asked to use 3 different number of filter increament/decreanment method. The first one is increasing, the second one is decreasing, and the last one is first increase than decreasing. It is also asked to find the hyperparameters, such as learning rate, batch size, and optimizer selection. Since there are many combinations of these parameters and models, the strategy used will be like this:\n",
        "\n",
        "1) The best of filter increament method will be selected.\n",
        "2) With the best filter increament method, best learning rate will be selected.\n",
        "3) With the best filter increament method and learning rate, best batch size will be selected.\n",
        "4) With the best filter increament method, learning rate, and batch size, best optimizer will be selected.\n",
        "\n",
        "To achieve all these and compare the models, accuracy on test data will be compared. To compare under constant conditions, default parameters will be used. Unless otherwise is stated, the default parameters are:\n",
        "\n",
        "*   Learning rate is 0.001.\n",
        "*   Optimizer is Adam.\n",
        "*   Batch size is 512.\n",
        "*   Epoch size is 20.\n",
        "\n",
        "It has to be noted that the results may change with random initialization. However, the results presented in here is obtained during the final runs. According to results, decreasing number of filters ended up with the highest accuracy (0.9905) on the test cases. The hour-glass type was also close (0.9901) to decreasing number of elements but it was slightly lower. The least performance is obtained in increasing type of model (accuracy 0.9668). In theory, increasing number of filters should be the highest accuracy because we extract the fundamental features from the data and than with the extracted features we can build complex relations. However, the performance of this method was the lowest. It may be because of the low number of epocs. The performance of increasing type of model may increase more than the rest with increasing epocs. Additionally, it has to be noted that the values are so close to each other. Having an accuracy close to 0.97 is quite acceptable. \n",
        "\n",
        "In the second part, decreasing number of filters model is used with 3 different learning rate which are 0.01, 0.001, and 0.0001. The 0.001 was default value so in the first part it is solved and accuracy was (0.9905). The lower learning rate led to significantly low accuracy (0.1135). It is because higher learning rates may easily skip the minimum or it may not be able to reach to minimum becuase of high change in values. The low learning rate also showed similar performance (accuracy 0.9623) to learning rate 0.001. It can even reach higher accuracy according to MSE plot. However, beceause of the constant epocs numbers, higher epocs are not considered for fair comparison. \n",
        "\n",
        "In the third part, decreasing number of filters model with 0.001 learning rate is used with 3 different batch size which are 256, 512, 1024. The 512 one was the default one and its accuracy was (0.9905). According to the results, increasing batch size led to poor results. The best performance is taken at 256 batch size which is (0.9908). The worst performance is taken at 1024 batch size which is (0.9875). It is known that the increasing batch size leads to worse results. However, it is not known the reason (Reference: \"https://medium.com/mini-distill/effect-of-batch-size-on-training-dynamics-21c14f7a716e\", the exact sentence: \"However, it is well known that too large of a batch size will lead to poor generalization (although currently it’s not known why this is so).\" ). My guess is that we divide the data into pieces which may affects some coralation among data points.\n",
        "\n",
        "The last part, decreasing number of filters model with 0.001 learning rate and 256 batch size is used with 3 different optimizers. The Adam optimizer is used in the previous step and the accuracy was (0.9905). The RMSProp optimizer led to very close accuracy (0.9904) to Adam optimizer. However, SGD performed very poor with the current setup (accuracy 0.1134). \n",
        "\n",
        "According to all the tests, Adam optimizer with 0.001 learning rate and 256 batch size led to a great accuracy with 20 epocs. The filter increament/decreament model is selected as decreasing number of filters. Since it is asked to compare the results with best hyperparameters, all 3 models (decreasing model, increasing model, hour-glass model) will be run with the optimized parameters. The decreasing model is already run with these conditions and the accuracy was (0.9905). The increasing model led to an accuracy of (0.9843). The hour-glass model gave an accuracy of 0.9865 which is lower than the default conditions. However, it has to be noted that there is random initialization and the results are already so close to each other. Again the best performance is obtained by decreasing model."
      ],
      "metadata": {
        "id": "3drnOUJlZ7_D"
      }
    },
    {
      "cell_type": "code",
      "source": [
        "################################################################################\n",
        "################################################################################\n",
        "##### CS 5783 - Machine Learning                                           #####\n",
        "##### Assignment - 3                                                       #####\n",
        "##### Question - 1                                                         #####\n",
        "#####                                                                      #####\n",
        "##### 10/20/2022                                                           #####\n",
        "#####                                                                      #####\n",
        "##### Furkan Oz                                                            #####\n",
        "##### foz@okstate.edu                                                      #####\n",
        "################################################################################\n",
        "################################################################################\n",
        "from datetime import datetime\n",
        "from packaging import version\n",
        "\n",
        "import tensorflow as tf\n",
        "from tensorflow import keras\n",
        "\n",
        "import tensorboard\n",
        "import matplotlib.pyplot as plt\n",
        "\n",
        "import numpy as np"
      ],
      "metadata": {
        "id": "emTjxbHS3s0o"
      },
      "execution_count": 42,
      "outputs": []
    },
    {
      "cell_type": "code",
      "source": [
        "# Load Data\n",
        "(train_images, train_labels), (test_images, test_labels) = keras.datasets.mnist.load_data()\n",
        "train_images = train_images / 255.0"
      ],
      "metadata": {
        "id": "qAPijGkf3qnQ",
        "colab": {
          "base_uri": "https://localhost:8080/"
        },
        "outputId": "8124251d-2b92-49ea-f1f9-4bd43a0a66f8"
      },
      "execution_count": 3,
      "outputs": [
        {
          "output_type": "stream",
          "name": "stdout",
          "text": [
            "Downloading data from https://storage.googleapis.com/tensorflow/tf-keras-datasets/mnist.npz\n",
            "11490434/11490434 [==============================] - 0s 0us/step\n"
          ]
        }
      ]
    },
    {
      "cell_type": "code",
      "source": [
        "# Plotting\n",
        "fig, ax = plt.subplots(2,5,figsize = (12, 6))\n",
        "fig.suptitle('Train Images')\n",
        "ax = ax.flatten()\n",
        "for i in range(10):\n",
        "    im_idx = np.argwhere(train_labels == i)[0]\n",
        "    ax[i].set(xlabel='x', ylabel='y')\n",
        "    plt.setp(ax, xticks=[0, 27], yticks=[0, 27])\n",
        "    plottable_image = np.reshape(train_images[im_idx], (28, 28))\n",
        "    ax[i].imshow(plottable_image, cmap='gray')"
      ],
      "metadata": {
        "colab": {
          "base_uri": "https://localhost:8080/",
          "height": 415
        },
        "id": "0yaZlwHK36Ku",
        "outputId": "4a4b4907-8e9f-4ca1-fe87-4c18aae27274"
      },
      "execution_count": 4,
      "outputs": [
        {
          "output_type": "display_data",
          "data": {
            "text/plain": [
              "<Figure size 864x432 with 10 Axes>"
            ],
            "image/png": "[encoded data removed]"
          },
          "metadata": {
            "needs_background": "light"
          }
        }
      ]
    },
    {
      "cell_type": "code",
      "source": [
        "x_train = train_images.reshape(-1, 28, 28, 1) #add an additional dimension to represent the single-channel\n",
        "x_test = test_images.reshape(-1, 28, 28, 1)"
      ],
      "metadata": {
        "id": "9bcV40NnS88q"
      },
      "execution_count": 5,
      "outputs": []
    },
    {
      "cell_type": "code",
      "source": [
        "cnn_model_increasing = tf.keras.models.Sequential()\n",
        "cnn_model_increasing.add(tf.keras.layers.Conv2D(16, (3, 3), padding='same', activation='relu'))\n",
        "cnn_model_increasing.add(tf.keras.layers.Conv2D(16, (3, 3), strides=(2, 2), padding='same', activation='relu'))\n",
        "cnn_model_increasing.add(tf.keras.layers.MaxPooling2D(pool_size=(2, 2), strides=(2,2), padding='same'))\n",
        "cnn_model_increasing.add(tf.keras.layers.Conv2D(32, (3, 3), padding='same', activation='relu'))\n",
        "cnn_model_increasing.add(tf.keras.layers.Conv2D(32, (3, 3), strides=(2, 2), padding='same', activation='relu'))\n",
        "cnn_model_increasing.add(tf.keras.layers.MaxPooling2D(pool_size=(2, 2), strides=(2,2), padding='same'))\n",
        "cnn_model_increasing.add(tf.keras.layers.Conv2D(64, (3, 3), padding='same', activation='relu'))\n",
        "cnn_model_increasing.add(tf.keras.layers.Conv2D(64, (3, 3), strides=(2, 2), padding='same', activation='relu'))\n",
        "cnn_model_increasing.add(tf.keras.layers.MaxPooling2D(pool_size=(2, 2), strides=(2,2), padding='same'))\n",
        "cnn_model_increasing.add(tf.keras.layers.Conv2D(128, (3, 3), padding='same', activation='relu'))\n",
        "cnn_model_increasing.add(tf.keras.layers.Conv2D(128, (3, 3), strides=(2, 2), padding='same', activation='relu'))\n",
        "cnn_model_increasing.add(tf.keras.layers.MaxPooling2D(pool_size=(2, 2), strides=(2,2), padding='same'))\n",
        "cnn_model_increasing.add(tf.keras.layers.Conv2D(256, (3, 3), padding='same', activation='relu'))\n",
        "cnn_model_increasing.add(tf.keras.layers.MaxPooling2D(pool_size=(2, 2), strides=(2,2), padding='same'))\n",
        "cnn_model_increasing.add(tf.keras.layers.Conv2D(256, (3, 3), strides=(2, 2), padding='same', activation='relu'))\n",
        "\n",
        "cnn_model_increasing.add(tf.keras.layers.Flatten())\n",
        "cnn_model_increasing.add(tf.keras.layers.Dense(512))\n",
        "cnn_model_increasing.add(tf.keras.layers.Activation('relu'))\n",
        "cnn_model_increasing.add(tf.keras.layers.Dense(10))\n",
        "cnn_model_increasing.add(tf.keras.layers.Activation('softmax'))\n",
        "\n",
        "opt = keras.optimizers.Adam(learning_rate=0.001)\n",
        "cnn_model_increasing.compile(loss='sparse_categorical_crossentropy', optimizer=opt, metrics=['accuracy'])\n",
        "cnn_model_increasing.build(input_shape=(1,28,28,1))\n",
        "cnn_model_increasing.summary()\n",
        "\n",
        "# Train the model.\n",
        "history_cnn_model_increasing = cnn_model_increasing.fit(\n",
        "                                                        x_train,\n",
        "                                                        train_labels, \n",
        "                                                        batch_size=512,\n",
        "                                                        epochs=20)\n"
      ],
      "metadata": {
        "id": "UMQKg5R6cQG-",
        "colab": {
          "base_uri": "https://localhost:8080/"
        },
        "outputId": "1c5dade2-e506-40f2-9826-99a45c2c3f3d"
      },
      "execution_count": 7,
      "outputs": [
        {
          "output_type": "stream",
          "name": "stdout",
          "text": [
            "Model: \"sequential_1\"\n",
            "_________________________________________________________________\n",
            " Layer (type)                Output Shape              Param #   \n",
            "=================================================================\n",
            " conv2d_10 (Conv2D)          (1, 28, 28, 16)           160       \n",
            "                                                                 \n",
            " conv2d_11 (Conv2D)          (1, 14, 14, 16)           2320      \n",
            "                                                                 \n",
            " max_pooling2d_5 (MaxPooling  (1, 7, 7, 16)            0         \n",
            " 2D)                                                             \n",
            "                                                                 \n",
            " conv2d_12 (Conv2D)          (1, 7, 7, 32)             4640      \n",
            "                                                                 \n",
            " conv2d_13 (Conv2D)          (1, 4, 4, 32)             9248      \n",
            "                                                                 \n",
            " max_pooling2d_6 (MaxPooling  (1, 2, 2, 32)            0         \n",
            " 2D)                                                             \n",
            "                                                                 \n",
            " conv2d_14 (Conv2D)          (1, 2, 2, 64)             18496     \n",
            "                                                                 \n",
            " conv2d_15 (Conv2D)          (1, 1, 1, 64)             36928     \n",
            "                                                                 \n",
            " max_pooling2d_7 (MaxPooling  (1, 1, 1, 64)            0         \n",
            " 2D)                                                             \n",
            "                                                                 \n",
            " conv2d_16 (Conv2D)          (1, 1, 1, 128)            73856     \n",
            "                                                                 \n",
            " conv2d_17 (Conv2D)          (1, 1, 1, 128)            147584    \n",
            "                                                                 \n",
            " max_pooling2d_8 (MaxPooling  (1, 1, 1, 128)           0         \n",
            " 2D)                                                             \n",
            "                                                                 \n",
            " conv2d_18 (Conv2D)          (1, 1, 1, 256)            295168    \n",
            "                                                                 \n",
            " max_pooling2d_9 (MaxPooling  (1, 1, 1, 256)           0         \n",
            " 2D)                                                             \n",
            "                                                                 \n",
            " conv2d_19 (Conv2D)          (1, 1, 1, 256)            590080    \n",
            "                                                                 \n",
            " flatten_1 (Flatten)         (1, 256)                  0         \n",
            "                                                                 \n",
            " dense_2 (Dense)             (1, 512)                  131584    \n",
            "                                                                 \n",
            " activation_2 (Activation)   (1, 512)                  0         \n",
            "                                                                 \n",
            " dense_3 (Dense)             (1, 10)                   5130      \n",
            "                                                                 \n",
            " activation_3 (Activation)   (1, 10)                   0         \n",
            "                                                                 \n",
            "=================================================================\n",
            "Total params: 1,315,194\n",
            "Trainable params: 1,315,194\n",
            "Non-trainable params: 0\n",
            "_________________________________________________________________\n",
            "Epoch 1/20\n",
            "118/118 [==============================] - 3s 17ms/step - loss: 1.8142 - accuracy: 0.2847\n",
            "Epoch 2/20\n",
            "118/118 [==============================] - 2s 16ms/step - loss: 0.9425 - accuracy: 0.6291\n",
            "Epoch 3/20\n",
            "118/118 [==============================] - 2s 16ms/step - loss: 0.5950 - accuracy: 0.7918\n",
            "Epoch 4/20\n",
            "118/118 [==============================] - 2s 16ms/step - loss: 0.3848 - accuracy: 0.8771\n",
            "Epoch 5/20\n",
            "118/118 [==============================] - 2s 15ms/step - loss: 0.2549 - accuracy: 0.9231\n",
            "Epoch 6/20\n",
            "118/118 [==============================] - 2s 16ms/step - loss: 0.1904 - accuracy: 0.9455\n",
            "Epoch 7/20\n",
            "118/118 [==============================] - 2s 16ms/step - loss: 0.1405 - accuracy: 0.9603\n",
            "Epoch 8/20\n",
            "118/118 [==============================] - 2s 16ms/step - loss: 0.1025 - accuracy: 0.9711\n",
            "Epoch 9/20\n",
            "118/118 [==============================] - 2s 15ms/step - loss: 0.0874 - accuracy: 0.9751\n",
            "Epoch 10/20\n",
            "118/118 [==============================] - 2s 16ms/step - loss: 0.0689 - accuracy: 0.9804\n",
            "Epoch 11/20\n",
            "118/118 [==============================] - 2s 16ms/step - loss: 0.0604 - accuracy: 0.9835\n",
            "Epoch 12/20\n",
            "118/118 [==============================] - 2s 16ms/step - loss: 0.0516 - accuracy: 0.9854\n",
            "Epoch 13/20\n",
            "118/118 [==============================] - 2s 16ms/step - loss: 0.0459 - accuracy: 0.9870\n",
            "Epoch 14/20\n",
            "118/118 [==============================] - 2s 15ms/step - loss: 0.0498 - accuracy: 0.9859\n",
            "Epoch 15/20\n",
            "118/118 [==============================] - 2s 16ms/step - loss: 0.0389 - accuracy: 0.9890\n",
            "Epoch 16/20\n",
            "118/118 [==============================] - 2s 16ms/step - loss: 0.0377 - accuracy: 0.9896\n",
            "Epoch 17/20\n",
            "118/118 [==============================] - 2s 16ms/step - loss: 0.0308 - accuracy: 0.9910\n",
            "Epoch 18/20\n",
            "118/118 [==============================] - 2s 16ms/step - loss: 0.0272 - accuracy: 0.9922\n",
            "Epoch 19/20\n",
            "118/118 [==============================] - 2s 16ms/step - loss: 0.0240 - accuracy: 0.9929\n",
            "Epoch 20/20\n",
            "118/118 [==============================] - 2s 16ms/step - loss: 0.0225 - accuracy: 0.9935\n"
          ]
        }
      ]
    },
    {
      "cell_type": "code",
      "source": [
        "# Plotting\n",
        "plt.plot(history_cnn_model_increasing.history['loss'])\n",
        "plt.title('Model MSE history on train data - Increasing Model')\n",
        "plt.ylabel('MSE')\n",
        "plt.xlabel('epoch')\n",
        "plt.show()\n",
        "\n",
        "# Evaluate\n",
        "score = cnn_model_increasing.evaluate(x_test, test_labels)\n",
        "print('Test Data loss:', score[0])\n",
        "print('Test Data accuracy:', score[1])"
      ],
      "metadata": {
        "colab": {
          "base_uri": "https://localhost:8080/",
          "height": 347
        },
        "id": "tlQnb-hdwnag",
        "outputId": "81adc3fc-6f29-459c-f343-17ab6c7f58f6"
      },
      "execution_count": 13,
      "outputs": [
        {
          "output_type": "display_data",
          "data": {
            "text/plain": [
              "<Figure size 432x288 with 1 Axes>"
            ],
            "image/png": "[encoded data removed]"
          },
          "metadata": {
            "needs_background": "light"
          }
        },
        {
          "output_type": "stream",
          "name": "stdout",
          "text": [
            "313/313 [==============================] - 1s 4ms/step - loss: 22.3711 - accuracy: 0.9668\n",
            "Test Data loss: 22.37113380432129\n",
            "Test Data accuracy: 0.9667999744415283\n"
          ]
        }
      ]
    },
    {
      "cell_type": "code",
      "source": [
        "cnn_model_decreasing = tf.keras.models.Sequential()\n",
        "cnn_model_decreasing.add(tf.keras.layers.Conv2D(256, (3, 3), padding='same', activation='relu'))\n",
        "cnn_model_decreasing.add(tf.keras.layers.Conv2D(256, (3, 3), strides=(2, 2), padding='same', activation='relu'))\n",
        "cnn_model_decreasing.add(tf.keras.layers.MaxPooling2D(pool_size=(2, 2), strides=(2,2), padding='same'))\n",
        "cnn_model_decreasing.add(tf.keras.layers.Conv2D(128, (3, 3), padding='same', activation='relu'))\n",
        "cnn_model_decreasing.add(tf.keras.layers.Conv2D(128, (3, 3), strides=(2, 2), padding='same', activation='relu'))\n",
        "cnn_model_decreasing.add(tf.keras.layers.MaxPooling2D(pool_size=(2, 2), strides=(2,2), padding='same'))\n",
        "cnn_model_decreasing.add(tf.keras.layers.Conv2D(64, (3, 3), padding='same', activation='relu'))\n",
        "cnn_model_decreasing.add(tf.keras.layers.Conv2D(64, (3, 3), strides=(2, 2), padding='same', activation='relu'))\n",
        "cnn_model_decreasing.add(tf.keras.layers.MaxPooling2D(pool_size=(2, 2), strides=(2,2), padding='same'))\n",
        "cnn_model_decreasing.add(tf.keras.layers.Conv2D(32, (3, 3), padding='same', activation='relu'))\n",
        "cnn_model_decreasing.add(tf.keras.layers.Conv2D(32, (3, 3), strides=(2, 2), padding='same', activation='relu'))\n",
        "cnn_model_decreasing.add(tf.keras.layers.MaxPooling2D(pool_size=(2, 2), strides=(2,2), padding='same'))\n",
        "cnn_model_decreasing.add(tf.keras.layers.Conv2D(16, (3, 3), padding='same', activation='relu'))\n",
        "cnn_model_decreasing.add(tf.keras.layers.MaxPooling2D(pool_size=(2, 2), strides=(2,2), padding='same'))\n",
        "cnn_model_decreasing.add(tf.keras.layers.Conv2D(16, (3, 3), strides=(2, 2), padding='same', activation='relu'))\n",
        "\n",
        "cnn_model_decreasing.add(tf.keras.layers.Flatten())\n",
        "cnn_model_decreasing.add(tf.keras.layers.Dense(512))\n",
        "cnn_model_decreasing.add(tf.keras.layers.Activation('relu'))\n",
        "cnn_model_decreasing.add(tf.keras.layers.Dense(10))\n",
        "cnn_model_decreasing.add(tf.keras.layers.Activation('softmax'))\n",
        "\n",
        "opt = keras.optimizers.Adam(learning_rate=0.001)\n",
        "cnn_model_decreasing.compile(loss='sparse_categorical_crossentropy', optimizer=opt, metrics=['accuracy'])\n",
        "cnn_model_decreasing.build(input_shape=(1,28,28,1))\n",
        "cnn_model_decreasing.summary()\n",
        "\n",
        "# Train the model.\n",
        "history_cnn_model_decreasing = cnn_model_decreasing.fit(\n",
        "    x_train,\n",
        "    train_labels, \n",
        "    batch_size=512,\n",
        "    epochs=20)\n"
      ],
      "metadata": {
        "colab": {
          "base_uri": "https://localhost:8080/"
        },
        "id": "hUCpo97p4QMo",
        "outputId": "794c1dca-d62b-4d73-f8ea-67f29825003f"
      },
      "execution_count": 22,
      "outputs": [
        {
          "output_type": "stream",
          "name": "stdout",
          "text": [
            "Model: \"sequential_7\"\n",
            "_________________________________________________________________\n",
            " Layer (type)                Output Shape              Param #   \n",
            "=================================================================\n",
            " conv2d_70 (Conv2D)          (1, 28, 28, 256)          2560      \n",
            "                                                                 \n",
            " conv2d_71 (Conv2D)          (1, 14, 14, 256)          590080    \n",
            "                                                                 \n",
            " max_pooling2d_35 (MaxPoolin  (1, 7, 7, 256)           0         \n",
            " g2D)                                                            \n",
            "                                                                 \n",
            " conv2d_72 (Conv2D)          (1, 7, 7, 128)            295040    \n",
            "                                                                 \n",
            " conv2d_73 (Conv2D)          (1, 4, 4, 128)            147584    \n",
            "                                                                 \n",
            " max_pooling2d_36 (MaxPoolin  (1, 2, 2, 128)           0         \n",
            " g2D)                                                            \n",
            "                                                                 \n",
            " conv2d_74 (Conv2D)          (1, 2, 2, 64)             73792     \n",
            "                                                                 \n",
            " conv2d_75 (Conv2D)          (1, 1, 1, 64)             36928     \n",
            "                                                                 \n",
            " max_pooling2d_37 (MaxPoolin  (1, 1, 1, 64)            0         \n",
            " g2D)                                                            \n",
            "                                                                 \n",
            " conv2d_76 (Conv2D)          (1, 1, 1, 32)             18464     \n",
            "                                                                 \n",
            " conv2d_77 (Conv2D)          (1, 1, 1, 32)             9248      \n",
            "                                                                 \n",
            " max_pooling2d_38 (MaxPoolin  (1, 1, 1, 32)            0         \n",
            " g2D)                                                            \n",
            "                                                                 \n",
            " conv2d_78 (Conv2D)          (1, 1, 1, 16)             4624      \n",
            "                                                                 \n",
            " max_pooling2d_39 (MaxPoolin  (1, 1, 1, 16)            0         \n",
            " g2D)                                                            \n",
            "                                                                 \n",
            " conv2d_79 (Conv2D)          (1, 1, 1, 16)             2320      \n",
            "                                                                 \n",
            " flatten_7 (Flatten)         (1, 16)                   0         \n",
            "                                                                 \n",
            " dense_14 (Dense)            (1, 512)                  8704      \n",
            "                                                                 \n",
            " activation_14 (Activation)  (1, 512)                  0         \n",
            "                                                                 \n",
            " dense_15 (Dense)            (1, 10)                   5130      \n",
            "                                                                 \n",
            " activation_15 (Activation)  (1, 10)                   0         \n",
            "                                                                 \n",
            "=================================================================\n",
            "Total params: 1,194,474\n",
            "Trainable params: 1,194,474\n",
            "Non-trainable params: 0\n",
            "_________________________________________________________________\n",
            "Epoch 1/20\n",
            "118/118 [==============================] - 20s 165ms/step - loss: 1.6376 - accuracy: 0.3527\n",
            "Epoch 2/20\n",
            "118/118 [==============================] - 20s 167ms/step - loss: 0.3833 - accuracy: 0.8766\n",
            "Epoch 3/20\n",
            "118/118 [==============================] - 20s 166ms/step - loss: 0.1539 - accuracy: 0.9554\n",
            "Epoch 4/20\n",
            "118/118 [==============================] - 20s 165ms/step - loss: 0.0990 - accuracy: 0.9710\n",
            "Epoch 5/20\n",
            "118/118 [==============================] - 20s 165ms/step - loss: 0.0751 - accuracy: 0.9781\n",
            "Epoch 6/20\n",
            "118/118 [==============================] - 20s 165ms/step - loss: 0.0581 - accuracy: 0.9831\n",
            "Epoch 7/20\n",
            "118/118 [==============================] - 20s 165ms/step - loss: 0.0450 - accuracy: 0.9870\n",
            "Epoch 8/20\n",
            "118/118 [==============================] - 19s 165ms/step - loss: 0.0366 - accuracy: 0.9892\n",
            "Epoch 9/20\n",
            "118/118 [==============================] - 20s 166ms/step - loss: 0.0329 - accuracy: 0.9900\n",
            "Epoch 10/20\n",
            "118/118 [==============================] - 19s 165ms/step - loss: 0.0240 - accuracy: 0.9929\n",
            "Epoch 11/20\n",
            "118/118 [==============================] - 19s 164ms/step - loss: 0.0319 - accuracy: 0.9902\n",
            "Epoch 12/20\n",
            "118/118 [==============================] - 19s 164ms/step - loss: 0.0190 - accuracy: 0.9942\n",
            "Epoch 13/20\n",
            "118/118 [==============================] - 19s 164ms/step - loss: 0.0172 - accuracy: 0.9947\n",
            "Epoch 14/20\n",
            "118/118 [==============================] - 19s 164ms/step - loss: 0.0163 - accuracy: 0.9951\n",
            "Epoch 15/20\n",
            "118/118 [==============================] - 19s 164ms/step - loss: 0.0144 - accuracy: 0.9955\n",
            "Epoch 16/20\n",
            "118/118 [==============================] - 19s 164ms/step - loss: 0.0141 - accuracy: 0.9955\n",
            "Epoch 17/20\n",
            "118/118 [==============================] - 19s 164ms/step - loss: 0.0098 - accuracy: 0.9971\n",
            "Epoch 18/20\n",
            "118/118 [==============================] - 19s 163ms/step - loss: 0.0148 - accuracy: 0.9954\n",
            "Epoch 19/20\n",
            "118/118 [==============================] - 19s 164ms/step - loss: 0.0083 - accuracy: 0.9975\n",
            "Epoch 20/20\n",
            "118/118 [==============================] - 19s 164ms/step - loss: 0.0064 - accuracy: 0.9981\n"
          ]
        }
      ]
    },
    {
      "cell_type": "code",
      "source": [
        "# Plotting\n",
        "plt.plot(history_cnn_model_decreasing.history['loss'])\n",
        "plt.title('Model MSE history on train data - Decreasing Model')\n",
        "plt.ylabel('MSE')\n",
        "plt.xlabel('epoch')\n",
        "plt.show()\n",
        "\n",
        "# Evaluate\n",
        "score = cnn_model_decreasing.evaluate(x_test, test_labels)\n",
        "print('Test Data loss:', score[0])\n",
        "print('Test Data accuracy:', score[1])"
      ],
      "metadata": {
        "colab": {
          "base_uri": "https://localhost:8080/",
          "height": 347
        },
        "id": "i3rW10UgxU4n",
        "outputId": "e94bbec9-6586-406e-8ed4-fc76116e8afd"
      },
      "execution_count": 23,
      "outputs": [
        {
          "output_type": "display_data",
          "data": {
            "text/plain": [
              "<Figure size 432x288 with 1 Axes>"
            ],
            "image/png": "[encoded data removed]"
          },
          "metadata": {
            "needs_background": "light"
          }
        },
        {
          "output_type": "stream",
          "name": "stdout",
          "text": [
            "313/313 [==============================] - 2s 5ms/step - loss: 7.8513 - accuracy: 0.9905\n",
            "Test Data loss: 7.851250648498535\n",
            "Test Data accuracy: 0.9904999732971191\n"
          ]
        }
      ]
    },
    {
      "cell_type": "code",
      "source": [
        "cnn_model_glass = tf.keras.models.Sequential()\n",
        "cnn_model_glass.add(tf.keras.layers.Conv2D(64, (3, 3), padding='same', activation='relu'))\n",
        "cnn_model_glass.add(tf.keras.layers.Conv2D(64, (3, 3), strides=(2, 2), padding='same', activation='relu'))\n",
        "cnn_model_glass.add(tf.keras.layers.MaxPooling2D(pool_size=(2, 2), strides=(2,2), padding='same'))\n",
        "cnn_model_glass.add(tf.keras.layers.Conv2D(128, (3, 3), padding='same', activation='relu'))\n",
        "cnn_model_glass.add(tf.keras.layers.Conv2D(128, (3, 3), strides=(2, 2), padding='same', activation='relu'))\n",
        "cnn_model_glass.add(tf.keras.layers.MaxPooling2D(pool_size=(2, 2), strides=(2,2), padding='same'))\n",
        "cnn_model_glass.add(tf.keras.layers.Conv2D(256, (3, 3), padding='same', activation='relu'))\n",
        "cnn_model_glass.add(tf.keras.layers.Conv2D(256, (3, 3), strides=(2, 2), padding='same', activation='relu'))\n",
        "cnn_model_glass.add(tf.keras.layers.MaxPooling2D(pool_size=(2, 2), strides=(2,2), padding='same'))\n",
        "cnn_model_glass.add(tf.keras.layers.Conv2D(128, (3, 3), padding='same', activation='relu'))\n",
        "cnn_model_glass.add(tf.keras.layers.Conv2D(128, (3, 3), strides=(2, 2), padding='same', activation='relu'))\n",
        "cnn_model_glass.add(tf.keras.layers.MaxPooling2D(pool_size=(2, 2), strides=(2,2), padding='same'))\n",
        "cnn_model_glass.add(tf.keras.layers.Conv2D(64, (3, 3), padding='same', activation='relu'))\n",
        "cnn_model_glass.add(tf.keras.layers.MaxPooling2D(pool_size=(2, 2), strides=(2,2), padding='same'))\n",
        "cnn_model_glass.add(tf.keras.layers.Conv2D(64, (3, 3), strides=(2, 2), padding='same', activation='relu'))\n",
        "\n",
        "cnn_model_glass.add(tf.keras.layers.Flatten())\n",
        "cnn_model_glass.add(tf.keras.layers.Dense(512))\n",
        "cnn_model_glass.add(tf.keras.layers.Activation('relu'))\n",
        "cnn_model_glass.add(tf.keras.layers.Dense(10))\n",
        "cnn_model_glass.add(tf.keras.layers.Activation('softmax'))\n",
        "\n",
        "opt = keras.optimizers.Adam(learning_rate=0.001)\n",
        "cnn_model_glass.compile(loss='sparse_categorical_crossentropy', optimizer=opt, metrics=['accuracy'])\n",
        "cnn_model_glass.build(input_shape=(1,28,28,1))\n",
        "cnn_model_glass.summary()\n",
        "\n",
        "# Train the model.\n",
        "history_cnn_model_glass = cnn_model_glass.fit(\n",
        "    x_train,\n",
        "    train_labels, \n",
        "    batch_size=512,\n",
        "    epochs=20)\n",
        "\n"
      ],
      "metadata": {
        "colab": {
          "base_uri": "https://localhost:8080/"
        },
        "id": "3-4Ss6sA4Vsb",
        "outputId": "dbe41b7e-009c-4d2a-fb7a-40ef170a668e"
      },
      "execution_count": 31,
      "outputs": [
        {
          "output_type": "stream",
          "name": "stdout",
          "text": [
            "Model: \"sequential_12\"\n",
            "_________________________________________________________________\n",
            " Layer (type)                Output Shape              Param #   \n",
            "=================================================================\n",
            " conv2d_120 (Conv2D)         (1, 28, 28, 64)           640       \n",
            "                                                                 \n",
            " conv2d_121 (Conv2D)         (1, 14, 14, 64)           36928     \n",
            "                                                                 \n",
            " max_pooling2d_60 (MaxPoolin  (1, 7, 7, 64)            0         \n",
            " g2D)                                                            \n",
            "                                                                 \n",
            " conv2d_122 (Conv2D)         (1, 7, 7, 128)            73856     \n",
            "                                                                 \n",
            " conv2d_123 (Conv2D)         (1, 4, 4, 128)            147584    \n",
            "                                                                 \n",
            " max_pooling2d_61 (MaxPoolin  (1, 2, 2, 128)           0         \n",
            " g2D)                                                            \n",
            "                                                                 \n",
            " conv2d_124 (Conv2D)         (1, 2, 2, 256)            295168    \n",
            "                                                                 \n",
            " conv2d_125 (Conv2D)         (1, 1, 1, 256)            590080    \n",
            "                                                                 \n",
            " max_pooling2d_62 (MaxPoolin  (1, 1, 1, 256)           0         \n",
            " g2D)                                                            \n",
            "                                                                 \n",
            " conv2d_126 (Conv2D)         (1, 1, 1, 128)            295040    \n",
            "                                                                 \n",
            " conv2d_127 (Conv2D)         (1, 1, 1, 128)            147584    \n",
            "                                                                 \n",
            " max_pooling2d_63 (MaxPoolin  (1, 1, 1, 128)           0         \n",
            " g2D)                                                            \n",
            "                                                                 \n",
            " conv2d_128 (Conv2D)         (1, 1, 1, 64)             73792     \n",
            "                                                                 \n",
            " max_pooling2d_64 (MaxPoolin  (1, 1, 1, 64)            0         \n",
            " g2D)                                                            \n",
            "                                                                 \n",
            " conv2d_129 (Conv2D)         (1, 1, 1, 64)             36928     \n",
            "                                                                 \n",
            " flatten_12 (Flatten)        (1, 64)                   0         \n",
            "                                                                 \n",
            " dense_24 (Dense)            (1, 512)                  33280     \n",
            "                                                                 \n",
            " activation_24 (Activation)  (1, 512)                  0         \n",
            "                                                                 \n",
            " dense_25 (Dense)            (1, 10)                   5130      \n",
            "                                                                 \n",
            " activation_25 (Activation)  (1, 10)                   0         \n",
            "                                                                 \n",
            "=================================================================\n",
            "Total params: 1,736,010\n",
            "Trainable params: 1,736,010\n",
            "Non-trainable params: 0\n",
            "_________________________________________________________________\n",
            "Epoch 1/20\n",
            "118/118 [==============================] - 6s 41ms/step - loss: 1.4145 - accuracy: 0.4598\n",
            "Epoch 2/20\n",
            "118/118 [==============================] - 5s 40ms/step - loss: 0.2140 - accuracy: 0.9370\n",
            "Epoch 3/20\n",
            "118/118 [==============================] - 5s 41ms/step - loss: 0.0981 - accuracy: 0.9716\n",
            "Epoch 4/20\n",
            "118/118 [==============================] - 5s 44ms/step - loss: 0.0696 - accuracy: 0.9806\n",
            "Epoch 5/20\n",
            "118/118 [==============================] - 5s 46ms/step - loss: 0.0496 - accuracy: 0.9859\n",
            "Epoch 6/20\n",
            "118/118 [==============================] - 5s 46ms/step - loss: 0.0424 - accuracy: 0.9879\n",
            "Epoch 7/20\n",
            "118/118 [==============================] - 5s 46ms/step - loss: 0.0339 - accuracy: 0.9906\n",
            "Epoch 8/20\n",
            "118/118 [==============================] - 5s 44ms/step - loss: 0.0282 - accuracy: 0.9925\n",
            "Epoch 9/20\n",
            "118/118 [==============================] - 5s 45ms/step - loss: 0.0243 - accuracy: 0.9934\n",
            "Epoch 10/20\n",
            "118/118 [==============================] - 5s 43ms/step - loss: 0.0241 - accuracy: 0.9934\n",
            "Epoch 11/20\n",
            "118/118 [==============================] - 5s 44ms/step - loss: 0.0188 - accuracy: 0.9944\n",
            "Epoch 12/20\n",
            "118/118 [==============================] - 5s 43ms/step - loss: 0.0213 - accuracy: 0.9942\n",
            "Epoch 13/20\n",
            "118/118 [==============================] - 5s 42ms/step - loss: 0.0154 - accuracy: 0.9956\n",
            "Epoch 14/20\n",
            "118/118 [==============================] - 5s 41ms/step - loss: 0.0144 - accuracy: 0.9959\n",
            "Epoch 15/20\n",
            "118/118 [==============================] - 5s 41ms/step - loss: 0.0126 - accuracy: 0.9964\n",
            "Epoch 16/20\n",
            "118/118 [==============================] - 5s 41ms/step - loss: 0.0124 - accuracy: 0.9968\n",
            "Epoch 17/20\n",
            "118/118 [==============================] - 5s 42ms/step - loss: 0.0100 - accuracy: 0.9972\n",
            "Epoch 18/20\n",
            "118/118 [==============================] - 5s 43ms/step - loss: 0.0104 - accuracy: 0.9973\n",
            "Epoch 19/20\n",
            "118/118 [==============================] - 5s 41ms/step - loss: 0.0114 - accuracy: 0.9970\n",
            "Epoch 20/20\n",
            "118/118 [==============================] - 5s 41ms/step - loss: 0.0051 - accuracy: 0.9985\n"
          ]
        }
      ]
    },
    {
      "cell_type": "code",
      "source": [
        "# Plotting\n",
        "plt.plot(history_cnn_model_glass.history['loss'])\n",
        "plt.title('Model MSE history on train data - Glass Model')\n",
        "plt.ylabel('MSE')\n",
        "plt.xlabel('epoch')\n",
        "plt.show()\n",
        "\n",
        "# Evaluate\n",
        "score = cnn_model_glass.evaluate(x_test, test_labels)\n",
        "print('Test Data loss:', score[0])\n",
        "print('Test Data accuracy:', score[1])"
      ],
      "metadata": {
        "colab": {
          "base_uri": "https://localhost:8080/",
          "height": 347
        },
        "id": "UvHj9njsxpRN",
        "outputId": "c5bcf0a2-4b79-43f9-ff6e-afb26769c563"
      },
      "execution_count": 32,
      "outputs": [
        {
          "output_type": "display_data",
          "data": {
            "text/plain": [
              "<Figure size 432x288 with 1 Axes>"
            ],
            "image/png": "[encoded data removed]"
          },
          "metadata": {
            "needs_background": "light"
          }
        },
        {
          "output_type": "stream",
          "name": "stdout",
          "text": [
            "313/313 [==============================] - 1s 4ms/step - loss: 9.2376 - accuracy: 0.9901\n",
            "Test Data loss: 9.237592697143555\n",
            "Test Data accuracy: 0.9901000261306763\n"
          ]
        }
      ]
    },
    {
      "cell_type": "code",
      "source": [
        "cnn_model_decreasing_lr_0_01 = tf.keras.models.Sequential()\n",
        "cnn_model_decreasing_lr_0_01.add(tf.keras.layers.Conv2D(256, (3, 3), padding='same', activation='relu'))\n",
        "cnn_model_decreasing_lr_0_01.add(tf.keras.layers.Conv2D(256, (3, 3), strides=(2, 2), padding='same', activation='relu'))\n",
        "cnn_model_decreasing_lr_0_01.add(tf.keras.layers.MaxPooling2D(pool_size=(2, 2), strides=(2,2), padding='same'))\n",
        "cnn_model_decreasing_lr_0_01.add(tf.keras.layers.Conv2D(128, (3, 3), padding='same', activation='relu'))\n",
        "cnn_model_decreasing_lr_0_01.add(tf.keras.layers.Conv2D(128, (3, 3), strides=(2, 2), padding='same', activation='relu'))\n",
        "cnn_model_decreasing_lr_0_01.add(tf.keras.layers.MaxPooling2D(pool_size=(2, 2), strides=(2,2), padding='same'))\n",
        "cnn_model_decreasing_lr_0_01.add(tf.keras.layers.Conv2D(64, (3, 3), padding='same', activation='relu'))\n",
        "cnn_model_decreasing_lr_0_01.add(tf.keras.layers.Conv2D(64, (3, 3), strides=(2, 2), padding='same', activation='relu'))\n",
        "cnn_model_decreasing_lr_0_01.add(tf.keras.layers.MaxPooling2D(pool_size=(2, 2), strides=(2,2), padding='same'))\n",
        "cnn_model_decreasing_lr_0_01.add(tf.keras.layers.Conv2D(32, (3, 3), padding='same', activation='relu'))\n",
        "cnn_model_decreasing_lr_0_01.add(tf.keras.layers.Conv2D(32, (3, 3), strides=(2, 2), padding='same', activation='relu'))\n",
        "cnn_model_decreasing_lr_0_01.add(tf.keras.layers.MaxPooling2D(pool_size=(2, 2), strides=(2,2), padding='same'))\n",
        "cnn_model_decreasing_lr_0_01.add(tf.keras.layers.Conv2D(16, (3, 3), padding='same', activation='relu'))\n",
        "cnn_model_decreasing_lr_0_01.add(tf.keras.layers.MaxPooling2D(pool_size=(2, 2), strides=(2,2), padding='same'))\n",
        "cnn_model_decreasing_lr_0_01.add(tf.keras.layers.Conv2D(16, (3, 3), strides=(2, 2), padding='same', activation='relu'))\n",
        "\n",
        "cnn_model_decreasing_lr_0_01.add(tf.keras.layers.Flatten())\n",
        "cnn_model_decreasing_lr_0_01.add(tf.keras.layers.Dense(512))\n",
        "cnn_model_decreasing_lr_0_01.add(tf.keras.layers.Activation('relu'))\n",
        "cnn_model_decreasing_lr_0_01.add(tf.keras.layers.Dense(10))\n",
        "cnn_model_decreasing_lr_0_01.add(tf.keras.layers.Activation('softmax'))\n",
        "\n",
        "opt = keras.optimizers.Adam(learning_rate=0.01)\n",
        "cnn_model_decreasing_lr_0_01.compile(loss='sparse_categorical_crossentropy', optimizer=opt, metrics=['accuracy'])\n",
        "cnn_model_decreasing_lr_0_01.build(input_shape=(1,28,28,1))\n",
        "cnn_model_decreasing_lr_0_01.summary()\n",
        "\n",
        "# Train the model.\n",
        "history_cnn_model_decreasing_lr_0_01 = cnn_model_decreasing_lr_0_01.fit(\n",
        "    x_train,\n",
        "    train_labels, \n",
        "    batch_size=512,\n",
        "    epochs=20)\n",
        "\n"
      ],
      "metadata": {
        "colab": {
          "base_uri": "https://localhost:8080/"
        },
        "id": "2YDC1wKGkrTz",
        "outputId": "07680630-9df5-4322-ded2-ffc167cdc2c8"
      },
      "execution_count": 6,
      "outputs": [
        {
          "output_type": "stream",
          "name": "stdout",
          "text": [
            "Model: \"sequential\"\n",
            "_________________________________________________________________\n",
            " Layer (type)                Output Shape              Param #   \n",
            "=================================================================\n",
            " conv2d (Conv2D)             (1, 28, 28, 256)          2560      \n",
            "                                                                 \n",
            " conv2d_1 (Conv2D)           (1, 14, 14, 256)          590080    \n",
            "                                                                 \n",
            " max_pooling2d (MaxPooling2D  (1, 7, 7, 256)           0         \n",
            " )                                                               \n",
            "                                                                 \n",
            " conv2d_2 (Conv2D)           (1, 7, 7, 128)            295040    \n",
            "                                                                 \n",
            " conv2d_3 (Conv2D)           (1, 4, 4, 128)            147584    \n",
            "                                                                 \n",
            " max_pooling2d_1 (MaxPooling  (1, 2, 2, 128)           0         \n",
            " 2D)                                                             \n",
            "                                                                 \n",
            " conv2d_4 (Conv2D)           (1, 2, 2, 64)             73792     \n",
            "                                                                 \n",
            " conv2d_5 (Conv2D)           (1, 1, 1, 64)             36928     \n",
            "                                                                 \n",
            " max_pooling2d_2 (MaxPooling  (1, 1, 1, 64)            0         \n",
            " 2D)                                                             \n",
            "                                                                 \n",
            " conv2d_6 (Conv2D)           (1, 1, 1, 32)             18464     \n",
            "                                                                 \n",
            " conv2d_7 (Conv2D)           (1, 1, 1, 32)             9248      \n",
            "                                                                 \n",
            " max_pooling2d_3 (MaxPooling  (1, 1, 1, 32)            0         \n",
            " 2D)                                                             \n",
            "                                                                 \n",
            " conv2d_8 (Conv2D)           (1, 1, 1, 16)             4624      \n",
            "                                                                 \n",
            " max_pooling2d_4 (MaxPooling  (1, 1, 1, 16)            0         \n",
            " 2D)                                                             \n",
            "                                                                 \n",
            " conv2d_9 (Conv2D)           (1, 1, 1, 16)             2320      \n",
            "                                                                 \n",
            " flatten (Flatten)           (1, 16)                   0         \n",
            "                                                                 \n",
            " dense (Dense)               (1, 512)                  8704      \n",
            "                                                                 \n",
            " activation (Activation)     (1, 512)                  0         \n",
            "                                                                 \n",
            " dense_1 (Dense)             (1, 10)                   5130      \n",
            "                                                                 \n",
            " activation_1 (Activation)   (1, 10)                   0         \n",
            "                                                                 \n",
            "=================================================================\n",
            "Total params: 1,194,474\n",
            "Trainable params: 1,194,474\n",
            "Non-trainable params: 0\n",
            "_________________________________________________________________\n",
            "Epoch 1/20\n",
            "118/118 [==============================] - 29s 158ms/step - loss: 2.3051 - accuracy: 0.1099\n",
            "Epoch 2/20\n",
            "118/118 [==============================] - 18s 148ms/step - loss: 2.3015 - accuracy: 0.1124\n",
            "Epoch 3/20\n",
            "118/118 [==============================] - 18s 150ms/step - loss: 2.3015 - accuracy: 0.1124\n",
            "Epoch 4/20\n",
            "118/118 [==============================] - 17s 148ms/step - loss: 2.3015 - accuracy: 0.1124\n",
            "Epoch 5/20\n",
            "118/118 [==============================] - 17s 148ms/step - loss: 2.3015 - accuracy: 0.1124\n",
            "Epoch 6/20\n",
            "118/118 [==============================] - 17s 148ms/step - loss: 2.3015 - accuracy: 0.1124\n",
            "Epoch 7/20\n",
            "118/118 [==============================] - 18s 150ms/step - loss: 2.3015 - accuracy: 0.1124\n",
            "Epoch 8/20\n",
            "118/118 [==============================] - 18s 150ms/step - loss: 2.3016 - accuracy: 0.1120\n",
            "Epoch 9/20\n",
            "118/118 [==============================] - 18s 149ms/step - loss: 2.3016 - accuracy: 0.1124\n",
            "Epoch 10/20\n",
            "118/118 [==============================] - 18s 152ms/step - loss: 2.3015 - accuracy: 0.1124\n",
            "Epoch 11/20\n",
            "118/118 [==============================] - 18s 152ms/step - loss: 2.3015 - accuracy: 0.1124\n",
            "Epoch 12/20\n",
            "118/118 [==============================] - 18s 150ms/step - loss: 2.3016 - accuracy: 0.1124\n",
            "Epoch 13/20\n",
            "118/118 [==============================] - 18s 150ms/step - loss: 2.3015 - accuracy: 0.1115\n",
            "Epoch 14/20\n",
            "118/118 [==============================] - 18s 150ms/step - loss: 2.3015 - accuracy: 0.1124\n",
            "Epoch 15/20\n",
            "118/118 [==============================] - 18s 150ms/step - loss: 2.3014 - accuracy: 0.1124\n",
            "Epoch 16/20\n",
            "118/118 [==============================] - 18s 151ms/step - loss: 2.3016 - accuracy: 0.1115\n",
            "Epoch 17/20\n",
            "118/118 [==============================] - 18s 153ms/step - loss: 2.3015 - accuracy: 0.1124\n",
            "Epoch 18/20\n",
            "118/118 [==============================] - 18s 151ms/step - loss: 2.3017 - accuracy: 0.1124\n",
            "Epoch 19/20\n",
            "118/118 [==============================] - 18s 151ms/step - loss: 2.3016 - accuracy: 0.1124\n",
            "Epoch 20/20\n",
            "118/118 [==============================] - 18s 152ms/step - loss: 2.3016 - accuracy: 0.1124\n"
          ]
        }
      ]
    },
    {
      "cell_type": "code",
      "source": [
        "# Plotting\n",
        "plt.plot(history_cnn_model_decreasing_lr_0_01.history['loss'])\n",
        "plt.title('Model MSE history on train data - Lr 0.01')\n",
        "plt.ylabel('MSE')\n",
        "plt.xlabel('epoch')\n",
        "plt.show()\n",
        "\n",
        "# Evaluate\n",
        "score = cnn_model_decreasing_lr_0_01.evaluate(x_test, test_labels)\n",
        "print('Test Data loss:', score[0])\n",
        "print('Test Data accuracy:', score[1])"
      ],
      "metadata": {
        "colab": {
          "base_uri": "https://localhost:8080/",
          "height": 347
        },
        "id": "1nSD_FSlAjJa",
        "outputId": "dc5190eb-c8e8-46ce-c9c7-994aab704258"
      },
      "execution_count": 12,
      "outputs": [
        {
          "output_type": "display_data",
          "data": {
            "text/plain": [
              "<Figure size 432x288 with 1 Axes>"
            ],
            "image/png": "[encoded data removed]"
          },
          "metadata": {
            "needs_background": "light"
          }
        },
        {
          "output_type": "stream",
          "name": "stdout",
          "text": [
            "313/313 [==============================] - 2s 5ms/step - loss: 2.3016 - accuracy: 0.1135\n",
            "Test Data loss: 2.301597833633423\n",
            "Test Data accuracy: 0.11349999904632568\n"
          ]
        }
      ]
    },
    {
      "cell_type": "code",
      "source": [
        "cnn_model_decreasing_lr_0_0001 = tf.keras.models.Sequential()\n",
        "cnn_model_decreasing_lr_0_0001.add(tf.keras.layers.Conv2D(256, (3, 3), padding='same', activation='relu'))\n",
        "cnn_model_decreasing_lr_0_0001.add(tf.keras.layers.Conv2D(256, (3, 3), strides=(2, 2), padding='same', activation='relu'))\n",
        "cnn_model_decreasing_lr_0_0001.add(tf.keras.layers.MaxPooling2D(pool_size=(2, 2), strides=(2,2), padding='same'))\n",
        "cnn_model_decreasing_lr_0_0001.add(tf.keras.layers.Conv2D(128, (3, 3), padding='same', activation='relu'))\n",
        "cnn_model_decreasing_lr_0_0001.add(tf.keras.layers.Conv2D(128, (3, 3), strides=(2, 2), padding='same', activation='relu'))\n",
        "cnn_model_decreasing_lr_0_0001.add(tf.keras.layers.MaxPooling2D(pool_size=(2, 2), strides=(2,2), padding='same'))\n",
        "cnn_model_decreasing_lr_0_0001.add(tf.keras.layers.Conv2D(64, (3, 3), padding='same', activation='relu'))\n",
        "cnn_model_decreasing_lr_0_0001.add(tf.keras.layers.Conv2D(64, (3, 3), strides=(2, 2), padding='same', activation='relu'))\n",
        "cnn_model_decreasing_lr_0_0001.add(tf.keras.layers.MaxPooling2D(pool_size=(2, 2), strides=(2,2), padding='same'))\n",
        "cnn_model_decreasing_lr_0_0001.add(tf.keras.layers.Conv2D(32, (3, 3), padding='same', activation='relu'))\n",
        "cnn_model_decreasing_lr_0_0001.add(tf.keras.layers.Conv2D(32, (3, 3), strides=(2, 2), padding='same', activation='relu'))\n",
        "cnn_model_decreasing_lr_0_0001.add(tf.keras.layers.MaxPooling2D(pool_size=(2, 2), strides=(2,2), padding='same'))\n",
        "cnn_model_decreasing_lr_0_0001.add(tf.keras.layers.Conv2D(16, (3, 3), padding='same', activation='relu'))\n",
        "cnn_model_decreasing_lr_0_0001.add(tf.keras.layers.MaxPooling2D(pool_size=(2, 2), strides=(2,2), padding='same'))\n",
        "cnn_model_decreasing_lr_0_0001.add(tf.keras.layers.Conv2D(16, (3, 3), strides=(2, 2), padding='same', activation='relu'))\n",
        "\n",
        "cnn_model_decreasing_lr_0_0001.add(tf.keras.layers.Flatten())\n",
        "cnn_model_decreasing_lr_0_0001.add(tf.keras.layers.Dense(512))\n",
        "cnn_model_decreasing_lr_0_0001.add(tf.keras.layers.Activation('relu'))\n",
        "cnn_model_decreasing_lr_0_0001.add(tf.keras.layers.Dense(10))\n",
        "cnn_model_decreasing_lr_0_0001.add(tf.keras.layers.Activation('softmax'))\n",
        "\n",
        "opt = keras.optimizers.Adam(learning_rate=0.0001)\n",
        "cnn_model_decreasing_lr_0_0001.compile(loss='sparse_categorical_crossentropy', optimizer=opt, metrics=['accuracy'])\n",
        "cnn_model_decreasing_lr_0_0001.build(input_shape=(1,28,28,1))\n",
        "cnn_model_decreasing_lr_0_0001.summary()\n",
        "\n",
        "# Train the model.\n",
        "history_cnn_model_decreasing_lr_0_0001 = cnn_model_decreasing_lr_0_0001.fit(\n",
        "    x_train,\n",
        "    train_labels, \n",
        "    batch_size=512,\n",
        "    epochs=20)\n"
      ],
      "metadata": {
        "colab": {
          "base_uri": "https://localhost:8080/"
        },
        "id": "obxTklkIcYbH",
        "outputId": "25b2d6ce-dd08-438d-a1b7-4e6fa9abbe91"
      },
      "execution_count": 13,
      "outputs": [
        {
          "output_type": "stream",
          "name": "stdout",
          "text": [
            "Model: \"sequential_3\"\n",
            "_________________________________________________________________\n",
            " Layer (type)                Output Shape              Param #   \n",
            "=================================================================\n",
            " conv2d_30 (Conv2D)          (1, 28, 28, 256)          2560      \n",
            "                                                                 \n",
            " conv2d_31 (Conv2D)          (1, 14, 14, 256)          590080    \n",
            "                                                                 \n",
            " max_pooling2d_15 (MaxPoolin  (1, 7, 7, 256)           0         \n",
            " g2D)                                                            \n",
            "                                                                 \n",
            " conv2d_32 (Conv2D)          (1, 7, 7, 128)            295040    \n",
            "                                                                 \n",
            " conv2d_33 (Conv2D)          (1, 4, 4, 128)            147584    \n",
            "                                                                 \n",
            " max_pooling2d_16 (MaxPoolin  (1, 2, 2, 128)           0         \n",
            " g2D)                                                            \n",
            "                                                                 \n",
            " conv2d_34 (Conv2D)          (1, 2, 2, 64)             73792     \n",
            "                                                                 \n",
            " conv2d_35 (Conv2D)          (1, 1, 1, 64)             36928     \n",
            "                                                                 \n",
            " max_pooling2d_17 (MaxPoolin  (1, 1, 1, 64)            0         \n",
            " g2D)                                                            \n",
            "                                                                 \n",
            " conv2d_36 (Conv2D)          (1, 1, 1, 32)             18464     \n",
            "                                                                 \n",
            " conv2d_37 (Conv2D)          (1, 1, 1, 32)             9248      \n",
            "                                                                 \n",
            " max_pooling2d_18 (MaxPoolin  (1, 1, 1, 32)            0         \n",
            " g2D)                                                            \n",
            "                                                                 \n",
            " conv2d_38 (Conv2D)          (1, 1, 1, 16)             4624      \n",
            "                                                                 \n",
            " max_pooling2d_19 (MaxPoolin  (1, 1, 1, 16)            0         \n",
            " g2D)                                                            \n",
            "                                                                 \n",
            " conv2d_39 (Conv2D)          (1, 1, 1, 16)             2320      \n",
            "                                                                 \n",
            " flatten_3 (Flatten)         (1, 16)                   0         \n",
            "                                                                 \n",
            " dense_6 (Dense)             (1, 512)                  8704      \n",
            "                                                                 \n",
            " activation_6 (Activation)   (1, 512)                  0         \n",
            "                                                                 \n",
            " dense_7 (Dense)             (1, 10)                   5130      \n",
            "                                                                 \n",
            " activation_7 (Activation)   (1, 10)                   0         \n",
            "                                                                 \n",
            "=================================================================\n",
            "Total params: 1,194,474\n",
            "Trainable params: 1,194,474\n",
            "Non-trainable params: 0\n",
            "_________________________________________________________________\n",
            "Epoch 1/20\n",
            "118/118 [==============================] - 20s 165ms/step - loss: 2.2955 - accuracy: 0.1172\n",
            "Epoch 2/20\n",
            "118/118 [==============================] - 20s 166ms/step - loss: 1.5974 - accuracy: 0.3866\n",
            "Epoch 3/20\n",
            "118/118 [==============================] - 20s 167ms/step - loss: 0.9030 - accuracy: 0.6712\n",
            "Epoch 4/20\n",
            "118/118 [==============================] - 20s 167ms/step - loss: 0.6227 - accuracy: 0.7929\n",
            "Epoch 5/20\n",
            "118/118 [==============================] - 20s 168ms/step - loss: 0.4924 - accuracy: 0.8442\n",
            "Epoch 6/20\n",
            "118/118 [==============================] - 20s 167ms/step - loss: 0.4099 - accuracy: 0.8732\n",
            "Epoch 7/20\n",
            "118/118 [==============================] - 20s 168ms/step - loss: 0.3552 - accuracy: 0.8908\n",
            "Epoch 8/20\n",
            "118/118 [==============================] - 20s 168ms/step - loss: 0.3080 - accuracy: 0.9059\n",
            "Epoch 9/20\n",
            "118/118 [==============================] - 20s 166ms/step - loss: 0.2704 - accuracy: 0.9191\n",
            "Epoch 10/20\n",
            "118/118 [==============================] - 20s 168ms/step - loss: 0.2351 - accuracy: 0.9293\n",
            "Epoch 11/20\n",
            "118/118 [==============================] - 20s 168ms/step - loss: 0.2134 - accuracy: 0.9355\n",
            "Epoch 12/20\n",
            "118/118 [==============================] - 20s 167ms/step - loss: 0.1986 - accuracy: 0.9407\n",
            "Epoch 13/20\n",
            "118/118 [==============================] - 20s 167ms/step - loss: 0.1721 - accuracy: 0.9489\n",
            "Epoch 14/20\n",
            "118/118 [==============================] - 20s 167ms/step - loss: 0.1625 - accuracy: 0.9513\n",
            "Epoch 15/20\n",
            "118/118 [==============================] - 20s 167ms/step - loss: 0.1481 - accuracy: 0.9559\n",
            "Epoch 16/20\n",
            "118/118 [==============================] - 20s 167ms/step - loss: 0.1365 - accuracy: 0.9583\n",
            "Epoch 17/20\n",
            "118/118 [==============================] - 20s 167ms/step - loss: 0.1278 - accuracy: 0.9620\n",
            "Epoch 18/20\n",
            "118/118 [==============================] - 20s 168ms/step - loss: 0.1283 - accuracy: 0.9611\n",
            "Epoch 19/20\n",
            "118/118 [==============================] - 20s 168ms/step - loss: 0.1111 - accuracy: 0.9668\n",
            "Epoch 20/20\n",
            "118/118 [==============================] - 20s 167ms/step - loss: 0.1076 - accuracy: 0.9679\n"
          ]
        }
      ]
    },
    {
      "cell_type": "code",
      "source": [
        "# Plotting\n",
        "plt.plot(history_cnn_model_decreasing_lr_0_0001.history['loss'])\n",
        "plt.title('Model MSE history on train data - Lr 0.0001')\n",
        "plt.ylabel('MSE')\n",
        "plt.xlabel('epoch')\n",
        "plt.show()\n",
        "\n",
        "# Evaluate\n",
        "score = cnn_model_decreasing_lr_0_0001.evaluate(x_test, test_labels)\n",
        "print('Test Data loss:', score[0])\n",
        "print('Test Data accuracy:', score[1])"
      ],
      "metadata": {
        "colab": {
          "base_uri": "https://localhost:8080/",
          "height": 347
        },
        "id": "Fvy4Wh65A0j5",
        "outputId": "360ceb5b-eb2f-41c2-c6b9-438c6d5488ff"
      },
      "execution_count": 14,
      "outputs": [
        {
          "output_type": "display_data",
          "data": {
            "text/plain": [
              "<Figure size 432x288 with 1 Axes>"
            ],
            "image/png": "[encoded data removed]"
          },
          "metadata": {
            "needs_background": "light"
          }
        },
        {
          "output_type": "stream",
          "name": "stdout",
          "text": [
            "313/313 [==============================] - 2s 6ms/step - loss: 20.2689 - accuracy: 0.9623\n",
            "Test Data loss: 20.268939971923828\n",
            "Test Data accuracy: 0.9623000025749207\n"
          ]
        }
      ]
    },
    {
      "cell_type": "code",
      "source": [
        "cnn_model_decreasing_batch_256 = tf.keras.models.Sequential()\n",
        "cnn_model_decreasing_batch_256.add(tf.keras.layers.Conv2D(256, (3, 3), padding='same', activation='relu'))\n",
        "cnn_model_decreasing_batch_256.add(tf.keras.layers.Conv2D(256, (3, 3), strides=(2, 2), padding='same', activation='relu'))\n",
        "cnn_model_decreasing_batch_256.add(tf.keras.layers.MaxPooling2D(pool_size=(2, 2), strides=(2,2), padding='same'))\n",
        "cnn_model_decreasing_batch_256.add(tf.keras.layers.Conv2D(128, (3, 3), padding='same', activation='relu'))\n",
        "cnn_model_decreasing_batch_256.add(tf.keras.layers.Conv2D(128, (3, 3), strides=(2, 2), padding='same', activation='relu'))\n",
        "cnn_model_decreasing_batch_256.add(tf.keras.layers.MaxPooling2D(pool_size=(2, 2), strides=(2,2), padding='same'))\n",
        "cnn_model_decreasing_batch_256.add(tf.keras.layers.Conv2D(64, (3, 3), padding='same', activation='relu'))\n",
        "cnn_model_decreasing_batch_256.add(tf.keras.layers.Conv2D(64, (3, 3), strides=(2, 2), padding='same', activation='relu'))\n",
        "cnn_model_decreasing_batch_256.add(tf.keras.layers.MaxPooling2D(pool_size=(2, 2), strides=(2,2), padding='same'))\n",
        "cnn_model_decreasing_batch_256.add(tf.keras.layers.Conv2D(32, (3, 3), padding='same', activation='relu'))\n",
        "cnn_model_decreasing_batch_256.add(tf.keras.layers.Conv2D(32, (3, 3), strides=(2, 2), padding='same', activation='relu'))\n",
        "cnn_model_decreasing_batch_256.add(tf.keras.layers.MaxPooling2D(pool_size=(2, 2), strides=(2,2), padding='same'))\n",
        "cnn_model_decreasing_batch_256.add(tf.keras.layers.Conv2D(16, (3, 3), padding='same', activation='relu'))\n",
        "cnn_model_decreasing_batch_256.add(tf.keras.layers.MaxPooling2D(pool_size=(2, 2), strides=(2,2), padding='same'))\n",
        "cnn_model_decreasing_batch_256.add(tf.keras.layers.Conv2D(16, (3, 3), strides=(2, 2), padding='same', activation='relu'))\n",
        "\n",
        "cnn_model_decreasing_batch_256.add(tf.keras.layers.Flatten())\n",
        "cnn_model_decreasing_batch_256.add(tf.keras.layers.Dense(512))\n",
        "cnn_model_decreasing_batch_256.add(tf.keras.layers.Activation('relu'))\n",
        "cnn_model_decreasing_batch_256.add(tf.keras.layers.Dense(10))\n",
        "cnn_model_decreasing_batch_256.add(tf.keras.layers.Activation('softmax'))\n",
        "\n",
        "opt = keras.optimizers.Adam(learning_rate=0.001)\n",
        "cnn_model_decreasing_batch_256.compile(loss='sparse_categorical_crossentropy', optimizer=opt, metrics=['accuracy'])\n",
        "cnn_model_decreasing_batch_256.build(input_shape=(1,28,28,1))\n",
        "cnn_model_decreasing_batch_256.summary()\n",
        "\n",
        "# Train the model.\n",
        "history_cnn_model_decreasing_batch_256 = cnn_model_decreasing_batch_256.fit(\n",
        "    x_train,\n",
        "    train_labels, \n",
        "    batch_size=256,\n",
        "    epochs=20)\n",
        "\n"
      ],
      "metadata": {
        "colab": {
          "base_uri": "https://localhost:8080/"
        },
        "id": "TMKgt8uhrABr",
        "outputId": "5394e68a-07da-43d7-f342-9967518d9e5a"
      },
      "execution_count": 15,
      "outputs": [
        {
          "output_type": "stream",
          "name": "stdout",
          "text": [
            "Model: \"sequential_4\"\n",
            "_________________________________________________________________\n",
            " Layer (type)                Output Shape              Param #   \n",
            "=================================================================\n",
            " conv2d_40 (Conv2D)          (1, 28, 28, 256)          2560      \n",
            "                                                                 \n",
            " conv2d_41 (Conv2D)          (1, 14, 14, 256)          590080    \n",
            "                                                                 \n",
            " max_pooling2d_20 (MaxPoolin  (1, 7, 7, 256)           0         \n",
            " g2D)                                                            \n",
            "                                                                 \n",
            " conv2d_42 (Conv2D)          (1, 7, 7, 128)            295040    \n",
            "                                                                 \n",
            " conv2d_43 (Conv2D)          (1, 4, 4, 128)            147584    \n",
            "                                                                 \n",
            " max_pooling2d_21 (MaxPoolin  (1, 2, 2, 128)           0         \n",
            " g2D)                                                            \n",
            "                                                                 \n",
            " conv2d_44 (Conv2D)          (1, 2, 2, 64)             73792     \n",
            "                                                                 \n",
            " conv2d_45 (Conv2D)          (1, 1, 1, 64)             36928     \n",
            "                                                                 \n",
            " max_pooling2d_22 (MaxPoolin  (1, 1, 1, 64)            0         \n",
            " g2D)                                                            \n",
            "                                                                 \n",
            " conv2d_46 (Conv2D)          (1, 1, 1, 32)             18464     \n",
            "                                                                 \n",
            " conv2d_47 (Conv2D)          (1, 1, 1, 32)             9248      \n",
            "                                                                 \n",
            " max_pooling2d_23 (MaxPoolin  (1, 1, 1, 32)            0         \n",
            " g2D)                                                            \n",
            "                                                                 \n",
            " conv2d_48 (Conv2D)          (1, 1, 1, 16)             4624      \n",
            "                                                                 \n",
            " max_pooling2d_24 (MaxPoolin  (1, 1, 1, 16)            0         \n",
            " g2D)                                                            \n",
            "                                                                 \n",
            " conv2d_49 (Conv2D)          (1, 1, 1, 16)             2320      \n",
            "                                                                 \n",
            " flatten_4 (Flatten)         (1, 16)                   0         \n",
            "                                                                 \n",
            " dense_8 (Dense)             (1, 512)                  8704      \n",
            "                                                                 \n",
            " activation_8 (Activation)   (1, 512)                  0         \n",
            "                                                                 \n",
            " dense_9 (Dense)             (1, 10)                   5130      \n",
            "                                                                 \n",
            " activation_9 (Activation)   (1, 10)                   0         \n",
            "                                                                 \n",
            "=================================================================\n",
            "Total params: 1,194,474\n",
            "Trainable params: 1,194,474\n",
            "Non-trainable params: 0\n",
            "_________________________________________________________________\n",
            "Epoch 1/20\n",
            "235/235 [==============================] - 23s 93ms/step - loss: 1.3236 - accuracy: 0.5042\n",
            "Epoch 2/20\n",
            "235/235 [==============================] - 22s 94ms/step - loss: 0.1605 - accuracy: 0.9530\n",
            "Epoch 3/20\n",
            "235/235 [==============================] - 22s 92ms/step - loss: 0.0865 - accuracy: 0.9757\n",
            "Epoch 4/20\n",
            "235/235 [==============================] - 22s 93ms/step - loss: 0.0566 - accuracy: 0.9843\n",
            "Epoch 5/20\n",
            "235/235 [==============================] - 22s 94ms/step - loss: 0.0435 - accuracy: 0.9872\n",
            "Epoch 6/20\n",
            "235/235 [==============================] - 22s 93ms/step - loss: 0.0375 - accuracy: 0.9896\n",
            "Epoch 7/20\n",
            "235/235 [==============================] - 22s 93ms/step - loss: 0.0283 - accuracy: 0.9915\n",
            "Epoch 8/20\n",
            "235/235 [==============================] - 22s 93ms/step - loss: 0.0242 - accuracy: 0.9935\n",
            "Epoch 9/20\n",
            "235/235 [==============================] - 22s 92ms/step - loss: 0.0221 - accuracy: 0.9936\n",
            "Epoch 10/20\n",
            "235/235 [==============================] - 22s 94ms/step - loss: 0.0200 - accuracy: 0.9946\n",
            "Epoch 11/20\n",
            "235/235 [==============================] - 22s 92ms/step - loss: 0.0164 - accuracy: 0.9958\n",
            "Epoch 12/20\n",
            "235/235 [==============================] - 22s 92ms/step - loss: 0.0178 - accuracy: 0.9950\n",
            "Epoch 13/20\n",
            "235/235 [==============================] - 21s 91ms/step - loss: 0.0145 - accuracy: 0.9959\n",
            "Epoch 14/20\n",
            "235/235 [==============================] - 21s 91ms/step - loss: 0.0133 - accuracy: 0.9961\n",
            "Epoch 15/20\n",
            "235/235 [==============================] - 21s 91ms/step - loss: 0.0109 - accuracy: 0.9971\n",
            "Epoch 16/20\n",
            "235/235 [==============================] - 21s 91ms/step - loss: 0.0140 - accuracy: 0.9961\n",
            "Epoch 17/20\n",
            "235/235 [==============================] - 21s 91ms/step - loss: 0.0115 - accuracy: 0.9967\n",
            "Epoch 18/20\n",
            "235/235 [==============================] - 22s 92ms/step - loss: 0.0120 - accuracy: 0.9966\n",
            "Epoch 19/20\n",
            "235/235 [==============================] - 21s 91ms/step - loss: 0.0097 - accuracy: 0.9975\n",
            "Epoch 20/20\n",
            "235/235 [==============================] - 21s 91ms/step - loss: 0.0083 - accuracy: 0.9978\n"
          ]
        }
      ]
    },
    {
      "cell_type": "code",
      "source": [
        "# Plotting\n",
        "plt.plot(history_cnn_model_decreasing_batch_256.history['loss'])\n",
        "plt.title('Model MSE history on train data - Lr 0.0001')\n",
        "plt.ylabel('MSE')\n",
        "plt.xlabel('epoch')\n",
        "plt.show()\n",
        "\n",
        "# Evaluate\n",
        "score = cnn_model_decreasing_batch_256.evaluate(x_test, test_labels)\n",
        "print('Test loss:', score[0])\n",
        "print('Test accuracy:', score[1])"
      ],
      "metadata": {
        "colab": {
          "base_uri": "https://localhost:8080/",
          "height": 347
        },
        "id": "zwVUbZMeBb6s",
        "outputId": "85e3445b-effc-4659-b4b4-2ba5c11f3871"
      },
      "execution_count": 16,
      "outputs": [
        {
          "output_type": "display_data",
          "data": {
            "text/plain": [
              "<Figure size 432x288 with 1 Axes>"
            ],
            "image/png": "[encoded data removed]"
          },
          "metadata": {
            "needs_background": "light"
          }
        },
        {
          "output_type": "stream",
          "name": "stdout",
          "text": [
            "313/313 [==============================] - 2s 5ms/step - loss: 7.8723 - accuracy: 0.9909\n",
            "Test loss: 7.872331142425537\n",
            "Test accuracy: 0.9908999800682068\n"
          ]
        }
      ]
    },
    {
      "cell_type": "code",
      "source": [
        "cnn_model_decreasing_batch_1024 = tf.keras.models.Sequential()\n",
        "cnn_model_decreasing_batch_1024.add(tf.keras.layers.Conv2D(256, (3, 3), padding='same', activation='relu'))\n",
        "cnn_model_decreasing_batch_1024.add(tf.keras.layers.Conv2D(256, (3, 3), strides=(2, 2), padding='same', activation='relu'))\n",
        "cnn_model_decreasing_batch_1024.add(tf.keras.layers.MaxPooling2D(pool_size=(2, 2), strides=(2,2), padding='same'))\n",
        "cnn_model_decreasing_batch_1024.add(tf.keras.layers.Conv2D(128, (3, 3), padding='same', activation='relu'))\n",
        "cnn_model_decreasing_batch_1024.add(tf.keras.layers.Conv2D(128, (3, 3), strides=(2, 2), padding='same', activation='relu'))\n",
        "cnn_model_decreasing_batch_1024.add(tf.keras.layers.MaxPooling2D(pool_size=(2, 2), strides=(2,2), padding='same'))\n",
        "cnn_model_decreasing_batch_1024.add(tf.keras.layers.Conv2D(64, (3, 3), padding='same', activation='relu'))\n",
        "cnn_model_decreasing_batch_1024.add(tf.keras.layers.Conv2D(64, (3, 3), strides=(2, 2), padding='same', activation='relu'))\n",
        "cnn_model_decreasing_batch_1024.add(tf.keras.layers.MaxPooling2D(pool_size=(2, 2), strides=(2,2), padding='same'))\n",
        "cnn_model_decreasing_batch_1024.add(tf.keras.layers.Conv2D(32, (3, 3), padding='same', activation='relu'))\n",
        "cnn_model_decreasing_batch_1024.add(tf.keras.layers.Conv2D(32, (3, 3), strides=(2, 2), padding='same', activation='relu'))\n",
        "cnn_model_decreasing_batch_1024.add(tf.keras.layers.MaxPooling2D(pool_size=(2, 2), strides=(2,2), padding='same'))\n",
        "cnn_model_decreasing_batch_1024.add(tf.keras.layers.Conv2D(16, (3, 3), padding='same', activation='relu'))\n",
        "cnn_model_decreasing_batch_1024.add(tf.keras.layers.MaxPooling2D(pool_size=(2, 2), strides=(2,2), padding='same'))\n",
        "cnn_model_decreasing_batch_1024.add(tf.keras.layers.Conv2D(16, (3, 3), strides=(2, 2), padding='same', activation='relu'))\n",
        "\n",
        "cnn_model_decreasing_batch_1024.add(tf.keras.layers.Flatten())\n",
        "cnn_model_decreasing_batch_1024.add(tf.keras.layers.Dense(512))\n",
        "cnn_model_decreasing_batch_1024.add(tf.keras.layers.Activation('relu'))\n",
        "cnn_model_decreasing_batch_1024.add(tf.keras.layers.Dense(10))\n",
        "cnn_model_decreasing_batch_1024.add(tf.keras.layers.Activation('softmax'))\n",
        "\n",
        "opt = keras.optimizers.Adam(learning_rate=0.001)\n",
        "cnn_model_decreasing_batch_1024.compile(loss='sparse_categorical_crossentropy', optimizer=opt, metrics=['accuracy'])\n",
        "cnn_model_decreasing_batch_1024.build(input_shape=(1,28,28,1))\n",
        "cnn_model_decreasing_batch_1024.summary()\n",
        "\n",
        "# Train the model.\n",
        "history_cnn_model_decreasing_batch_1024 = cnn_model_decreasing_batch_1024.fit(\n",
        "    x_train,\n",
        "    train_labels, \n",
        "    batch_size=1024,\n",
        "    epochs=20)\n"
      ],
      "metadata": {
        "colab": {
          "base_uri": "https://localhost:8080/"
        },
        "id": "kogonkqbslXR",
        "outputId": "78e49efa-05fc-494e-99e6-a87debdc2b3d"
      },
      "execution_count": 17,
      "outputs": [
        {
          "output_type": "stream",
          "name": "stdout",
          "text": [
            "Model: \"sequential_5\"\n",
            "_________________________________________________________________\n",
            " Layer (type)                Output Shape              Param #   \n",
            "=================================================================\n",
            " conv2d_50 (Conv2D)          (1, 28, 28, 256)          2560      \n",
            "                                                                 \n",
            " conv2d_51 (Conv2D)          (1, 14, 14, 256)          590080    \n",
            "                                                                 \n",
            " max_pooling2d_25 (MaxPoolin  (1, 7, 7, 256)           0         \n",
            " g2D)                                                            \n",
            "                                                                 \n",
            " conv2d_52 (Conv2D)          (1, 7, 7, 128)            295040    \n",
            "                                                                 \n",
            " conv2d_53 (Conv2D)          (1, 4, 4, 128)            147584    \n",
            "                                                                 \n",
            " max_pooling2d_26 (MaxPoolin  (1, 2, 2, 128)           0         \n",
            " g2D)                                                            \n",
            "                                                                 \n",
            " conv2d_54 (Conv2D)          (1, 2, 2, 64)             73792     \n",
            "                                                                 \n",
            " conv2d_55 (Conv2D)          (1, 1, 1, 64)             36928     \n",
            "                                                                 \n",
            " max_pooling2d_27 (MaxPoolin  (1, 1, 1, 64)            0         \n",
            " g2D)                                                            \n",
            "                                                                 \n",
            " conv2d_56 (Conv2D)          (1, 1, 1, 32)             18464     \n",
            "                                                                 \n",
            " conv2d_57 (Conv2D)          (1, 1, 1, 32)             9248      \n",
            "                                                                 \n",
            " max_pooling2d_28 (MaxPoolin  (1, 1, 1, 32)            0         \n",
            " g2D)                                                            \n",
            "                                                                 \n",
            " conv2d_58 (Conv2D)          (1, 1, 1, 16)             4624      \n",
            "                                                                 \n",
            " max_pooling2d_29 (MaxPoolin  (1, 1, 1, 16)            0         \n",
            " g2D)                                                            \n",
            "                                                                 \n",
            " conv2d_59 (Conv2D)          (1, 1, 1, 16)             2320      \n",
            "                                                                 \n",
            " flatten_5 (Flatten)         (1, 16)                   0         \n",
            "                                                                 \n",
            " dense_10 (Dense)            (1, 512)                  8704      \n",
            "                                                                 \n",
            " activation_10 (Activation)  (1, 512)                  0         \n",
            "                                                                 \n",
            " dense_11 (Dense)            (1, 10)                   5130      \n",
            "                                                                 \n",
            " activation_11 (Activation)  (1, 10)                   0         \n",
            "                                                                 \n",
            "=================================================================\n",
            "Total params: 1,194,474\n",
            "Trainable params: 1,194,474\n",
            "Non-trainable params: 0\n",
            "_________________________________________________________________\n",
            "Epoch 1/20\n",
            "59/59 [==============================] - 26s 371ms/step - loss: 2.0626 - accuracy: 0.1958\n",
            "Epoch 2/20\n",
            "59/59 [==============================] - 20s 337ms/step - loss: 1.1810 - accuracy: 0.5350\n",
            "Epoch 3/20\n",
            "59/59 [==============================] - 20s 338ms/step - loss: 0.5587 - accuracy: 0.8116\n",
            "Epoch 4/20\n",
            "59/59 [==============================] - 20s 339ms/step - loss: 0.2592 - accuracy: 0.9226\n",
            "Epoch 5/20\n",
            "59/59 [==============================] - 20s 339ms/step - loss: 0.1522 - accuracy: 0.9556\n",
            "Epoch 6/20\n",
            "59/59 [==============================] - 20s 339ms/step - loss: 0.1078 - accuracy: 0.9691\n",
            "Epoch 7/20\n",
            "59/59 [==============================] - 20s 339ms/step - loss: 0.0864 - accuracy: 0.9742\n",
            "Epoch 8/20\n",
            "59/59 [==============================] - 20s 339ms/step - loss: 0.0702 - accuracy: 0.9794\n",
            "Epoch 9/20\n",
            "59/59 [==============================] - 20s 339ms/step - loss: 0.0579 - accuracy: 0.9829\n",
            "Epoch 10/20\n",
            "59/59 [==============================] - 20s 338ms/step - loss: 0.0509 - accuracy: 0.9848\n",
            "Epoch 11/20\n",
            "59/59 [==============================] - 20s 338ms/step - loss: 0.0445 - accuracy: 0.9869\n",
            "Epoch 12/20\n",
            "59/59 [==============================] - 20s 338ms/step - loss: 0.0381 - accuracy: 0.9886\n",
            "Epoch 13/20\n",
            "59/59 [==============================] - 20s 337ms/step - loss: 0.0415 - accuracy: 0.9876\n",
            "Epoch 14/20\n",
            "59/59 [==============================] - 20s 338ms/step - loss: 0.0337 - accuracy: 0.9898\n",
            "Epoch 15/20\n",
            "59/59 [==============================] - 20s 337ms/step - loss: 0.0290 - accuracy: 0.9912\n",
            "Epoch 16/20\n",
            "59/59 [==============================] - 20s 338ms/step - loss: 0.0219 - accuracy: 0.9934\n",
            "Epoch 17/20\n",
            "59/59 [==============================] - 20s 338ms/step - loss: 0.0204 - accuracy: 0.9938\n",
            "Epoch 18/20\n",
            "59/59 [==============================] - 20s 339ms/step - loss: 0.0160 - accuracy: 0.9954\n",
            "Epoch 19/20\n",
            "59/59 [==============================] - 20s 338ms/step - loss: 0.0134 - accuracy: 0.9961\n",
            "Epoch 20/20\n",
            "59/59 [==============================] - 20s 336ms/step - loss: 0.0160 - accuracy: 0.9952\n"
          ]
        }
      ]
    },
    {
      "cell_type": "code",
      "source": [
        "# Plotting\n",
        "plt.plot(history_cnn_model_decreasing_batch_1024.history['loss'])\n",
        "plt.title('Model MSE history on train data - Lr 0.0001')\n",
        "plt.ylabel('MSE')\n",
        "plt.xlabel('epoch')\n",
        "plt.show()\n",
        "\n",
        "# Evaluate\n",
        "score = cnn_model_decreasing_batch_1024.evaluate(x_test, test_labels)\n",
        "print('Test loss:', score[0])\n",
        "print('Test accuracy:', score[1])"
      ],
      "metadata": {
        "colab": {
          "base_uri": "https://localhost:8080/",
          "height": 347
        },
        "id": "3xyoM0AtB4E6",
        "outputId": "2376480f-2e92-495d-91ab-53dcb1e3426d"
      },
      "execution_count": 18,
      "outputs": [
        {
          "output_type": "display_data",
          "data": {
            "text/plain": [
              "<Figure size 432x288 with 1 Axes>"
            ],
            "image/png": "[encoded data removed]"
          },
          "metadata": {
            "needs_background": "light"
          }
        },
        {
          "output_type": "stream",
          "name": "stdout",
          "text": [
            "313/313 [==============================] - 2s 5ms/step - loss: 8.8603 - accuracy: 0.9875\n",
            "Test loss: 8.860332489013672\n",
            "Test accuracy: 0.987500011920929\n"
          ]
        }
      ]
    },
    {
      "cell_type": "code",
      "source": [
        "cnn_model_decreasing_SGD = tf.keras.models.Sequential()\n",
        "cnn_model_decreasing_SGD.add(tf.keras.layers.Conv2D(256, (3, 3), padding='same', activation='relu'))\n",
        "cnn_model_decreasing_SGD.add(tf.keras.layers.Conv2D(256, (3, 3), strides=(2, 2), padding='same', activation='relu'))\n",
        "cnn_model_decreasing_SGD.add(tf.keras.layers.MaxPooling2D(pool_size=(2, 2), strides=(2,2), padding='same'))\n",
        "cnn_model_decreasing_SGD.add(tf.keras.layers.Conv2D(128, (3, 3), padding='same', activation='relu'))\n",
        "cnn_model_decreasing_SGD.add(tf.keras.layers.Conv2D(128, (3, 3), strides=(2, 2), padding='same', activation='relu'))\n",
        "cnn_model_decreasing_SGD.add(tf.keras.layers.MaxPooling2D(pool_size=(2, 2), strides=(2,2), padding='same'))\n",
        "cnn_model_decreasing_SGD.add(tf.keras.layers.Conv2D(64, (3, 3), padding='same', activation='relu'))\n",
        "cnn_model_decreasing_SGD.add(tf.keras.layers.Conv2D(64, (3, 3), strides=(2, 2), padding='same', activation='relu'))\n",
        "cnn_model_decreasing_SGD.add(tf.keras.layers.MaxPooling2D(pool_size=(2, 2), strides=(2,2), padding='same'))\n",
        "cnn_model_decreasing_SGD.add(tf.keras.layers.Conv2D(32, (3, 3), padding='same', activation='relu'))\n",
        "cnn_model_decreasing_SGD.add(tf.keras.layers.Conv2D(32, (3, 3), strides=(2, 2), padding='same', activation='relu'))\n",
        "cnn_model_decreasing_SGD.add(tf.keras.layers.MaxPooling2D(pool_size=(2, 2), strides=(2,2), padding='same'))\n",
        "cnn_model_decreasing_SGD.add(tf.keras.layers.Conv2D(16, (3, 3), padding='same', activation='relu'))\n",
        "cnn_model_decreasing_SGD.add(tf.keras.layers.MaxPooling2D(pool_size=(2, 2), strides=(2,2), padding='same'))\n",
        "cnn_model_decreasing_SGD.add(tf.keras.layers.Conv2D(16, (3, 3), strides=(2, 2), padding='same', activation='relu'))\n",
        "\n",
        "cnn_model_decreasing_SGD.add(tf.keras.layers.Flatten())\n",
        "cnn_model_decreasing_SGD.add(tf.keras.layers.Dense(512))\n",
        "cnn_model_decreasing_SGD.add(tf.keras.layers.Activation('relu'))\n",
        "cnn_model_decreasing_SGD.add(tf.keras.layers.Dense(10))\n",
        "cnn_model_decreasing_SGD.add(tf.keras.layers.Activation('softmax'))\n",
        "\n",
        "opt = keras.optimizers.SGD(learning_rate=0.001)\n",
        "cnn_model_decreasing_SGD.compile(loss='sparse_categorical_crossentropy', optimizer=opt, metrics=['accuracy'])\n",
        "cnn_model_decreasing_SGD.build(input_shape=(1,28,28,1))\n",
        "cnn_model_decreasing_SGD.summary()\n",
        "\n",
        "# Train the model.\n",
        "history_cnn_model_decreasing_SGD = cnn_model_decreasing_SGD.fit(\n",
        "    x_train,\n",
        "    train_labels, \n",
        "    batch_size=256,\n",
        "    epochs=20)\n",
        "\n"
      ],
      "metadata": {
        "colab": {
          "base_uri": "https://localhost:8080/"
        },
        "id": "595BqQxlyHkw",
        "outputId": "7cdd257a-3d44-4da8-8b98-02c715018604"
      },
      "execution_count": 8,
      "outputs": [
        {
          "output_type": "stream",
          "name": "stdout",
          "text": [
            "Model: \"sequential_1\"\n",
            "_________________________________________________________________\n",
            " Layer (type)                Output Shape              Param #   \n",
            "=================================================================\n",
            " conv2d_10 (Conv2D)          (1, 28, 28, 256)          2560      \n",
            "                                                                 \n",
            " conv2d_11 (Conv2D)          (1, 14, 14, 256)          590080    \n",
            "                                                                 \n",
            " max_pooling2d_5 (MaxPooling  (1, 7, 7, 256)           0         \n",
            " 2D)                                                             \n",
            "                                                                 \n",
            " conv2d_12 (Conv2D)          (1, 7, 7, 128)            295040    \n",
            "                                                                 \n",
            " conv2d_13 (Conv2D)          (1, 4, 4, 128)            147584    \n",
            "                                                                 \n",
            " max_pooling2d_6 (MaxPooling  (1, 2, 2, 128)           0         \n",
            " 2D)                                                             \n",
            "                                                                 \n",
            " conv2d_14 (Conv2D)          (1, 2, 2, 64)             73792     \n",
            "                                                                 \n",
            " conv2d_15 (Conv2D)          (1, 1, 1, 64)             36928     \n",
            "                                                                 \n",
            " max_pooling2d_7 (MaxPooling  (1, 1, 1, 64)            0         \n",
            " 2D)                                                             \n",
            "                                                                 \n",
            " conv2d_16 (Conv2D)          (1, 1, 1, 32)             18464     \n",
            "                                                                 \n",
            " conv2d_17 (Conv2D)          (1, 1, 1, 32)             9248      \n",
            "                                                                 \n",
            " max_pooling2d_8 (MaxPooling  (1, 1, 1, 32)            0         \n",
            " 2D)                                                             \n",
            "                                                                 \n",
            " conv2d_18 (Conv2D)          (1, 1, 1, 16)             4624      \n",
            "                                                                 \n",
            " max_pooling2d_9 (MaxPooling  (1, 1, 1, 16)            0         \n",
            " 2D)                                                             \n",
            "                                                                 \n",
            " conv2d_19 (Conv2D)          (1, 1, 1, 16)             2320      \n",
            "                                                                 \n",
            " flatten_1 (Flatten)         (1, 16)                   0         \n",
            "                                                                 \n",
            " dense_2 (Dense)             (1, 512)                  8704      \n",
            "                                                                 \n",
            " activation_2 (Activation)   (1, 512)                  0         \n",
            "                                                                 \n",
            " dense_3 (Dense)             (1, 10)                   5130      \n",
            "                                                                 \n",
            " activation_3 (Activation)   (1, 10)                   0         \n",
            "                                                                 \n",
            "=================================================================\n",
            "Total params: 1,194,474\n",
            "Trainable params: 1,194,474\n",
            "Non-trainable params: 0\n",
            "_________________________________________________________________\n",
            "Epoch 1/20\n",
            "235/235 [==============================] - 23s 90ms/step - loss: 2.3025 - accuracy: 0.1124\n",
            "Epoch 2/20\n",
            "235/235 [==============================] - 21s 91ms/step - loss: 2.3024 - accuracy: 0.1124\n",
            "Epoch 3/20\n",
            "235/235 [==============================] - 21s 91ms/step - loss: 2.3023 - accuracy: 0.1124\n",
            "Epoch 4/20\n",
            "235/235 [==============================] - 22s 92ms/step - loss: 2.3022 - accuracy: 0.1124\n",
            "Epoch 5/20\n",
            "235/235 [==============================] - 21s 91ms/step - loss: 2.3022 - accuracy: 0.1124\n",
            "Epoch 6/20\n",
            "235/235 [==============================] - 22s 92ms/step - loss: 2.3021 - accuracy: 0.1124\n",
            "Epoch 7/20\n",
            "235/235 [==============================] - 21s 91ms/step - loss: 2.3020 - accuracy: 0.1124\n",
            "Epoch 8/20\n",
            "235/235 [==============================] - 22s 92ms/step - loss: 2.3020 - accuracy: 0.1124\n",
            "Epoch 9/20\n",
            "235/235 [==============================] - 22s 92ms/step - loss: 2.3019 - accuracy: 0.1124\n",
            "Epoch 10/20\n",
            "235/235 [==============================] - 22s 92ms/step - loss: 2.3018 - accuracy: 0.1124\n",
            "Epoch 11/20\n",
            "235/235 [==============================] - 21s 91ms/step - loss: 2.3018 - accuracy: 0.1124\n",
            "Epoch 12/20\n",
            "235/235 [==============================] - 21s 91ms/step - loss: 2.3017 - accuracy: 0.1124\n",
            "Epoch 13/20\n",
            "235/235 [==============================] - 22s 92ms/step - loss: 2.3017 - accuracy: 0.1124\n",
            "Epoch 14/20\n",
            "235/235 [==============================] - 21s 91ms/step - loss: 2.3017 - accuracy: 0.1124\n",
            "Epoch 15/20\n",
            "235/235 [==============================] - 22s 92ms/step - loss: 2.3016 - accuracy: 0.1124\n",
            "Epoch 16/20\n",
            "235/235 [==============================] - 22s 92ms/step - loss: 2.3016 - accuracy: 0.1124\n",
            "Epoch 17/20\n",
            "235/235 [==============================] - 22s 92ms/step - loss: 2.3016 - accuracy: 0.1124\n",
            "Epoch 18/20\n",
            "235/235 [==============================] - 22s 92ms/step - loss: 2.3015 - accuracy: 0.1124\n",
            "Epoch 19/20\n",
            "235/235 [==============================] - 22s 92ms/step - loss: 2.3015 - accuracy: 0.1124\n",
            "Epoch 20/20\n",
            "235/235 [==============================] - 22s 92ms/step - loss: 2.3015 - accuracy: 0.1124\n"
          ]
        }
      ]
    },
    {
      "cell_type": "code",
      "source": [
        "# Plotting\n",
        "plt.plot(history_cnn_model_decreasing_SGD.history['loss'])\n",
        "plt.title('Model MSE history on train data - Lr 0.0001')\n",
        "plt.ylabel('MSE')\n",
        "plt.xlabel('epoch')\n",
        "plt.show()\n",
        "\n",
        "# Evaluate\n",
        "score = cnn_model_decreasing_SGD.evaluate(x_test, test_labels)\n",
        "print('Test loss:', score[0])\n",
        "print('Test accuracy:', score[1])"
      ],
      "metadata": {
        "colab": {
          "base_uri": "https://localhost:8080/",
          "height": 347
        },
        "id": "s9XDhiTQCGj3",
        "outputId": "a3844041-88db-406d-d6cd-82315aa4fcd0"
      },
      "execution_count": 9,
      "outputs": [
        {
          "output_type": "display_data",
          "data": {
            "text/plain": [
              "<Figure size 432x288 with 1 Axes>"
            ],
            "image/png": "[encoded data removed]"
          },
          "metadata": {
            "needs_background": "light"
          }
        },
        {
          "output_type": "stream",
          "name": "stdout",
          "text": [
            "313/313 [==============================] - 2s 6ms/step - loss: 2.3014 - accuracy: 0.1135\n",
            "Test loss: 2.301352024078369\n",
            "Test accuracy: 0.11349999904632568\n"
          ]
        }
      ]
    },
    {
      "cell_type": "code",
      "source": [
        "cnn_model_decreasing_RMS = tf.keras.models.Sequential()\n",
        "cnn_model_decreasing_RMS.add(tf.keras.layers.Conv2D(256, (3, 3), padding='same', activation='relu'))\n",
        "cnn_model_decreasing_RMS.add(tf.keras.layers.Conv2D(256, (3, 3), strides=(2, 2), padding='same', activation='relu'))\n",
        "cnn_model_decreasing_RMS.add(tf.keras.layers.MaxPooling2D(pool_size=(2, 2), strides=(2,2), padding='same'))\n",
        "cnn_model_decreasing_RMS.add(tf.keras.layers.Conv2D(128, (3, 3), padding='same', activation='relu'))\n",
        "cnn_model_decreasing_RMS.add(tf.keras.layers.Conv2D(128, (3, 3), strides=(2, 2), padding='same', activation='relu'))\n",
        "cnn_model_decreasing_RMS.add(tf.keras.layers.MaxPooling2D(pool_size=(2, 2), strides=(2,2), padding='same'))\n",
        "cnn_model_decreasing_RMS.add(tf.keras.layers.Conv2D(64, (3, 3), padding='same', activation='relu'))\n",
        "cnn_model_decreasing_RMS.add(tf.keras.layers.Conv2D(64, (3, 3), strides=(2, 2), padding='same', activation='relu'))\n",
        "cnn_model_decreasing_RMS.add(tf.keras.layers.MaxPooling2D(pool_size=(2, 2), strides=(2,2), padding='same'))\n",
        "cnn_model_decreasing_RMS.add(tf.keras.layers.Conv2D(32, (3, 3), padding='same', activation='relu'))\n",
        "cnn_model_decreasing_RMS.add(tf.keras.layers.Conv2D(32, (3, 3), strides=(2, 2), padding='same', activation='relu'))\n",
        "cnn_model_decreasing_RMS.add(tf.keras.layers.MaxPooling2D(pool_size=(2, 2), strides=(2,2), padding='same'))\n",
        "cnn_model_decreasing_RMS.add(tf.keras.layers.Conv2D(16, (3, 3), padding='same', activation='relu'))\n",
        "cnn_model_decreasing_RMS.add(tf.keras.layers.MaxPooling2D(pool_size=(2, 2), strides=(2,2), padding='same'))\n",
        "cnn_model_decreasing_RMS.add(tf.keras.layers.Conv2D(16, (3, 3), strides=(2, 2), padding='same', activation='relu'))\n",
        "\n",
        "cnn_model_decreasing_RMS.add(tf.keras.layers.Flatten())\n",
        "cnn_model_decreasing_RMS.add(tf.keras.layers.Dense(512))\n",
        "cnn_model_decreasing_RMS.add(tf.keras.layers.Activation('relu'))\n",
        "cnn_model_decreasing_RMS.add(tf.keras.layers.Dense(10))\n",
        "cnn_model_decreasing_RMS.add(tf.keras.layers.Activation('softmax'))\n",
        "\n",
        "opt = keras.optimizers.RMSprop(learning_rate=0.001)\n",
        "cnn_model_decreasing_RMS.compile(loss='sparse_categorical_crossentropy', optimizer=opt, metrics=['accuracy'])\n",
        "cnn_model_decreasing_RMS.build(input_shape=(1,28,28,1))\n",
        "cnn_model_decreasing_RMS.summary()\n",
        "\n",
        "# Train the model.\n",
        "history_cnn_model_decreasing_RMS = cnn_model_decreasing_RMS.fit(\n",
        "    x_train,\n",
        "    train_labels, \n",
        "    batch_size=256,\n",
        "    epochs=20)\n",
        "\n"
      ],
      "metadata": {
        "colab": {
          "base_uri": "https://localhost:8080/"
        },
        "id": "YkvBB-E7ynxk",
        "outputId": "835c9b55-b7cc-4451-ec4f-8fa08d99fdda"
      },
      "execution_count": 10,
      "outputs": [
        {
          "output_type": "stream",
          "name": "stdout",
          "text": [
            "Model: \"sequential_2\"\n",
            "_________________________________________________________________\n",
            " Layer (type)                Output Shape              Param #   \n",
            "=================================================================\n",
            " conv2d_20 (Conv2D)          (1, 28, 28, 256)          2560      \n",
            "                                                                 \n",
            " conv2d_21 (Conv2D)          (1, 14, 14, 256)          590080    \n",
            "                                                                 \n",
            " max_pooling2d_10 (MaxPoolin  (1, 7, 7, 256)           0         \n",
            " g2D)                                                            \n",
            "                                                                 \n",
            " conv2d_22 (Conv2D)          (1, 7, 7, 128)            295040    \n",
            "                                                                 \n",
            " conv2d_23 (Conv2D)          (1, 4, 4, 128)            147584    \n",
            "                                                                 \n",
            " max_pooling2d_11 (MaxPoolin  (1, 2, 2, 128)           0         \n",
            " g2D)                                                            \n",
            "                                                                 \n",
            " conv2d_24 (Conv2D)          (1, 2, 2, 64)             73792     \n",
            "                                                                 \n",
            " conv2d_25 (Conv2D)          (1, 1, 1, 64)             36928     \n",
            "                                                                 \n",
            " max_pooling2d_12 (MaxPoolin  (1, 1, 1, 64)            0         \n",
            " g2D)                                                            \n",
            "                                                                 \n",
            " conv2d_26 (Conv2D)          (1, 1, 1, 32)             18464     \n",
            "                                                                 \n",
            " conv2d_27 (Conv2D)          (1, 1, 1, 32)             9248      \n",
            "                                                                 \n",
            " max_pooling2d_13 (MaxPoolin  (1, 1, 1, 32)            0         \n",
            " g2D)                                                            \n",
            "                                                                 \n",
            " conv2d_28 (Conv2D)          (1, 1, 1, 16)             4624      \n",
            "                                                                 \n",
            " max_pooling2d_14 (MaxPoolin  (1, 1, 1, 16)            0         \n",
            " g2D)                                                            \n",
            "                                                                 \n",
            " conv2d_29 (Conv2D)          (1, 1, 1, 16)             2320      \n",
            "                                                                 \n",
            " flatten_2 (Flatten)         (1, 16)                   0         \n",
            "                                                                 \n",
            " dense_4 (Dense)             (1, 512)                  8704      \n",
            "                                                                 \n",
            " activation_4 (Activation)   (1, 512)                  0         \n",
            "                                                                 \n",
            " dense_5 (Dense)             (1, 10)                   5130      \n",
            "                                                                 \n",
            " activation_5 (Activation)   (1, 10)                   0         \n",
            "                                                                 \n",
            "=================================================================\n",
            "Total params: 1,194,474\n",
            "Trainable params: 1,194,474\n",
            "Non-trainable params: 0\n",
            "_________________________________________________________________\n",
            "Epoch 1/20\n",
            "235/235 [==============================] - 23s 91ms/step - loss: 1.3225 - accuracy: 0.4772\n",
            "Epoch 2/20\n",
            "235/235 [==============================] - 22s 92ms/step - loss: 0.2253 - accuracy: 0.9355\n",
            "Epoch 3/20\n",
            "235/235 [==============================] - 22s 92ms/step - loss: 0.1029 - accuracy: 0.9729\n",
            "Epoch 4/20\n",
            "235/235 [==============================] - 22s 93ms/step - loss: 0.0662 - accuracy: 0.9823\n",
            "Epoch 5/20\n",
            "235/235 [==============================] - 22s 92ms/step - loss: 0.0490 - accuracy: 0.9870\n",
            "Epoch 6/20\n",
            "235/235 [==============================] - 22s 92ms/step - loss: 0.0396 - accuracy: 0.9901\n",
            "Epoch 7/20\n",
            "235/235 [==============================] - 22s 93ms/step - loss: 0.0327 - accuracy: 0.9913\n",
            "Epoch 8/20\n",
            "235/235 [==============================] - 22s 92ms/step - loss: 0.0262 - accuracy: 0.9930\n",
            "Epoch 9/20\n",
            "235/235 [==============================] - 22s 92ms/step - loss: 0.0231 - accuracy: 0.9942\n",
            "Epoch 10/20\n",
            "235/235 [==============================] - 22s 92ms/step - loss: 0.0206 - accuracy: 0.9949\n",
            "Epoch 11/20\n",
            "235/235 [==============================] - 22s 92ms/step - loss: 0.0189 - accuracy: 0.9952\n",
            "Epoch 12/20\n",
            "235/235 [==============================] - 22s 92ms/step - loss: 0.0148 - accuracy: 0.9964\n",
            "Epoch 13/20\n",
            "235/235 [==============================] - 21s 91ms/step - loss: 0.0149 - accuracy: 0.9962\n",
            "Epoch 14/20\n",
            "235/235 [==============================] - 21s 91ms/step - loss: 0.0146 - accuracy: 0.9966\n",
            "Epoch 15/20\n",
            "235/235 [==============================] - 21s 91ms/step - loss: 0.0134 - accuracy: 0.9970\n",
            "Epoch 16/20\n",
            "235/235 [==============================] - 21s 91ms/step - loss: 0.0110 - accuracy: 0.9974\n",
            "Epoch 17/20\n",
            "235/235 [==============================] - 22s 92ms/step - loss: 0.0119 - accuracy: 0.9972\n",
            "Epoch 18/20\n",
            "235/235 [==============================] - 21s 91ms/step - loss: 0.0096 - accuracy: 0.9978\n",
            "Epoch 19/20\n",
            "235/235 [==============================] - 21s 92ms/step - loss: 0.0096 - accuracy: 0.9976\n",
            "Epoch 20/20\n",
            "235/235 [==============================] - 21s 91ms/step - loss: 0.0088 - accuracy: 0.9979\n"
          ]
        }
      ]
    },
    {
      "cell_type": "code",
      "source": [
        "# Plotting\n",
        "plt.plot(history_cnn_model_decreasing_RMS.history['loss'])\n",
        "plt.title('Model MSE history on train data - Lr 0.0001')\n",
        "plt.ylabel('MSE')\n",
        "plt.xlabel('epoch')\n",
        "plt.show()\n",
        "\n",
        "# Evaluate\n",
        "score = cnn_model_decreasing_RMS.evaluate(x_test, test_labels)\n",
        "print('Test loss:', score[0])\n",
        "print('Test accuracy:', score[1])"
      ],
      "metadata": {
        "colab": {
          "base_uri": "https://localhost:8080/",
          "height": 347
        },
        "id": "zFHJPqpNCUbU",
        "outputId": "32ffb562-8a0c-497e-c70b-d68b42fc012f"
      },
      "execution_count": 11,
      "outputs": [
        {
          "output_type": "display_data",
          "data": {
            "text/plain": [
              "<Figure size 432x288 with 1 Axes>"
            ],
            "image/png": "[encoded data removed]"
          },
          "metadata": {
            "needs_background": "light"
          }
        },
        {
          "output_type": "stream",
          "name": "stdout",
          "text": [
            "313/313 [==============================] - 2s 5ms/step - loss: 12.9549 - accuracy: 0.9904\n",
            "Test loss: 12.954948425292969\n",
            "Test accuracy: 0.9904000163078308\n"
          ]
        }
      ]
    },
    {
      "cell_type": "code",
      "source": [
        "cnn_model_increasing_best = tf.keras.models.Sequential()\n",
        "cnn_model_increasing_best.add(tf.keras.layers.Conv2D(16, (3, 3), padding='same', activation='relu'))\n",
        "cnn_model_increasing_best.add(tf.keras.layers.Conv2D(16, (3, 3), strides=(2, 2), padding='same', activation='relu'))\n",
        "cnn_model_increasing_best.add(tf.keras.layers.MaxPooling2D(pool_size=(2, 2), strides=(2,2), padding='same'))\n",
        "cnn_model_increasing_best.add(tf.keras.layers.Conv2D(32, (3, 3), padding='same', activation='relu'))\n",
        "cnn_model_increasing_best.add(tf.keras.layers.Conv2D(32, (3, 3), strides=(2, 2), padding='same', activation='relu'))\n",
        "cnn_model_increasing_best.add(tf.keras.layers.MaxPooling2D(pool_size=(2, 2), strides=(2,2), padding='same'))\n",
        "cnn_model_increasing_best.add(tf.keras.layers.Conv2D(64, (3, 3), padding='same', activation='relu'))\n",
        "cnn_model_increasing_best.add(tf.keras.layers.Conv2D(64, (3, 3), strides=(2, 2), padding='same', activation='relu'))\n",
        "cnn_model_increasing_best.add(tf.keras.layers.MaxPooling2D(pool_size=(2, 2), strides=(2,2), padding='same'))\n",
        "cnn_model_increasing_best.add(tf.keras.layers.Conv2D(128, (3, 3), padding='same', activation='relu'))\n",
        "cnn_model_increasing_best.add(tf.keras.layers.Conv2D(128, (3, 3), strides=(2, 2), padding='same', activation='relu'))\n",
        "cnn_model_increasing_best.add(tf.keras.layers.MaxPooling2D(pool_size=(2, 2), strides=(2,2), padding='same'))\n",
        "cnn_model_increasing_best.add(tf.keras.layers.Conv2D(256, (3, 3), padding='same', activation='relu'))\n",
        "cnn_model_increasing_best.add(tf.keras.layers.MaxPooling2D(pool_size=(2, 2), strides=(2,2), padding='same'))\n",
        "cnn_model_increasing_best.add(tf.keras.layers.Conv2D(256, (3, 3), strides=(2, 2), padding='same', activation='relu'))\n",
        "\n",
        "cnn_model_increasing_best.add(tf.keras.layers.Flatten())\n",
        "cnn_model_increasing_best.add(tf.keras.layers.Dense(512))\n",
        "cnn_model_increasing_best.add(tf.keras.layers.Activation('relu'))\n",
        "cnn_model_increasing_best.add(tf.keras.layers.Dense(10))\n",
        "cnn_model_increasing_best.add(tf.keras.layers.Activation('softmax'))\n",
        "\n",
        "opt = keras.optimizers.Adam(learning_rate=0.001)\n",
        "cnn_model_increasing_best.compile(loss='sparse_categorical_crossentropy', optimizer=opt, metrics=['accuracy'])\n",
        "cnn_model_increasing_best.build(input_shape=(1,28,28,1))\n",
        "cnn_model_increasing_best.summary()\n",
        "\n",
        "# Train the model.\n",
        "history_cnn_model_increasing_best = cnn_model_increasing_best.fit(\n",
        "                                                        x_train,\n",
        "                                                        train_labels, \n",
        "                                                        batch_size=256,\n",
        "                                                        epochs=20)"
      ],
      "metadata": {
        "colab": {
          "base_uri": "https://localhost:8080/"
        },
        "id": "UsBIHSvyR6jC",
        "outputId": "d31c969d-2ebc-4c20-a898-f1c962aa4962"
      },
      "execution_count": 35,
      "outputs": [
        {
          "output_type": "stream",
          "name": "stdout",
          "text": [
            "Model: \"sequential_14\"\n",
            "_________________________________________________________________\n",
            " Layer (type)                Output Shape              Param #   \n",
            "=================================================================\n",
            " conv2d_140 (Conv2D)         (1, 28, 28, 16)           160       \n",
            "                                                                 \n",
            " conv2d_141 (Conv2D)         (1, 14, 14, 16)           2320      \n",
            "                                                                 \n",
            " max_pooling2d_70 (MaxPoolin  (1, 7, 7, 16)            0         \n",
            " g2D)                                                            \n",
            "                                                                 \n",
            " conv2d_142 (Conv2D)         (1, 7, 7, 32)             4640      \n",
            "                                                                 \n",
            " conv2d_143 (Conv2D)         (1, 4, 4, 32)             9248      \n",
            "                                                                 \n",
            " max_pooling2d_71 (MaxPoolin  (1, 2, 2, 32)            0         \n",
            " g2D)                                                            \n",
            "                                                                 \n",
            " conv2d_144 (Conv2D)         (1, 2, 2, 64)             18496     \n",
            "                                                                 \n",
            " conv2d_145 (Conv2D)         (1, 1, 1, 64)             36928     \n",
            "                                                                 \n",
            " max_pooling2d_72 (MaxPoolin  (1, 1, 1, 64)            0         \n",
            " g2D)                                                            \n",
            "                                                                 \n",
            " conv2d_146 (Conv2D)         (1, 1, 1, 128)            73856     \n",
            "                                                                 \n",
            " conv2d_147 (Conv2D)         (1, 1, 1, 128)            147584    \n",
            "                                                                 \n",
            " max_pooling2d_73 (MaxPoolin  (1, 1, 1, 128)           0         \n",
            " g2D)                                                            \n",
            "                                                                 \n",
            " conv2d_148 (Conv2D)         (1, 1, 1, 256)            295168    \n",
            "                                                                 \n",
            " max_pooling2d_74 (MaxPoolin  (1, 1, 1, 256)           0         \n",
            " g2D)                                                            \n",
            "                                                                 \n",
            " conv2d_149 (Conv2D)         (1, 1, 1, 256)            590080    \n",
            "                                                                 \n",
            " flatten_14 (Flatten)        (1, 256)                  0         \n",
            "                                                                 \n",
            " dense_28 (Dense)            (1, 512)                  131584    \n",
            "                                                                 \n",
            " activation_28 (Activation)  (1, 512)                  0         \n",
            "                                                                 \n",
            " dense_29 (Dense)            (1, 10)                   5130      \n",
            "                                                                 \n",
            " activation_29 (Activation)  (1, 10)                   0         \n",
            "                                                                 \n",
            "=================================================================\n",
            "Total params: 1,315,194\n",
            "Trainable params: 1,315,194\n",
            "Non-trainable params: 0\n",
            "_________________________________________________________________\n",
            "Epoch 1/20\n",
            "235/235 [==============================] - 4s 10ms/step - loss: 1.4466 - accuracy: 0.4198\n",
            "Epoch 2/20\n",
            "235/235 [==============================] - 3s 14ms/step - loss: 0.4781 - accuracy: 0.8396\n",
            "Epoch 3/20\n",
            "235/235 [==============================] - 3s 11ms/step - loss: 0.2229 - accuracy: 0.9354\n",
            "Epoch 4/20\n",
            "235/235 [==============================] - 3s 12ms/step - loss: 0.1541 - accuracy: 0.9557\n",
            "Epoch 5/20\n",
            "235/235 [==============================] - 3s 11ms/step - loss: 0.1250 - accuracy: 0.9642\n",
            "Epoch 6/20\n",
            "235/235 [==============================] - 3s 13ms/step - loss: 0.0965 - accuracy: 0.9729\n",
            "Epoch 7/20\n",
            "235/235 [==============================] - 3s 13ms/step - loss: 0.0778 - accuracy: 0.9782\n",
            "Epoch 8/20\n",
            "235/235 [==============================] - 3s 12ms/step - loss: 0.0679 - accuracy: 0.9807\n",
            "Epoch 9/20\n",
            "235/235 [==============================] - 3s 13ms/step - loss: 0.0572 - accuracy: 0.9842\n",
            "Epoch 10/20\n",
            "235/235 [==============================] - 3s 13ms/step - loss: 0.0545 - accuracy: 0.9847\n",
            "Epoch 11/20\n",
            "235/235 [==============================] - 3s 13ms/step - loss: 0.0501 - accuracy: 0.9861\n",
            "Epoch 12/20\n",
            "235/235 [==============================] - 3s 13ms/step - loss: 0.0461 - accuracy: 0.9877\n",
            "Epoch 13/20\n",
            "235/235 [==============================] - 3s 13ms/step - loss: 0.0359 - accuracy: 0.9898\n",
            "Epoch 14/20\n",
            "235/235 [==============================] - 3s 14ms/step - loss: 0.0458 - accuracy: 0.9869\n",
            "Epoch 15/20\n",
            "235/235 [==============================] - 3s 12ms/step - loss: 0.0334 - accuracy: 0.9910\n",
            "Epoch 16/20\n",
            "235/235 [==============================] - 3s 11ms/step - loss: 0.0292 - accuracy: 0.9924\n",
            "Epoch 17/20\n",
            "235/235 [==============================] - 3s 11ms/step - loss: 0.0254 - accuracy: 0.9928\n",
            "Epoch 18/20\n",
            "235/235 [==============================] - 3s 11ms/step - loss: 0.0249 - accuracy: 0.9931\n",
            "Epoch 19/20\n",
            "235/235 [==============================] - 3s 11ms/step - loss: 0.0228 - accuracy: 0.9938\n",
            "Epoch 20/20\n",
            "235/235 [==============================] - 3s 11ms/step - loss: 0.0257 - accuracy: 0.9936\n"
          ]
        }
      ]
    },
    {
      "cell_type": "code",
      "source": [
        "# Plotting\n",
        "plt.plot(history_cnn_model_increasing_best.history['loss'])\n",
        "plt.title('Model MSE history on train data - Lr 0.0001')\n",
        "plt.ylabel('MSE')\n",
        "plt.xlabel('epoch')\n",
        "plt.show()\n",
        "\n",
        "# Evaluate\n",
        "score = cnn_model_increasing_best.evaluate(x_test, test_labels)\n",
        "print('Test loss:', score[0])\n",
        "print('Test accuracy:', score[1])"
      ],
      "metadata": {
        "colab": {
          "base_uri": "https://localhost:8080/",
          "height": 347
        },
        "id": "mfgN3UD1SHlQ",
        "outputId": "7f4bf055-a3e2-4c82-9f78-7f2c01a27312"
      },
      "execution_count": 36,
      "outputs": [
        {
          "output_type": "display_data",
          "data": {
            "text/plain": [
              "<Figure size 432x288 with 1 Axes>"
            ],
            "image/png": "[encoded data removed]"
          },
          "metadata": {
            "needs_background": "light"
          }
        },
        {
          "output_type": "stream",
          "name": "stdout",
          "text": [
            "313/313 [==============================] - 1s 4ms/step - loss: 9.0470 - accuracy: 0.9843\n",
            "Test loss: 9.047045707702637\n",
            "Test accuracy: 0.9843000173568726\n"
          ]
        }
      ]
    },
    {
      "cell_type": "code",
      "source": [
        "cnn_model_glass_best = tf.keras.models.Sequential()\n",
        "cnn_model_glass_best.add(tf.keras.layers.Conv2D(64, (3, 3), padding='same', activation='relu'))\n",
        "cnn_model_glass_best.add(tf.keras.layers.Conv2D(64, (3, 3), strides=(2, 2), padding='same', activation='relu'))\n",
        "cnn_model_glass_best.add(tf.keras.layers.MaxPooling2D(pool_size=(2, 2), strides=(2,2), padding='same'))\n",
        "cnn_model_glass_best.add(tf.keras.layers.Conv2D(128, (3, 3), padding='same', activation='relu'))\n",
        "cnn_model_glass_best.add(tf.keras.layers.Conv2D(128, (3, 3), strides=(2, 2), padding='same', activation='relu'))\n",
        "cnn_model_glass_best.add(tf.keras.layers.MaxPooling2D(pool_size=(2, 2), strides=(2,2), padding='same'))\n",
        "cnn_model_glass_best.add(tf.keras.layers.Conv2D(256, (3, 3), padding='same', activation='relu'))\n",
        "cnn_model_glass_best.add(tf.keras.layers.Conv2D(256, (3, 3), strides=(2, 2), padding='same', activation='relu'))\n",
        "cnn_model_glass_best.add(tf.keras.layers.MaxPooling2D(pool_size=(2, 2), strides=(2,2), padding='same'))\n",
        "cnn_model_glass_best.add(tf.keras.layers.Conv2D(128, (3, 3), padding='same', activation='relu'))\n",
        "cnn_model_glass_best.add(tf.keras.layers.Conv2D(128, (3, 3), strides=(2, 2), padding='same', activation='relu'))\n",
        "cnn_model_glass_best.add(tf.keras.layers.MaxPooling2D(pool_size=(2, 2), strides=(2,2), padding='same'))\n",
        "cnn_model_glass_best.add(tf.keras.layers.Conv2D(64, (3, 3), padding='same', activation='relu'))\n",
        "cnn_model_glass_best.add(tf.keras.layers.MaxPooling2D(pool_size=(2, 2), strides=(2,2), padding='same'))\n",
        "cnn_model_glass_best.add(tf.keras.layers.Conv2D(64, (3, 3), strides=(2, 2), padding='same', activation='relu'))\n",
        "\n",
        "cnn_model_glass_best.add(tf.keras.layers.Flatten())\n",
        "cnn_model_glass_best.add(tf.keras.layers.Dense(512))\n",
        "cnn_model_glass_best.add(tf.keras.layers.Activation('relu'))\n",
        "cnn_model_glass_best.add(tf.keras.layers.Dense(10))\n",
        "cnn_model_glass_best.add(tf.keras.layers.Activation('softmax'))\n",
        "\n",
        "opt = keras.optimizers.Adam(learning_rate=0.001)\n",
        "cnn_model_glass_best.compile(loss='sparse_categorical_crossentropy', optimizer=opt, metrics=['accuracy'])\n",
        "cnn_model_glass_best.build(input_shape=(1,28,28,1))\n",
        "cnn_model_glass_best.summary()\n",
        "\n",
        "# Train the model.\n",
        "history_cnn_model_glass_best = cnn_model_glass_best.fit(\n",
        "    x_train,\n",
        "    train_labels, \n",
        "    batch_size=256,\n",
        "    epochs=20)\n",
        "\n"
      ],
      "metadata": {
        "colab": {
          "base_uri": "https://localhost:8080/"
        },
        "id": "wKn6XsY5SZk1",
        "outputId": "0eab42f5-e970-4a8a-e496-cd4681ce1383"
      },
      "execution_count": 37,
      "outputs": [
        {
          "output_type": "stream",
          "name": "stdout",
          "text": [
            "Model: \"sequential_15\"\n",
            "_________________________________________________________________\n",
            " Layer (type)                Output Shape              Param #   \n",
            "=================================================================\n",
            " conv2d_150 (Conv2D)         (1, 28, 28, 64)           640       \n",
            "                                                                 \n",
            " conv2d_151 (Conv2D)         (1, 14, 14, 64)           36928     \n",
            "                                                                 \n",
            " max_pooling2d_75 (MaxPoolin  (1, 7, 7, 64)            0         \n",
            " g2D)                                                            \n",
            "                                                                 \n",
            " conv2d_152 (Conv2D)         (1, 7, 7, 128)            73856     \n",
            "                                                                 \n",
            " conv2d_153 (Conv2D)         (1, 4, 4, 128)            147584    \n",
            "                                                                 \n",
            " max_pooling2d_76 (MaxPoolin  (1, 2, 2, 128)           0         \n",
            " g2D)                                                            \n",
            "                                                                 \n",
            " conv2d_154 (Conv2D)         (1, 2, 2, 256)            295168    \n",
            "                                                                 \n",
            " conv2d_155 (Conv2D)         (1, 1, 1, 256)            590080    \n",
            "                                                                 \n",
            " max_pooling2d_77 (MaxPoolin  (1, 1, 1, 256)           0         \n",
            " g2D)                                                            \n",
            "                                                                 \n",
            " conv2d_156 (Conv2D)         (1, 1, 1, 128)            295040    \n",
            "                                                                 \n",
            " conv2d_157 (Conv2D)         (1, 1, 1, 128)            147584    \n",
            "                                                                 \n",
            " max_pooling2d_78 (MaxPoolin  (1, 1, 1, 128)           0         \n",
            " g2D)                                                            \n",
            "                                                                 \n",
            " conv2d_158 (Conv2D)         (1, 1, 1, 64)             73792     \n",
            "                                                                 \n",
            " max_pooling2d_79 (MaxPoolin  (1, 1, 1, 64)            0         \n",
            " g2D)                                                            \n",
            "                                                                 \n",
            " conv2d_159 (Conv2D)         (1, 1, 1, 64)             36928     \n",
            "                                                                 \n",
            " flatten_15 (Flatten)        (1, 64)                   0         \n",
            "                                                                 \n",
            " dense_30 (Dense)            (1, 512)                  33280     \n",
            "                                                                 \n",
            " activation_30 (Activation)  (1, 512)                  0         \n",
            "                                                                 \n",
            " dense_31 (Dense)            (1, 10)                   5130      \n",
            "                                                                 \n",
            " activation_31 (Activation)  (1, 10)                   0         \n",
            "                                                                 \n",
            "=================================================================\n",
            "Total params: 1,736,010\n",
            "Trainable params: 1,736,010\n",
            "Non-trainable params: 0\n",
            "_________________________________________________________________\n",
            "Epoch 1/20\n",
            "235/235 [==============================] - 7s 24ms/step - loss: 1.1778 - accuracy: 0.5336\n",
            "Epoch 2/20\n",
            "235/235 [==============================] - 6s 25ms/step - loss: 0.1505 - accuracy: 0.9626\n",
            "Epoch 3/20\n",
            "235/235 [==============================] - 6s 24ms/step - loss: 0.0822 - accuracy: 0.9794\n",
            "Epoch 4/20\n",
            "235/235 [==============================] - 6s 25ms/step - loss: 0.0583 - accuracy: 0.9850\n",
            "Epoch 5/20\n",
            "235/235 [==============================] - 6s 24ms/step - loss: 0.0401 - accuracy: 0.9900\n",
            "Epoch 6/20\n",
            "235/235 [==============================] - 6s 24ms/step - loss: 0.0339 - accuracy: 0.9913\n",
            "Epoch 7/20\n",
            "235/235 [==============================] - 6s 24ms/step - loss: 0.0308 - accuracy: 0.9920\n",
            "Epoch 8/20\n",
            "235/235 [==============================] - 6s 24ms/step - loss: 0.0239 - accuracy: 0.9937\n",
            "Epoch 9/20\n",
            "235/235 [==============================] - 6s 24ms/step - loss: 0.0208 - accuracy: 0.9948\n",
            "Epoch 10/20\n",
            "235/235 [==============================] - 6s 24ms/step - loss: 0.0221 - accuracy: 0.9943\n",
            "Epoch 11/20\n",
            "235/235 [==============================] - 6s 25ms/step - loss: 0.0171 - accuracy: 0.9954\n",
            "Epoch 12/20\n",
            "235/235 [==============================] - 6s 27ms/step - loss: 0.0171 - accuracy: 0.9956\n",
            "Epoch 13/20\n",
            "235/235 [==============================] - 6s 27ms/step - loss: 0.0148 - accuracy: 0.9967\n",
            "Epoch 14/20\n",
            "235/235 [==============================] - 6s 27ms/step - loss: 0.0119 - accuracy: 0.9970\n",
            "Epoch 15/20\n",
            "235/235 [==============================] - 6s 24ms/step - loss: 0.0115 - accuracy: 0.9973\n",
            "Epoch 16/20\n",
            "235/235 [==============================] - 6s 24ms/step - loss: 0.0127 - accuracy: 0.9971\n",
            "Epoch 17/20\n",
            "235/235 [==============================] - 6s 24ms/step - loss: 0.0126 - accuracy: 0.9970\n",
            "Epoch 18/20\n",
            "235/235 [==============================] - 6s 24ms/step - loss: 0.0120 - accuracy: 0.9971\n",
            "Epoch 19/20\n",
            "235/235 [==============================] - 6s 24ms/step - loss: 0.0132 - accuracy: 0.9970\n",
            "Epoch 20/20\n",
            "235/235 [==============================] - 6s 24ms/step - loss: 0.0095 - accuracy: 0.9974\n"
          ]
        }
      ]
    },
    {
      "cell_type": "code",
      "source": [
        "# Plotting\n",
        "plt.plot(history_cnn_model_glass_best.history['loss'])\n",
        "plt.title('Model MSE history on train data - Lr 0.0001')\n",
        "plt.ylabel('MSE')\n",
        "plt.xlabel('epoch')\n",
        "plt.show()\n",
        "\n",
        "# Evaluate\n",
        "score = cnn_model_glass_best.evaluate(x_test, test_labels)\n",
        "print('Test loss:', score[0])\n",
        "print('Test accuracy:', score[1])"
      ],
      "metadata": {
        "colab": {
          "base_uri": "https://localhost:8080/",
          "height": 347
        },
        "id": "NQ-t8AyfTB54",
        "outputId": "97b49f5a-7035-441b-da74-79ef4c15e41b"
      },
      "execution_count": 38,
      "outputs": [
        {
          "output_type": "display_data",
          "data": {
            "text/plain": [
              "<Figure size 432x288 with 1 Axes>"
            ],
            "image/png": "[encoded data removed]"
          },
          "metadata": {
            "needs_background": "light"
          }
        },
        {
          "output_type": "stream",
          "name": "stdout",
          "text": [
            "313/313 [==============================] - 2s 5ms/step - loss: 18.4385 - accuracy: 0.9866\n",
            "Test loss: 18.43846321105957\n",
            "Test accuracy: 0.9865999817848206\n"
          ]
        }
      ]
    },
    {
      "cell_type": "markdown",
      "source": [
        "# Question 2\n",
        "\n",
        "In this question, it is asked to implement LeNet network for CIFAR-10 dataset with 25 epocs. After that it is asked to find the effect of the learning rate.\n",
        "\n",
        "\\\\\n",
        "Firstly, learning rate is decided as 0.01, 0.001, and 0.0001. The LeNet model is run with these learning rates. The accuracy on test sets are 0.0997, 0.5647, and 0.3244, respectively. These values are obtained at constant epocs which is 25. It is seen that the best performance is obtained with 0.001. Lower learning rates are tend to approach lower loss values but there may be 2 different reason learning rate 0.001 accuracy is higher than learning rate 0.0001. The first reason might be random initialization may lead to different local minima which is higher than the other one. The second reason might be overfitting. However, overfitting is not the case in here as the accuracy on training set with low learning rate is already low.\n",
        "\n",
        "\n",
        "\\\\\n",
        "In the second part, it is asked to use different batch sizes. For this, learning rate is taken as 0.001. The batch sizes are defined as 256, 512, and 1024. The corresponding accuracies are 0.5647, 0.5177, and 0.5546, respectively. As the batch size decreases the accuracy needs to increase as explained in the previous question. The best is obtained with 256 batch size. 1024 batch size also gave close results to 256 batch size but again because of the random weights, it is hard to understand the trend.\n",
        "\n",
        "\n",
        "\n",
        "\\\\\n",
        "In the third part, it is asked to find the best model. In this model, adam optimizer is used with 256 batch size and 0.001 learning rate. Epocs are limitted to 30 and the obtained accuracy is 0.5720. Many different combinations are tried but nothing could achieve more than 0.60. For better accuracy, model can be replaced with different amount of neurons and layers.\n",
        "\n",
        "\\\\\n",
        "In the last part, it is asked to implement feed forward network with same number of nuerons with LeNet network. Feed forward network performance is so poor when it is compared with LeNet. Lenet network with best hyperparameters and 25 epocs got 0.5199 and under same conditions feed forward network got 0.1583. The number of parameters that LeNet has is ~700,000 and number of parameters that feed forward network has is ~30,000. It means LeNet has more than 10 times more parameters. This is huge. However, the accuracy increase is more than 3 which is quite acceptable. Thus, it makes sense to use LeNet over feed forward network especially for this data, training and solution times are in the order of minutes for LeNet so everything is managable."
      ],
      "metadata": {
        "id": "rpllnggVkVNp"
      }
    },
    {
      "cell_type": "code",
      "source": [
        "(train_images, train_labels), (test_images, test_labels) = keras.datasets.cifar10.load_data()\n",
        "assert train_images.shape == (50000, 32, 32, 3)\n",
        "assert test_images.shape == (10000, 32, 32, 3)\n",
        "assert train_labels.shape == (50000, 1)\n",
        "assert test_labels.shape == (10000, 1)\n",
        "train_images = train_images / 255.0\n",
        "x_train = train_images.reshape(-1, 32, 32, 3, 1)\n",
        "x_test = test_images.reshape(-1, 32, 32, 3, 1)"
      ],
      "metadata": {
        "id": "JJRg2hDG7CXV"
      },
      "execution_count": 43,
      "outputs": []
    },
    {
      "cell_type": "code",
      "source": [
        "# Plotting\n",
        "fig, ax = plt.subplots(2,5,figsize = (18, 6))\n",
        "fig.suptitle('First 10 Train Images')\n",
        "ax = ax.flatten()\n",
        "for i in range(10):\n",
        "    im_idx = np.argwhere(train_labels == i)[0]\n",
        "    ax[i].set(xlabel='x', ylabel='y')\n",
        "    plt.setp(ax, xticks=[0, 31], yticks=[0, 31])\n",
        "    plottable_image = np.reshape(train_images[i,:,:,:], (32, 32,3))\n",
        "    ax[i].imshow(plottable_image, cmap='gray')"
      ],
      "metadata": {
        "colab": {
          "base_uri": "https://localhost:8080/",
          "height": 431
        },
        "id": "_pTH8cz87i7l",
        "outputId": "9fbfe93e-0069-49ee-a145-194e4a1d3f1c"
      },
      "execution_count": 44,
      "outputs": [
        {
          "output_type": "display_data",
          "data": {
            "text/plain": [
              "<Figure size 1296x432 with 10 Axes>"
            ],
            "image/png": "[encoded data removed]"
          },
          "metadata": {
            "needs_background": "light"
          }
        }
      ]
    },
    {
      "cell_type": "code",
      "source": [
        "lenet = tf.keras.models.Sequential()\n",
        "lenet.add(tf.keras.layers.Conv2D(6, (5, 5), strides=(1, 1), padding='same', activation='relu'))\n",
        "lenet.add(tf.keras.layers.MaxPooling2D(pool_size=(2, 2), strides=(2,2), padding='same'))\n",
        "lenet.add(tf.keras.layers.Conv2D(16, (5, 5), strides=(1, 1), padding='same', activation='relu'))\n",
        "lenet.add(tf.keras.layers.MaxPooling2D(pool_size=(2, 2), strides=(2,2), padding='same'))\n",
        "lenet.add(tf.keras.layers.Conv2D(120, (5, 5), strides=(1, 1), padding='same', activation='relu'))\n",
        "\n",
        "lenet.add(tf.keras.layers.Flatten())\n",
        "lenet.add(tf.keras.layers.Dense(84))\n",
        "lenet.add(tf.keras.layers.Activation('relu'))\n",
        "lenet.add(tf.keras.layers.Dense(10))\n",
        "lenet.add(tf.keras.layers.Activation('softmax'))\n",
        "\n",
        "opt = keras.optimizers.Adam(learning_rate=0.001)\n",
        "lenet.compile(loss='sparse_categorical_crossentropy', optimizer=opt, metrics=['accuracy'])\n",
        "lenet.build(input_shape=(1,32,32,3))\n",
        "lenet.summary()\n",
        "\n",
        "# Train the model.\n",
        "history_lenet = lenet.fit(\n",
        "    train_images,\n",
        "    train_labels, \n",
        "    batch_size=256,\n",
        "    epochs=25)\n",
        "\n"
      ],
      "metadata": {
        "colab": {
          "base_uri": "https://localhost:8080/"
        },
        "id": "pYxKeoOtAwLf",
        "outputId": "96a82652-32ae-490d-92ac-f7b6f86d6b1b"
      },
      "execution_count": 70,
      "outputs": [
        {
          "output_type": "stream",
          "name": "stdout",
          "text": [
            "Model: \"sequential_28\"\n",
            "_________________________________________________________________\n",
            " Layer (type)                Output Shape              Param #   \n",
            "=================================================================\n",
            " conv2d_193 (Conv2D)         (1, 32, 32, 6)            456       \n",
            "                                                                 \n",
            " max_pooling2d_102 (MaxPooli  (1, 16, 16, 6)           0         \n",
            " ng2D)                                                           \n",
            "                                                                 \n",
            " conv2d_194 (Conv2D)         (1, 16, 16, 16)           2416      \n",
            "                                                                 \n",
            " max_pooling2d_103 (MaxPooli  (1, 8, 8, 16)            0         \n",
            " ng2D)                                                           \n",
            "                                                                 \n",
            " conv2d_195 (Conv2D)         (1, 8, 8, 120)            48120     \n",
            "                                                                 \n",
            " flatten_28 (Flatten)        (1, 7680)                 0         \n",
            "                                                                 \n",
            " dense_59 (Dense)            (1, 84)                   645204    \n",
            "                                                                 \n",
            " activation_59 (Activation)  (1, 84)                   0         \n",
            "                                                                 \n",
            " dense_60 (Dense)            (1, 10)                   850       \n",
            "                                                                 \n",
            " activation_60 (Activation)  (1, 10)                   0         \n",
            "                                                                 \n",
            "=================================================================\n",
            "Total params: 697,046\n",
            "Trainable params: 697,046\n",
            "Non-trainable params: 0\n",
            "_________________________________________________________________\n",
            "Epoch 1/25\n",
            "196/196 [==============================] - 2s 9ms/step - loss: 1.7126 - accuracy: 0.3813\n",
            "Epoch 2/25\n",
            "196/196 [==============================] - 2s 8ms/step - loss: 1.3318 - accuracy: 0.5255\n",
            "Epoch 3/25\n",
            "196/196 [==============================] - 2s 8ms/step - loss: 1.1926 - accuracy: 0.5792\n",
            "Epoch 4/25\n",
            "196/196 [==============================] - 2s 8ms/step - loss: 1.0982 - accuracy: 0.6143\n",
            "Epoch 5/25\n",
            "196/196 [==============================] - 2s 9ms/step - loss: 1.0137 - accuracy: 0.6420\n",
            "Epoch 6/25\n",
            "196/196 [==============================] - 2s 8ms/step - loss: 0.9412 - accuracy: 0.6717\n",
            "Epoch 7/25\n",
            "196/196 [==============================] - 2s 8ms/step - loss: 0.8768 - accuracy: 0.6933\n",
            "Epoch 8/25\n",
            "196/196 [==============================] - 2s 8ms/step - loss: 0.8336 - accuracy: 0.7095\n",
            "Epoch 9/25\n",
            "196/196 [==============================] - 2s 8ms/step - loss: 0.7773 - accuracy: 0.7296\n",
            "Epoch 10/25\n",
            "196/196 [==============================] - 2s 8ms/step - loss: 0.7236 - accuracy: 0.7495\n",
            "Epoch 11/25\n",
            "196/196 [==============================] - 2s 8ms/step - loss: 0.6744 - accuracy: 0.7656\n",
            "Epoch 12/25\n",
            "196/196 [==============================] - 2s 8ms/step - loss: 0.6277 - accuracy: 0.7829\n",
            "Epoch 13/25\n",
            "196/196 [==============================] - 2s 8ms/step - loss: 0.5809 - accuracy: 0.7986\n",
            "Epoch 14/25\n",
            "196/196 [==============================] - 2s 8ms/step - loss: 0.5271 - accuracy: 0.8161\n",
            "Epoch 15/25\n",
            "196/196 [==============================] - 2s 8ms/step - loss: 0.4877 - accuracy: 0.8300\n",
            "Epoch 16/25\n",
            "196/196 [==============================] - 2s 8ms/step - loss: 0.4441 - accuracy: 0.8466\n",
            "Epoch 17/25\n",
            "196/196 [==============================] - 2s 8ms/step - loss: 0.3993 - accuracy: 0.8590\n",
            "Epoch 18/25\n",
            "196/196 [==============================] - 2s 8ms/step - loss: 0.3590 - accuracy: 0.8756\n",
            "Epoch 19/25\n",
            "196/196 [==============================] - 2s 8ms/step - loss: 0.3121 - accuracy: 0.8921\n",
            "Epoch 20/25\n",
            "196/196 [==============================] - 2s 8ms/step - loss: 0.2722 - accuracy: 0.9074\n",
            "Epoch 21/25\n",
            "196/196 [==============================] - 2s 8ms/step - loss: 0.2380 - accuracy: 0.9196\n",
            "Epoch 22/25\n",
            "196/196 [==============================] - 2s 8ms/step - loss: 0.2132 - accuracy: 0.9281\n",
            "Epoch 23/25\n",
            "196/196 [==============================] - 2s 8ms/step - loss: 0.1782 - accuracy: 0.9402\n",
            "Epoch 24/25\n",
            "196/196 [==============================] - 2s 8ms/step - loss: 0.1467 - accuracy: 0.9513\n",
            "Epoch 25/25\n",
            "196/196 [==============================] - 2s 8ms/step - loss: 0.1336 - accuracy: 0.9560\n"
          ]
        }
      ]
    },
    {
      "cell_type": "code",
      "source": [
        "# Plotting\n",
        "plt.plot(history_lenet.history['loss'])\n",
        "plt.title('Model MSE history on train data - Lenet Model')\n",
        "plt.ylabel('MSE')\n",
        "plt.xlabel('epoch')\n",
        "plt.show()\n",
        "\n",
        "# Evaluate\n",
        "score = lenet.evaluate(test_images, test_labels)\n",
        "print('Test loss:', score[0])\n",
        "print('Test accuracy:', score[1])"
      ],
      "metadata": {
        "colab": {
          "base_uri": "https://localhost:8080/",
          "height": 347
        },
        "id": "fHh4_gzfisDe",
        "outputId": "3c3f3964-5dc8-41c1-9b76-525589a6e124"
      },
      "execution_count": 71,
      "outputs": [
        {
          "output_type": "display_data",
          "data": {
            "text/plain": [
              "<Figure size 432x288 with 1 Axes>"
            ],
            "image/png": "[encoded data removed]"
          },
          "metadata": {
            "needs_background": "light"
          }
        },
        {
          "output_type": "stream",
          "name": "stdout",
          "text": [
            "313/313 [==============================] - 1s 3ms/step - loss: 560.0629 - accuracy: 0.5647\n",
            "Test loss: 560.0629272460938\n",
            "Test accuracy: 0.5647000074386597\n"
          ]
        }
      ]
    },
    {
      "cell_type": "code",
      "source": [
        "lenet_lr_0_01 = tf.keras.models.Sequential()\n",
        "lenet_lr_0_01.add(tf.keras.layers.Conv2D(6, (5, 5), strides=(1, 1), padding='same', activation='relu'))\n",
        "lenet_lr_0_01.add(tf.keras.layers.MaxPooling2D(pool_size=(2, 2), strides=(2,2), padding='same'))\n",
        "lenet_lr_0_01.add(tf.keras.layers.Conv2D(16, (5, 5), strides=(1, 1), padding='same', activation='relu'))\n",
        "lenet_lr_0_01.add(tf.keras.layers.MaxPooling2D(pool_size=(2, 2), strides=(2,2), padding='same'))\n",
        "lenet_lr_0_01.add(tf.keras.layers.Conv2D(120, (5, 5), strides=(1, 1), padding='same', activation='relu'))\n",
        "\n",
        "lenet_lr_0_01.add(tf.keras.layers.Flatten())\n",
        "lenet_lr_0_01.add(tf.keras.layers.Dense(84))\n",
        "lenet_lr_0_01.add(tf.keras.layers.Activation('relu'))\n",
        "lenet_lr_0_01.add(tf.keras.layers.Dense(10))\n",
        "lenet_lr_0_01.add(tf.keras.layers.Activation('softmax'))\n",
        "\n",
        "opt = keras.optimizers.Adam(learning_rate=0.01)\n",
        "lenet_lr_0_01.compile(loss='sparse_categorical_crossentropy', optimizer=opt, metrics=['accuracy'])\n",
        "lenet_lr_0_01.build(input_shape=(1,32,32,3))\n",
        "lenet_lr_0_01.summary()\n",
        "\n",
        "# Train the model.\n",
        "history_lenet_lr_0_01 = lenet_lr_0_01.fit(\n",
        "    train_images,\n",
        "    train_labels, \n",
        "    batch_size=256,\n",
        "    epochs=25)\n",
        "\n"
      ],
      "metadata": {
        "colab": {
          "base_uri": "https://localhost:8080/"
        },
        "id": "2a29dkqtS-XD",
        "outputId": "e64e08cf-5844-4178-af91-d4dec4e71ac8"
      },
      "execution_count": 48,
      "outputs": [
        {
          "output_type": "stream",
          "name": "stdout",
          "text": [
            "Model: \"sequential_18\"\n",
            "_________________________________________________________________\n",
            " Layer (type)                Output Shape              Param #   \n",
            "=================================================================\n",
            " conv2d_166 (Conv2D)         (1, 32, 32, 6)            456       \n",
            "                                                                 \n",
            " max_pooling2d_84 (MaxPoolin  (1, 16, 16, 6)           0         \n",
            " g2D)                                                            \n",
            "                                                                 \n",
            " conv2d_167 (Conv2D)         (1, 16, 16, 16)           2416      \n",
            "                                                                 \n",
            " max_pooling2d_85 (MaxPoolin  (1, 8, 8, 16)            0         \n",
            " g2D)                                                            \n",
            "                                                                 \n",
            " conv2d_168 (Conv2D)         (1, 8, 8, 120)            48120     \n",
            "                                                                 \n",
            " flatten_18 (Flatten)        (1, 7680)                 0         \n",
            "                                                                 \n",
            " dense_36 (Dense)            (1, 84)                   645204    \n",
            "                                                                 \n",
            " activation_36 (Activation)  (1, 84)                   0         \n",
            "                                                                 \n",
            " dense_37 (Dense)            (1, 10)                   850       \n",
            "                                                                 \n",
            " activation_37 (Activation)  (1, 10)                   0         \n",
            "                                                                 \n",
            "=================================================================\n",
            "Total params: 697,046\n",
            "Trainable params: 697,046\n",
            "Non-trainable params: 0\n",
            "_________________________________________________________________\n",
            "Epoch 1/25\n",
            "196/196 [==============================] - 2s 8ms/step - loss: 2.3279 - accuracy: 0.0987\n",
            "Epoch 2/25\n",
            "196/196 [==============================] - 2s 8ms/step - loss: 2.3031 - accuracy: 0.1003\n",
            "Epoch 3/25\n",
            "196/196 [==============================] - 2s 9ms/step - loss: 2.3031 - accuracy: 0.0999\n",
            "Epoch 4/25\n",
            "196/196 [==============================] - 2s 8ms/step - loss: 2.3032 - accuracy: 0.0994\n",
            "Epoch 5/25\n",
            "196/196 [==============================] - 2s 8ms/step - loss: 2.3031 - accuracy: 0.1001\n",
            "Epoch 6/25\n",
            "196/196 [==============================] - 2s 8ms/step - loss: 2.3031 - accuracy: 0.0992\n",
            "Epoch 7/25\n",
            "196/196 [==============================] - 2s 8ms/step - loss: 2.3030 - accuracy: 0.0985\n",
            "Epoch 8/25\n",
            "196/196 [==============================] - 2s 9ms/step - loss: 2.3031 - accuracy: 0.0977\n",
            "Epoch 9/25\n",
            "196/196 [==============================] - 2s 9ms/step - loss: 2.3032 - accuracy: 0.0979\n",
            "Epoch 10/25\n",
            "196/196 [==============================] - 2s 8ms/step - loss: 2.3031 - accuracy: 0.0979\n",
            "Epoch 11/25\n",
            "196/196 [==============================] - 2s 8ms/step - loss: 2.3033 - accuracy: 0.0985\n",
            "Epoch 12/25\n",
            "196/196 [==============================] - 2s 8ms/step - loss: 2.3031 - accuracy: 0.0974\n",
            "Epoch 13/25\n",
            "196/196 [==============================] - 2s 8ms/step - loss: 2.3032 - accuracy: 0.0968\n",
            "Epoch 14/25\n",
            "196/196 [==============================] - 2s 8ms/step - loss: 2.3030 - accuracy: 0.1015\n",
            "Epoch 15/25\n",
            "196/196 [==============================] - 2s 8ms/step - loss: 2.3030 - accuracy: 0.0995\n",
            "Epoch 16/25\n",
            "196/196 [==============================] - 2s 11ms/step - loss: 2.3031 - accuracy: 0.0977\n",
            "Epoch 17/25\n",
            "196/196 [==============================] - 2s 11ms/step - loss: 2.3030 - accuracy: 0.0981\n",
            "Epoch 18/25\n",
            "196/196 [==============================] - 2s 8ms/step - loss: 2.3032 - accuracy: 0.0980\n",
            "Epoch 19/25\n",
            "196/196 [==============================] - 2s 10ms/step - loss: 2.3032 - accuracy: 0.0991\n",
            "Epoch 20/25\n",
            "196/196 [==============================] - 2s 9ms/step - loss: 2.3031 - accuracy: 0.1012\n",
            "Epoch 21/25\n",
            "196/196 [==============================] - 2s 10ms/step - loss: 2.3032 - accuracy: 0.0998\n",
            "Epoch 22/25\n",
            "196/196 [==============================] - 2s 12ms/step - loss: 2.3031 - accuracy: 0.0998\n",
            "Epoch 23/25\n",
            "196/196 [==============================] - 2s 9ms/step - loss: 2.3032 - accuracy: 0.0979\n",
            "Epoch 24/25\n",
            "196/196 [==============================] - 2s 10ms/step - loss: 2.3032 - accuracy: 0.0987\n",
            "Epoch 25/25\n",
            "196/196 [==============================] - 2s 9ms/step - loss: 2.3033 - accuracy: 0.0964\n"
          ]
        }
      ]
    },
    {
      "cell_type": "code",
      "source": [
        "# Plotting\n",
        "plt.plot(history_lenet_lr_0_01.history['loss'])\n",
        "plt.title('Model MSE history on train data - Lr 0.01')\n",
        "plt.ylabel('MSE')\n",
        "plt.xlabel('epoch')\n",
        "plt.show()\n",
        "\n",
        "# Evaluate\n",
        "score = lenet_lr_0_01.evaluate(test_images, test_labels)\n",
        "print('Test loss:', score[0])\n",
        "print('Test accuracy:', score[1])"
      ],
      "metadata": {
        "colab": {
          "base_uri": "https://localhost:8080/",
          "height": 347
        },
        "id": "DuKN8Q4qi9RP",
        "outputId": "5276a432-1e30-46d5-98b7-cc6ae9ad97c9"
      },
      "execution_count": 49,
      "outputs": [
        {
          "output_type": "display_data",
          "data": {
            "text/plain": [
              "<Figure size 432x288 with 1 Axes>"
            ],
            "image/png": "[encoded data removed]"
          },
          "metadata": {
            "needs_background": "light"
          }
        },
        {
          "output_type": "stream",
          "name": "stdout",
          "text": [
            "313/313 [==============================] - 1s 3ms/step - loss: 2.3071 - accuracy: 0.0997\n",
            "Test loss: 2.307072639465332\n",
            "Test accuracy: 0.09969999641180038\n"
          ]
        }
      ]
    },
    {
      "cell_type": "code",
      "source": [
        "lenet_lr_0_0001 = tf.keras.models.Sequential()\n",
        "lenet_lr_0_0001.add(tf.keras.layers.Conv2D(6, (5, 5), strides=(1, 1), padding='same', activation='relu'))\n",
        "lenet_lr_0_0001.add(tf.keras.layers.MaxPooling2D(pool_size=(2, 2), strides=(2,2), padding='same'))\n",
        "lenet_lr_0_0001.add(tf.keras.layers.Conv2D(16, (5, 5), strides=(1, 1), padding='same', activation='relu'))\n",
        "lenet_lr_0_0001.add(tf.keras.layers.MaxPooling2D(pool_size=(2, 2), strides=(2,2), padding='same'))\n",
        "lenet_lr_0_0001.add(tf.keras.layers.Conv2D(120, (5, 5), strides=(1, 1), padding='same', activation='relu'))\n",
        "\n",
        "lenet_lr_0_0001.add(tf.keras.layers.Flatten())\n",
        "lenet_lr_0_0001.add(tf.keras.layers.Dense(84))\n",
        "lenet_lr_0_0001.add(tf.keras.layers.Activation('relu'))\n",
        "lenet_lr_0_0001.add(tf.keras.layers.Dense(10))\n",
        "lenet_lr_0_0001.add(tf.keras.layers.Activation('softmax'))\n",
        "\n",
        "opt = keras.optimizers.Adam(learning_rate=0.01)\n",
        "lenet_lr_0_0001.compile(loss='sparse_categorical_crossentropy', optimizer=opt, metrics=['accuracy'])\n",
        "lenet_lr_0_0001.build(input_shape=(1,32,32,3))\n",
        "lenet_lr_0_0001.summary()\n",
        "\n",
        "# Train the model.\n",
        "history_lenet_lr_0_0001 = lenet_lr_0_0001.fit(\n",
        "    train_images,\n",
        "    train_labels, \n",
        "    batch_size=256,\n",
        "    epochs=25)\n",
        "\n"
      ],
      "metadata": {
        "colab": {
          "base_uri": "https://localhost:8080/"
        },
        "id": "thdLhJSCTL2_",
        "outputId": "72d4f7d3-a93e-435f-896c-9d0a7491c365"
      },
      "execution_count": 50,
      "outputs": [
        {
          "output_type": "stream",
          "name": "stdout",
          "text": [
            "Model: \"sequential_19\"\n",
            "_________________________________________________________________\n",
            " Layer (type)                Output Shape              Param #   \n",
            "=================================================================\n",
            " conv2d_169 (Conv2D)         (1, 32, 32, 6)            456       \n",
            "                                                                 \n",
            " max_pooling2d_86 (MaxPoolin  (1, 16, 16, 6)           0         \n",
            " g2D)                                                            \n",
            "                                                                 \n",
            " conv2d_170 (Conv2D)         (1, 16, 16, 16)           2416      \n",
            "                                                                 \n",
            " max_pooling2d_87 (MaxPoolin  (1, 8, 8, 16)            0         \n",
            " g2D)                                                            \n",
            "                                                                 \n",
            " conv2d_171 (Conv2D)         (1, 8, 8, 120)            48120     \n",
            "                                                                 \n",
            " flatten_19 (Flatten)        (1, 7680)                 0         \n",
            "                                                                 \n",
            " dense_38 (Dense)            (1, 84)                   645204    \n",
            "                                                                 \n",
            " activation_38 (Activation)  (1, 84)                   0         \n",
            "                                                                 \n",
            " dense_39 (Dense)            (1, 10)                   850       \n",
            "                                                                 \n",
            " activation_39 (Activation)  (1, 10)                   0         \n",
            "                                                                 \n",
            "=================================================================\n",
            "Total params: 697,046\n",
            "Trainable params: 697,046\n",
            "Non-trainable params: 0\n",
            "_________________________________________________________________\n",
            "Epoch 1/25\n",
            "196/196 [==============================] - 3s 10ms/step - loss: 1.8801 - accuracy: 0.3228\n",
            "Epoch 2/25\n",
            "196/196 [==============================] - 2s 10ms/step - loss: 1.5137 - accuracy: 0.4611\n",
            "Epoch 3/25\n",
            "196/196 [==============================] - 2s 9ms/step - loss: 1.4048 - accuracy: 0.5040\n",
            "Epoch 4/25\n",
            "196/196 [==============================] - 2s 9ms/step - loss: 1.3242 - accuracy: 0.5355\n",
            "Epoch 5/25\n",
            "196/196 [==============================] - 2s 9ms/step - loss: 1.2750 - accuracy: 0.5474\n",
            "Epoch 6/25\n",
            "196/196 [==============================] - 2s 12ms/step - loss: 1.2259 - accuracy: 0.5654\n",
            "Epoch 7/25\n",
            "196/196 [==============================] - 2s 10ms/step - loss: 1.1798 - accuracy: 0.5803\n",
            "Epoch 8/25\n",
            "196/196 [==============================] - 2s 9ms/step - loss: 1.1486 - accuracy: 0.5927\n",
            "Epoch 9/25\n",
            "196/196 [==============================] - 2s 8ms/step - loss: 1.1070 - accuracy: 0.6086\n",
            "Epoch 10/25\n",
            "196/196 [==============================] - 2s 8ms/step - loss: 1.0854 - accuracy: 0.6144\n",
            "Epoch 11/25\n",
            "196/196 [==============================] - 2s 8ms/step - loss: 1.0462 - accuracy: 0.6298\n",
            "Epoch 12/25\n",
            "196/196 [==============================] - 2s 9ms/step - loss: 1.0366 - accuracy: 0.6298\n",
            "Epoch 13/25\n",
            "196/196 [==============================] - 2s 8ms/step - loss: 1.0167 - accuracy: 0.6372\n",
            "Epoch 14/25\n",
            "196/196 [==============================] - 2s 8ms/step - loss: 1.0149 - accuracy: 0.6385\n",
            "Epoch 15/25\n",
            "196/196 [==============================] - 2s 8ms/step - loss: 0.9730 - accuracy: 0.6521\n",
            "Epoch 16/25\n",
            "196/196 [==============================] - 2s 8ms/step - loss: 0.9767 - accuracy: 0.6518\n",
            "Epoch 17/25\n",
            "196/196 [==============================] - 2s 8ms/step - loss: 0.9519 - accuracy: 0.6598\n",
            "Epoch 18/25\n",
            "196/196 [==============================] - 2s 8ms/step - loss: 0.9411 - accuracy: 0.6616\n",
            "Epoch 19/25\n",
            "196/196 [==============================] - 2s 8ms/step - loss: 0.9120 - accuracy: 0.6739\n",
            "Epoch 20/25\n",
            "196/196 [==============================] - 2s 8ms/step - loss: 0.8978 - accuracy: 0.6796\n",
            "Epoch 21/25\n",
            "196/196 [==============================] - 2s 9ms/step - loss: 0.8839 - accuracy: 0.6841\n",
            "Epoch 22/25\n",
            "196/196 [==============================] - 2s 8ms/step - loss: 0.8767 - accuracy: 0.6863\n",
            "Epoch 23/25\n",
            "196/196 [==============================] - 2s 8ms/step - loss: 0.8754 - accuracy: 0.6864\n",
            "Epoch 24/25\n",
            "196/196 [==============================] - 2s 9ms/step - loss: 0.8488 - accuracy: 0.6956\n",
            "Epoch 25/25\n",
            "196/196 [==============================] - 2s 8ms/step - loss: 0.8481 - accuracy: 0.6936\n"
          ]
        }
      ]
    },
    {
      "cell_type": "code",
      "source": [
        "# Plotting\n",
        "plt.plot(history_lenet_lr_0_0001.history['loss'])\n",
        "plt.title('Model MSE history on train data - Lr 0.0001')\n",
        "plt.ylabel('MSE')\n",
        "plt.xlabel('epoch')\n",
        "plt.show()\n",
        "\n",
        "# Evaluate\n",
        "score = lenet_lr_0_0001.evaluate(test_images, test_labels)\n",
        "print('Test loss:', score[0])\n",
        "print('Test accuracy:', score[1])"
      ],
      "metadata": {
        "colab": {
          "base_uri": "https://localhost:8080/",
          "height": 347
        },
        "id": "ADJjo8AEjJy7",
        "outputId": "25cf3422-9afb-4ffb-d4d4-1dcd6752fc3a"
      },
      "execution_count": 56,
      "outputs": [
        {
          "output_type": "display_data",
          "data": {
            "text/plain": [
              "<Figure size 432x288 with 1 Axes>"
            ],
            "image/png": "[encoded data removed]"
          },
          "metadata": {
            "needs_background": "light"
          }
        },
        {
          "output_type": "stream",
          "name": "stdout",
          "text": [
            "313/313 [==============================] - 1s 3ms/step - loss: 357.0632 - accuracy: 0.3244\n",
            "Test loss: 357.06317138671875\n",
            "Test accuracy: 0.32440000772476196\n"
          ]
        }
      ]
    },
    {
      "cell_type": "code",
      "source": [
        "lenet_batch_512 = tf.keras.models.Sequential()\n",
        "lenet_batch_512.add(tf.keras.layers.Conv2D(6, (5, 5), strides=(1, 1), padding='same', activation='relu'))\n",
        "lenet_batch_512.add(tf.keras.layers.MaxPooling2D(pool_size=(2, 2), strides=(2,2), padding='same'))\n",
        "lenet_batch_512.add(tf.keras.layers.Conv2D(16, (5, 5), strides=(1, 1), padding='same', activation='relu'))\n",
        "lenet_batch_512.add(tf.keras.layers.MaxPooling2D(pool_size=(2, 2), strides=(2,2), padding='same'))\n",
        "lenet_batch_512.add(tf.keras.layers.Conv2D(120, (5, 5), strides=(1, 1), padding='same', activation='relu'))\n",
        "\n",
        "lenet_batch_512.add(tf.keras.layers.Flatten())\n",
        "lenet_batch_512.add(tf.keras.layers.Dense(84))\n",
        "lenet_batch_512.add(tf.keras.layers.Activation('relu'))\n",
        "lenet_batch_512.add(tf.keras.layers.Dense(10))\n",
        "lenet_batch_512.add(tf.keras.layers.Activation('softmax'))\n",
        "\n",
        "opt = keras.optimizers.Adam(learning_rate=0.001)\n",
        "lenet_batch_512.compile(loss='sparse_categorical_crossentropy', optimizer=opt, metrics=['accuracy'])\n",
        "lenet_batch_512.build(input_shape=(1,32,32,3))\n",
        "lenet_batch_512.summary()\n",
        "\n",
        "# Train the model.\n",
        "history_lenet_batch_512 = lenet_batch_512.fit(\n",
        "    train_images,\n",
        "    train_labels, \n",
        "    batch_size=512,\n",
        "    epochs=25)\n",
        "\n"
      ],
      "metadata": {
        "id": "oKg9iyMnTWx8",
        "colab": {
          "base_uri": "https://localhost:8080/"
        },
        "outputId": "6cab869d-fc14-450e-c3ba-51ae0fc48272"
      },
      "execution_count": 68,
      "outputs": [
        {
          "output_type": "stream",
          "name": "stdout",
          "text": [
            "Model: \"sequential_27\"\n",
            "_________________________________________________________________\n",
            " Layer (type)                Output Shape              Param #   \n",
            "=================================================================\n",
            " conv2d_190 (Conv2D)         (1, 32, 32, 6)            456       \n",
            "                                                                 \n",
            " max_pooling2d_100 (MaxPooli  (1, 16, 16, 6)           0         \n",
            " ng2D)                                                           \n",
            "                                                                 \n",
            " conv2d_191 (Conv2D)         (1, 16, 16, 16)           2416      \n",
            "                                                                 \n",
            " max_pooling2d_101 (MaxPooli  (1, 8, 8, 16)            0         \n",
            " ng2D)                                                           \n",
            "                                                                 \n",
            " conv2d_192 (Conv2D)         (1, 8, 8, 120)            48120     \n",
            "                                                                 \n",
            " flatten_27 (Flatten)        (1, 7680)                 0         \n",
            "                                                                 \n",
            " dense_57 (Dense)            (1, 84)                   645204    \n",
            "                                                                 \n",
            " activation_57 (Activation)  (1, 84)                   0         \n",
            "                                                                 \n",
            " dense_58 (Dense)            (1, 10)                   850       \n",
            "                                                                 \n",
            " activation_58 (Activation)  (1, 10)                   0         \n",
            "                                                                 \n",
            "=================================================================\n",
            "Total params: 697,046\n",
            "Trainable params: 697,046\n",
            "Non-trainable params: 0\n",
            "_________________________________________________________________\n",
            "Epoch 1/25\n",
            "98/98 [==============================] - 2s 15ms/step - loss: 1.8178 - accuracy: 0.3306\n",
            "Epoch 2/25\n",
            "98/98 [==============================] - 1s 14ms/step - loss: 1.4754 - accuracy: 0.4647\n",
            "Epoch 3/25\n",
            "98/98 [==============================] - 1s 14ms/step - loss: 1.3421 - accuracy: 0.5189\n",
            "Epoch 4/25\n",
            "98/98 [==============================] - 1s 14ms/step - loss: 1.2445 - accuracy: 0.5576\n",
            "Epoch 5/25\n",
            "98/98 [==============================] - 1s 14ms/step - loss: 1.1739 - accuracy: 0.5859\n",
            "Epoch 6/25\n",
            "98/98 [==============================] - 1s 14ms/step - loss: 1.0998 - accuracy: 0.6102\n",
            "Epoch 7/25\n",
            "98/98 [==============================] - 1s 14ms/step - loss: 1.0501 - accuracy: 0.6300\n",
            "Epoch 8/25\n",
            "98/98 [==============================] - 1s 14ms/step - loss: 1.0068 - accuracy: 0.6469\n",
            "Epoch 9/25\n",
            "98/98 [==============================] - 1s 14ms/step - loss: 0.9554 - accuracy: 0.6633\n",
            "Epoch 10/25\n",
            "98/98 [==============================] - 1s 14ms/step - loss: 0.9118 - accuracy: 0.6823\n",
            "Epoch 11/25\n",
            "98/98 [==============================] - 1s 14ms/step - loss: 0.8761 - accuracy: 0.6947\n",
            "Epoch 12/25\n",
            "98/98 [==============================] - 1s 14ms/step - loss: 0.8296 - accuracy: 0.7127\n",
            "Epoch 13/25\n",
            "98/98 [==============================] - 1s 14ms/step - loss: 0.8074 - accuracy: 0.7172\n",
            "Epoch 14/25\n",
            "98/98 [==============================] - 1s 14ms/step - loss: 0.7661 - accuracy: 0.7314\n",
            "Epoch 15/25\n",
            "98/98 [==============================] - 1s 14ms/step - loss: 0.7274 - accuracy: 0.7477\n",
            "Epoch 16/25\n",
            "98/98 [==============================] - 1s 14ms/step - loss: 0.7020 - accuracy: 0.7564\n",
            "Epoch 17/25\n",
            "98/98 [==============================] - 1s 14ms/step - loss: 0.6641 - accuracy: 0.7716\n",
            "Epoch 18/25\n",
            "98/98 [==============================] - 1s 14ms/step - loss: 0.6331 - accuracy: 0.7786\n",
            "Epoch 19/25\n",
            "98/98 [==============================] - 1s 14ms/step - loss: 0.5943 - accuracy: 0.7961\n",
            "Epoch 20/25\n",
            "98/98 [==============================] - 1s 14ms/step - loss: 0.5726 - accuracy: 0.8037\n",
            "Epoch 21/25\n",
            "98/98 [==============================] - 1s 14ms/step - loss: 0.5395 - accuracy: 0.8144\n",
            "Epoch 22/25\n",
            "98/98 [==============================] - 1s 14ms/step - loss: 0.5100 - accuracy: 0.8252\n",
            "Epoch 23/25\n",
            "98/98 [==============================] - 1s 14ms/step - loss: 0.4696 - accuracy: 0.8414\n",
            "Epoch 24/25\n",
            "98/98 [==============================] - 1s 14ms/step - loss: 0.4393 - accuracy: 0.8512\n",
            "Epoch 25/25\n",
            "98/98 [==============================] - 1s 14ms/step - loss: 0.4069 - accuracy: 0.8635\n"
          ]
        }
      ]
    },
    {
      "cell_type": "code",
      "source": [
        "# Plotting\n",
        "plt.plot(history_lenet_batch_512.history['loss'])\n",
        "plt.title('Model MSE history on train data - Lr 0.01')\n",
        "plt.ylabel('MSE')\n",
        "plt.xlabel('epoch')\n",
        "plt.show()\n",
        "\n",
        "# Evaluate\n",
        "score = lenet_batch_512.evaluate(test_images, test_labels)\n",
        "print('Test loss:', score[0])\n",
        "print('Test accuracy:', score[1])"
      ],
      "metadata": {
        "colab": {
          "base_uri": "https://localhost:8080/",
          "height": 347
        },
        "id": "a38fuz6rjaVQ",
        "outputId": "750abaef-f4cb-4978-833f-1703b7b57f65"
      },
      "execution_count": 69,
      "outputs": [
        {
          "output_type": "display_data",
          "data": {
            "text/plain": [
              "<Figure size 432x288 with 1 Axes>"
            ],
            "image/png": "[encoded data removed]"
          },
          "metadata": {
            "needs_background": "light"
          }
        },
        {
          "output_type": "stream",
          "name": "stdout",
          "text": [
            "313/313 [==============================] - 1s 3ms/step - loss: 343.0621 - accuracy: 0.5177\n",
            "Test loss: 343.0621032714844\n",
            "Test accuracy: 0.5177000164985657\n"
          ]
        }
      ]
    },
    {
      "cell_type": "code",
      "source": [
        "lenet_batch_1024 = tf.keras.models.Sequential()\n",
        "lenet_batch_1024.add(tf.keras.layers.Conv2D(6, (5, 5), strides=(1, 1), padding='same', activation='relu'))\n",
        "lenet_batch_1024.add(tf.keras.layers.MaxPooling2D(pool_size=(2, 2), strides=(2,2), padding='same'))\n",
        "lenet_batch_1024.add(tf.keras.layers.Conv2D(16, (5, 5), strides=(1, 1), padding='same', activation='relu'))\n",
        "lenet_batch_1024.add(tf.keras.layers.MaxPooling2D(pool_size=(2, 2), strides=(2,2), padding='same'))\n",
        "lenet_batch_1024.add(tf.keras.layers.Conv2D(120, (5, 5), strides=(1, 1), padding='same', activation='relu'))\n",
        "\n",
        "lenet_batch_1024.add(tf.keras.layers.Flatten())\n",
        "lenet_batch_1024.add(tf.keras.layers.Dense(84))\n",
        "lenet_batch_1024.add(tf.keras.layers.Activation('relu'))\n",
        "lenet_batch_1024.add(tf.keras.layers.Dense(10))\n",
        "lenet_batch_1024.add(tf.keras.layers.Activation('softmax'))\n",
        "\n",
        "opt = keras.optimizers.Adam(learning_rate=0.001)\n",
        "lenet_batch_1024.compile(loss='sparse_categorical_crossentropy', optimizer=opt, metrics=['accuracy'])\n",
        "lenet_batch_1024.build(input_shape=(1,32,32,3))\n",
        "lenet_batch_1024.summary()\n",
        "\n",
        "# Train the model.\n",
        "history_lenet_batch_1024 = lenet_batch_1024.fit(\n",
        "    train_images,\n",
        "    train_labels, \n",
        "    batch_size=1024,\n",
        "    epochs=25)\n",
        "\n"
      ],
      "metadata": {
        "id": "E05l4XhpTfX3",
        "colab": {
          "base_uri": "https://localhost:8080/"
        },
        "outputId": "326c0cb2-ba86-45c7-c98d-2f3687af5334"
      },
      "execution_count": 54,
      "outputs": [
        {
          "output_type": "stream",
          "name": "stdout",
          "text": [
            "Model: \"sequential_21\"\n",
            "_________________________________________________________________\n",
            " Layer (type)                Output Shape              Param #   \n",
            "=================================================================\n",
            " conv2d_175 (Conv2D)         (1, 32, 32, 6)            456       \n",
            "                                                                 \n",
            " max_pooling2d_90 (MaxPoolin  (1, 16, 16, 6)           0         \n",
            " g2D)                                                            \n",
            "                                                                 \n",
            " conv2d_176 (Conv2D)         (1, 16, 16, 16)           2416      \n",
            "                                                                 \n",
            " max_pooling2d_91 (MaxPoolin  (1, 8, 8, 16)            0         \n",
            " g2D)                                                            \n",
            "                                                                 \n",
            " conv2d_177 (Conv2D)         (1, 8, 8, 120)            48120     \n",
            "                                                                 \n",
            " flatten_21 (Flatten)        (1, 7680)                 0         \n",
            "                                                                 \n",
            " dense_42 (Dense)            (1, 84)                   645204    \n",
            "                                                                 \n",
            " activation_42 (Activation)  (1, 84)                   0         \n",
            "                                                                 \n",
            " dense_43 (Dense)            (1, 10)                   850       \n",
            "                                                                 \n",
            " activation_43 (Activation)  (1, 10)                   0         \n",
            "                                                                 \n",
            "=================================================================\n",
            "Total params: 697,046\n",
            "Trainable params: 697,046\n",
            "Non-trainable params: 0\n",
            "_________________________________________________________________\n",
            "Epoch 1/25\n",
            "49/49 [==============================] - 2s 32ms/step - loss: 1.9876 - accuracy: 0.2707\n",
            "Epoch 2/25\n",
            "49/49 [==============================] - 1s 29ms/step - loss: 1.6238 - accuracy: 0.4178\n",
            "Epoch 3/25\n",
            "49/49 [==============================] - 1s 26ms/step - loss: 1.4683 - accuracy: 0.4747\n",
            "Epoch 4/25\n",
            "49/49 [==============================] - 1s 26ms/step - loss: 1.3667 - accuracy: 0.5160\n",
            "Epoch 5/25\n",
            "49/49 [==============================] - 1s 26ms/step - loss: 1.3160 - accuracy: 0.5343\n",
            "Epoch 6/25\n",
            "49/49 [==============================] - 1s 26ms/step - loss: 1.2599 - accuracy: 0.5559\n",
            "Epoch 7/25\n",
            "49/49 [==============================] - 1s 27ms/step - loss: 1.2110 - accuracy: 0.5755\n",
            "Epoch 8/25\n",
            "49/49 [==============================] - 1s 26ms/step - loss: 1.1765 - accuracy: 0.5887\n",
            "Epoch 9/25\n",
            "49/49 [==============================] - 1s 26ms/step - loss: 1.1309 - accuracy: 0.6046\n",
            "Epoch 10/25\n",
            "49/49 [==============================] - 1s 27ms/step - loss: 1.1068 - accuracy: 0.6118\n",
            "Epoch 11/25\n",
            "49/49 [==============================] - 1s 27ms/step - loss: 1.0624 - accuracy: 0.6280\n",
            "Epoch 12/25\n",
            "49/49 [==============================] - 1s 27ms/step - loss: 1.0425 - accuracy: 0.6347\n",
            "Epoch 13/25\n",
            "49/49 [==============================] - 1s 27ms/step - loss: 1.0114 - accuracy: 0.6479\n",
            "Epoch 14/25\n",
            "49/49 [==============================] - 1s 27ms/step - loss: 0.9907 - accuracy: 0.6540\n",
            "Epoch 15/25\n",
            "49/49 [==============================] - 1s 26ms/step - loss: 0.9689 - accuracy: 0.6601\n",
            "Epoch 16/25\n",
            "49/49 [==============================] - 1s 29ms/step - loss: 0.9493 - accuracy: 0.6694\n",
            "Epoch 17/25\n",
            "49/49 [==============================] - 1s 27ms/step - loss: 0.9287 - accuracy: 0.6780\n",
            "Epoch 18/25\n",
            "49/49 [==============================] - 1s 27ms/step - loss: 0.9071 - accuracy: 0.6832\n",
            "Epoch 19/25\n",
            "49/49 [==============================] - 1s 27ms/step - loss: 0.8760 - accuracy: 0.6946\n",
            "Epoch 20/25\n",
            "49/49 [==============================] - 1s 27ms/step - loss: 0.8511 - accuracy: 0.7037\n",
            "Epoch 21/25\n",
            "49/49 [==============================] - 1s 26ms/step - loss: 0.8406 - accuracy: 0.7081\n",
            "Epoch 22/25\n",
            "49/49 [==============================] - 1s 27ms/step - loss: 0.8227 - accuracy: 0.7160\n",
            "Epoch 23/25\n",
            "49/49 [==============================] - 2s 31ms/step - loss: 0.7991 - accuracy: 0.7216\n",
            "Epoch 24/25\n",
            "49/49 [==============================] - 2s 36ms/step - loss: 0.7822 - accuracy: 0.7279\n",
            "Epoch 25/25\n",
            "49/49 [==============================] - 2s 33ms/step - loss: 0.7606 - accuracy: 0.7371\n"
          ]
        }
      ]
    },
    {
      "cell_type": "code",
      "source": [
        "# Plotting\n",
        "plt.plot(history_lenet_batch_1024.history['loss'])\n",
        "plt.title('Model MSE history on train data - Lr 0.01')\n",
        "plt.ylabel('MSE')\n",
        "plt.xlabel('epoch')\n",
        "plt.show()\n",
        "\n",
        "# Evaluate\n",
        "score = lenet_batch_1024.evaluate(test_images, test_labels)\n",
        "print('Test loss:', score[0])\n",
        "print('Test accuracy:', score[1])"
      ],
      "metadata": {
        "colab": {
          "base_uri": "https://localhost:8080/",
          "height": 347
        },
        "id": "V8pGitvQjlnB",
        "outputId": "c8283b4e-106b-46e9-9405-86f81ae26afd"
      },
      "execution_count": 55,
      "outputs": [
        {
          "output_type": "display_data",
          "data": {
            "text/plain": [
              "<Figure size 432x288 with 1 Axes>"
            ],
            "image/png": "[encoded data removed]"
          },
          "metadata": {
            "needs_background": "light"
          }
        },
        {
          "output_type": "stream",
          "name": "stdout",
          "text": [
            "313/313 [==============================] - 2s 5ms/step - loss: 213.4722 - accuracy: 0.5546\n",
            "Test loss: 213.47215270996094\n",
            "Test accuracy: 0.5546000003814697\n"
          ]
        }
      ]
    },
    {
      "cell_type": "code",
      "source": [
        "lenet_best = tf.keras.models.Sequential()\n",
        "lenet_best.add(tf.keras.layers.Conv2D(6, (5, 5), strides=(1, 1), padding='same', activation='relu'))\n",
        "lenet_best.add(tf.keras.layers.MaxPooling2D(pool_size=(2, 2), strides=(2,2), padding='same'))\n",
        "lenet_best.add(tf.keras.layers.Conv2D(16, (5, 5), strides=(1, 1), padding='same', activation='relu'))\n",
        "lenet_best.add(tf.keras.layers.MaxPooling2D(pool_size=(2, 2), strides=(2,2), padding='same'))\n",
        "lenet_best.add(tf.keras.layers.Conv2D(120, (5, 5), strides=(1, 1), padding='same', activation='relu'))\n",
        "\n",
        "lenet_best.add(tf.keras.layers.Flatten())\n",
        "lenet_best.add(tf.keras.layers.Dense(84))\n",
        "lenet_best.add(tf.keras.layers.Activation('relu'))\n",
        "lenet_best.add(tf.keras.layers.Dense(10))\n",
        "lenet_best.add(tf.keras.layers.Activation('softmax'))\n",
        "\n",
        "opt = keras.optimizers.Adam(learning_rate=0.001)\n",
        "lenet_best.compile(loss='sparse_categorical_crossentropy', optimizer=opt, metrics=['accuracy'])\n",
        "lenet_best.build(input_shape=(1,32,32,3))\n",
        "lenet_best.summary()\n",
        "\n",
        "# Train the model.\n",
        "history_lenet_best = lenet_best.fit(\n",
        "    train_images,\n",
        "    train_labels, \n",
        "    batch_size=256,\n",
        "    epochs=30)\n"
      ],
      "metadata": {
        "id": "703iFBIETs2o",
        "colab": {
          "base_uri": "https://localhost:8080/"
        },
        "outputId": "52a833bd-4b53-4367-dc09-87883087b382"
      },
      "execution_count": 90,
      "outputs": [
        {
          "output_type": "stream",
          "name": "stdout",
          "text": [
            "Model: \"sequential_36\"\n",
            "_________________________________________________________________\n",
            " Layer (type)                Output Shape              Param #   \n",
            "=================================================================\n",
            " conv2d_217 (Conv2D)         (1, 32, 32, 6)            456       \n",
            "                                                                 \n",
            " max_pooling2d_118 (MaxPooli  (1, 16, 16, 6)           0         \n",
            " ng2D)                                                           \n",
            "                                                                 \n",
            " conv2d_218 (Conv2D)         (1, 16, 16, 16)           2416      \n",
            "                                                                 \n",
            " max_pooling2d_119 (MaxPooli  (1, 8, 8, 16)            0         \n",
            " ng2D)                                                           \n",
            "                                                                 \n",
            " conv2d_219 (Conv2D)         (1, 8, 8, 120)            48120     \n",
            "                                                                 \n",
            " flatten_36 (Flatten)        (1, 7680)                 0         \n",
            "                                                                 \n",
            " dense_75 (Dense)            (1, 84)                   645204    \n",
            "                                                                 \n",
            " activation_75 (Activation)  (1, 84)                   0         \n",
            "                                                                 \n",
            " dense_76 (Dense)            (1, 10)                   850       \n",
            "                                                                 \n",
            " activation_76 (Activation)  (1, 10)                   0         \n",
            "                                                                 \n",
            "=================================================================\n",
            "Total params: 697,046\n",
            "Trainable params: 697,046\n",
            "Non-trainable params: 0\n",
            "_________________________________________________________________\n",
            "Epoch 1/30\n",
            "196/196 [==============================] - 2s 9ms/step - loss: 1.7071 - accuracy: 0.3839\n",
            "Epoch 2/30\n",
            "196/196 [==============================] - 2s 8ms/step - loss: 1.3638 - accuracy: 0.5118\n",
            "Epoch 3/30\n",
            "196/196 [==============================] - 2s 8ms/step - loss: 1.1923 - accuracy: 0.5773\n",
            "Epoch 4/30\n",
            "196/196 [==============================] - 2s 8ms/step - loss: 1.0921 - accuracy: 0.6152\n",
            "Epoch 5/30\n",
            "196/196 [==============================] - 2s 8ms/step - loss: 0.9906 - accuracy: 0.6549\n",
            "Epoch 6/30\n",
            "196/196 [==============================] - 2s 8ms/step - loss: 0.9206 - accuracy: 0.6777\n",
            "Epoch 7/30\n",
            "196/196 [==============================] - 2s 8ms/step - loss: 0.8579 - accuracy: 0.7037\n",
            "Epoch 8/30\n",
            "196/196 [==============================] - 2s 8ms/step - loss: 0.7966 - accuracy: 0.7223\n",
            "Epoch 9/30\n",
            "196/196 [==============================] - 2s 8ms/step - loss: 0.7310 - accuracy: 0.7477\n",
            "Epoch 10/30\n",
            "196/196 [==============================] - 2s 9ms/step - loss: 0.6760 - accuracy: 0.7649\n",
            "Epoch 11/30\n",
            "196/196 [==============================] - 2s 8ms/step - loss: 0.6200 - accuracy: 0.7863\n",
            "Epoch 12/30\n",
            "196/196 [==============================] - 2s 8ms/step - loss: 0.5687 - accuracy: 0.8045\n",
            "Epoch 13/30\n",
            "196/196 [==============================] - 2s 9ms/step - loss: 0.5124 - accuracy: 0.8235\n",
            "Epoch 14/30\n",
            "196/196 [==============================] - 2s 8ms/step - loss: 0.4706 - accuracy: 0.8373\n",
            "Epoch 15/30\n",
            "196/196 [==============================] - 2s 9ms/step - loss: 0.4059 - accuracy: 0.8611\n",
            "Epoch 16/30\n",
            "196/196 [==============================] - 2s 8ms/step - loss: 0.3582 - accuracy: 0.8778\n",
            "Epoch 17/30\n",
            "196/196 [==============================] - 2s 8ms/step - loss: 0.3125 - accuracy: 0.8937\n",
            "Epoch 18/30\n",
            "196/196 [==============================] - 2s 8ms/step - loss: 0.2659 - accuracy: 0.9106\n",
            "Epoch 19/30\n",
            "196/196 [==============================] - 2s 8ms/step - loss: 0.2270 - accuracy: 0.9234\n",
            "Epoch 20/30\n",
            "196/196 [==============================] - 2s 8ms/step - loss: 0.1907 - accuracy: 0.9379\n",
            "Epoch 21/30\n",
            "196/196 [==============================] - 2s 8ms/step - loss: 0.1665 - accuracy: 0.9440\n",
            "Epoch 22/30\n",
            "196/196 [==============================] - 2s 8ms/step - loss: 0.1347 - accuracy: 0.9571\n",
            "Epoch 23/30\n",
            "196/196 [==============================] - 2s 8ms/step - loss: 0.1042 - accuracy: 0.9675\n",
            "Epoch 24/30\n",
            "196/196 [==============================] - 2s 8ms/step - loss: 0.0988 - accuracy: 0.9677\n",
            "Epoch 25/30\n",
            "196/196 [==============================] - 2s 8ms/step - loss: 0.0871 - accuracy: 0.9724\n",
            "Epoch 26/30\n",
            "196/196 [==============================] - 2s 8ms/step - loss: 0.0777 - accuracy: 0.9754\n",
            "Epoch 27/30\n",
            "196/196 [==============================] - 2s 8ms/step - loss: 0.0857 - accuracy: 0.9709\n",
            "Epoch 28/30\n",
            "196/196 [==============================] - 2s 8ms/step - loss: 0.0831 - accuracy: 0.9717\n",
            "Epoch 29/30\n",
            "196/196 [==============================] - 2s 8ms/step - loss: 0.0654 - accuracy: 0.9786\n",
            "Epoch 30/30\n",
            "196/196 [==============================] - 2s 8ms/step - loss: 0.0574 - accuracy: 0.9817\n"
          ]
        }
      ]
    },
    {
      "cell_type": "code",
      "source": [
        "# Plotting\n",
        "plt.plot(history_lenet_best.history['loss'])\n",
        "plt.title('Model MSE history on train data - Best')\n",
        "plt.ylabel('MSE')\n",
        "plt.xlabel('epoch')\n",
        "plt.show()\n",
        "\n",
        "# Evaluate\n",
        "score = lenet_best.evaluate(test_images, test_labels)\n",
        "print('Test loss:', score[0])\n",
        "print('Test accuracy:', score[1])"
      ],
      "metadata": {
        "colab": {
          "base_uri": "https://localhost:8080/",
          "height": 347
        },
        "id": "7VOLzz7ijxhS",
        "outputId": "5f2b7ddd-b04e-4886-9455-b2192bc48343"
      },
      "execution_count": 91,
      "outputs": [
        {
          "output_type": "display_data",
          "data": {
            "text/plain": [
              "<Figure size 432x288 with 1 Axes>"
            ],
            "image/png": "[encoded data removed]"
          },
          "metadata": {
            "needs_background": "light"
          }
        },
        {
          "output_type": "stream",
          "name": "stdout",
          "text": [
            "313/313 [==============================] - 1s 3ms/step - loss: 693.4169 - accuracy: 0.5721\n",
            "Test loss: 693.4169311523438\n",
            "Test accuracy: 0.5720999836921692\n"
          ]
        }
      ]
    },
    {
      "cell_type": "code",
      "source": [
        "lenet_best_20epocs = tf.keras.models.Sequential()\n",
        "lenet_best_20epocs.add(tf.keras.layers.Conv2D(6, (5, 5), strides=(1, 1), padding='same', activation='relu'))\n",
        "lenet_best_20epocs.add(tf.keras.layers.MaxPooling2D(pool_size=(2, 2), strides=(2,2), padding='same'))\n",
        "lenet_best_20epocs.add(tf.keras.layers.Conv2D(16, (5, 5), strides=(1, 1), padding='same', activation='relu'))\n",
        "lenet_best_20epocs.add(tf.keras.layers.MaxPooling2D(pool_size=(2, 2), strides=(2,2), padding='same'))\n",
        "lenet_best_20epocs.add(tf.keras.layers.Conv2D(120, (5, 5), strides=(1, 1), padding='same', activation='relu'))\n",
        "\n",
        "lenet_best_20epocs.add(tf.keras.layers.Flatten())\n",
        "lenet_best_20epocs.add(tf.keras.layers.Dense(84))\n",
        "lenet_best_20epocs.add(tf.keras.layers.Activation('relu'))\n",
        "lenet_best_20epocs.add(tf.keras.layers.Dense(10))\n",
        "lenet_best_20epocs.add(tf.keras.layers.Activation('softmax'))\n",
        "\n",
        "opt = keras.optimizers.Adam(learning_rate=0.001)\n",
        "lenet_best_20epocs.compile(loss='sparse_categorical_crossentropy', optimizer=opt, metrics=['accuracy'])\n",
        "lenet_best_20epocs.build(input_shape=(1,32,32,3))\n",
        "lenet_best_20epocs.summary()\n",
        "\n",
        "# Train the model.\n",
        "history_lenet_best_20epocs = lenet_best_20epocs.fit(\n",
        "    train_images,\n",
        "    train_labels, \n",
        "    batch_size=256,\n",
        "    epochs=25)\n"
      ],
      "metadata": {
        "colab": {
          "base_uri": "https://localhost:8080/"
        },
        "id": "Z4u3UBDrzU5M",
        "outputId": "a50f7714-71cd-45d6-eb64-2e58de9bc228"
      },
      "execution_count": 92,
      "outputs": [
        {
          "output_type": "stream",
          "name": "stdout",
          "text": [
            "Model: \"sequential_37\"\n",
            "_________________________________________________________________\n",
            " Layer (type)                Output Shape              Param #   \n",
            "=================================================================\n",
            " conv2d_220 (Conv2D)         (1, 32, 32, 6)            456       \n",
            "                                                                 \n",
            " max_pooling2d_120 (MaxPooli  (1, 16, 16, 6)           0         \n",
            " ng2D)                                                           \n",
            "                                                                 \n",
            " conv2d_221 (Conv2D)         (1, 16, 16, 16)           2416      \n",
            "                                                                 \n",
            " max_pooling2d_121 (MaxPooli  (1, 8, 8, 16)            0         \n",
            " ng2D)                                                           \n",
            "                                                                 \n",
            " conv2d_222 (Conv2D)         (1, 8, 8, 120)            48120     \n",
            "                                                                 \n",
            " flatten_37 (Flatten)        (1, 7680)                 0         \n",
            "                                                                 \n",
            " dense_77 (Dense)            (1, 84)                   645204    \n",
            "                                                                 \n",
            " activation_77 (Activation)  (1, 84)                   0         \n",
            "                                                                 \n",
            " dense_78 (Dense)            (1, 10)                   850       \n",
            "                                                                 \n",
            " activation_78 (Activation)  (1, 10)                   0         \n",
            "                                                                 \n",
            "=================================================================\n",
            "Total params: 697,046\n",
            "Trainable params: 697,046\n",
            "Non-trainable params: 0\n",
            "_________________________________________________________________\n",
            "Epoch 1/25\n",
            "196/196 [==============================] - 2s 8ms/step - loss: 1.7147 - accuracy: 0.3850\n",
            "Epoch 2/25\n",
            "196/196 [==============================] - 2s 9ms/step - loss: 1.4172 - accuracy: 0.4965\n",
            "Epoch 3/25\n",
            "196/196 [==============================] - 2s 8ms/step - loss: 1.2803 - accuracy: 0.5463\n",
            "Epoch 4/25\n",
            "196/196 [==============================] - 2s 8ms/step - loss: 1.1855 - accuracy: 0.5813\n",
            "Epoch 5/25\n",
            "196/196 [==============================] - 2s 8ms/step - loss: 1.1081 - accuracy: 0.6114\n",
            "Epoch 6/25\n",
            "196/196 [==============================] - 2s 8ms/step - loss: 1.0375 - accuracy: 0.6382\n",
            "Epoch 7/25\n",
            "196/196 [==============================] - 2s 8ms/step - loss: 0.9719 - accuracy: 0.6622\n",
            "Epoch 8/25\n",
            "196/196 [==============================] - 2s 8ms/step - loss: 0.9148 - accuracy: 0.6810\n",
            "Epoch 9/25\n",
            "196/196 [==============================] - 2s 8ms/step - loss: 0.8525 - accuracy: 0.7024\n",
            "Epoch 10/25\n",
            "196/196 [==============================] - 2s 8ms/step - loss: 0.8029 - accuracy: 0.7208\n",
            "Epoch 11/25\n",
            "196/196 [==============================] - 2s 8ms/step - loss: 0.7541 - accuracy: 0.7372\n",
            "Epoch 12/25\n",
            "196/196 [==============================] - 2s 8ms/step - loss: 0.7076 - accuracy: 0.7555\n",
            "Epoch 13/25\n",
            "196/196 [==============================] - 2s 8ms/step - loss: 0.6576 - accuracy: 0.7711\n",
            "Epoch 14/25\n",
            "196/196 [==============================] - 2s 8ms/step - loss: 0.6101 - accuracy: 0.7894\n",
            "Epoch 15/25\n",
            "196/196 [==============================] - 2s 8ms/step - loss: 0.5535 - accuracy: 0.8073\n",
            "Epoch 16/25\n",
            "196/196 [==============================] - 2s 8ms/step - loss: 0.5081 - accuracy: 0.8247\n",
            "Epoch 17/25\n",
            "196/196 [==============================] - 2s 8ms/step - loss: 0.4664 - accuracy: 0.8381\n",
            "Epoch 18/25\n",
            "196/196 [==============================] - 2s 8ms/step - loss: 0.4156 - accuracy: 0.8568\n",
            "Epoch 19/25\n",
            "196/196 [==============================] - 2s 8ms/step - loss: 0.3665 - accuracy: 0.8737\n",
            "Epoch 20/25\n",
            "196/196 [==============================] - 2s 8ms/step - loss: 0.3348 - accuracy: 0.8849\n",
            "Epoch 21/25\n",
            "196/196 [==============================] - 2s 8ms/step - loss: 0.2901 - accuracy: 0.9011\n",
            "Epoch 22/25\n",
            "196/196 [==============================] - 2s 8ms/step - loss: 0.2544 - accuracy: 0.9135\n",
            "Epoch 23/25\n",
            "196/196 [==============================] - 2s 8ms/step - loss: 0.2129 - accuracy: 0.9290\n",
            "Epoch 24/25\n",
            "196/196 [==============================] - 2s 8ms/step - loss: 0.1864 - accuracy: 0.9368\n",
            "Epoch 25/25\n",
            "196/196 [==============================] - 2s 8ms/step - loss: 0.1639 - accuracy: 0.9452\n"
          ]
        }
      ]
    },
    {
      "cell_type": "code",
      "source": [
        "# Plotting\n",
        "plt.plot(history_lenet_best_20epocs.history['loss'])\n",
        "plt.title('Model MSE history on train data - Best')\n",
        "plt.ylabel('MSE')\n",
        "plt.xlabel('epoch')\n",
        "plt.show()\n",
        "\n",
        "# Evaluate\n",
        "score = lenet_best_20epocs.evaluate(test_images, test_labels)\n",
        "print('Test loss:', score[0])\n",
        "print('Test accuracy:', score[1])"
      ],
      "metadata": {
        "colab": {
          "base_uri": "https://localhost:8080/",
          "height": 347
        },
        "id": "Zjm36S_NzdkU",
        "outputId": "28220e0c-83b9-4506-cf51-c55fde05c0e8"
      },
      "execution_count": 93,
      "outputs": [
        {
          "output_type": "display_data",
          "data": {
            "text/plain": [
              "<Figure size 432x288 with 1 Axes>"
            ],
            "image/png": "[encoded data removed]"
          },
          "metadata": {
            "needs_background": "light"
          }
        },
        {
          "output_type": "stream",
          "name": "stdout",
          "text": [
            "313/313 [==============================] - 1s 3ms/step - loss: 550.1443 - accuracy: 0.5200\n",
            "Test loss: 550.1443481445312\n",
            "Test accuracy: 0.5199999809265137\n"
          ]
        }
      ]
    },
    {
      "cell_type": "code",
      "source": [
        "FFNW = tf.keras.models.Sequential()\n",
        "FFNW.add(tf.keras.layers.Flatten())\n",
        "FFNW.add(tf.keras.layers.Dense(6))\n",
        "FFNW.add(tf.keras.layers.Activation('relu'))\n",
        "FFNW.add(tf.keras.layers.Dense(16))\n",
        "FFNW.add(tf.keras.layers.Activation('relu'))\n",
        "FFNW.add(tf.keras.layers.Dense(120))\n",
        "FFNW.add(tf.keras.layers.Activation('relu'))\n",
        "FFNW.add(tf.keras.layers.Dense(84))\n",
        "FFNW.add(tf.keras.layers.Activation('relu'))\n",
        "FFNW.add(tf.keras.layers.Dense(10))\n",
        "FFNW.add(tf.keras.layers.Activation('softmax'))\n",
        "\n",
        "\n",
        "opt = keras.optimizers.Adam(learning_rate=0.001)\n",
        "FFNW.compile(loss='sparse_categorical_crossentropy', optimizer=opt, metrics=['accuracy'])\n",
        "FFNW.build(input_shape=(1,32,32,3))\n",
        "FFNW.summary()\n",
        "\n",
        "# Train the model.\n",
        "history_FFNW = FFNW.fit(\n",
        "    train_images,\n",
        "    train_labels, \n",
        "    batch_size=256,\n",
        "    epochs=25)\n",
        "\n"
      ],
      "metadata": {
        "id": "8HnAmmUTUFS2",
        "colab": {
          "base_uri": "https://localhost:8080/"
        },
        "outputId": "91a5a57b-4465-4d8c-d007-3019cc4d07c1"
      },
      "execution_count": 94,
      "outputs": [
        {
          "output_type": "stream",
          "name": "stdout",
          "text": [
            "Model: \"sequential_38\"\n",
            "_________________________________________________________________\n",
            " Layer (type)                Output Shape              Param #   \n",
            "=================================================================\n",
            " flatten_38 (Flatten)        (1, 3072)                 0         \n",
            "                                                                 \n",
            " dense_79 (Dense)            (1, 6)                    18438     \n",
            "                                                                 \n",
            " activation_79 (Activation)  (1, 6)                    0         \n",
            "                                                                 \n",
            " dense_80 (Dense)            (1, 16)                   112       \n",
            "                                                                 \n",
            " activation_80 (Activation)  (1, 16)                   0         \n",
            "                                                                 \n",
            " dense_81 (Dense)            (1, 120)                  2040      \n",
            "                                                                 \n",
            " activation_81 (Activation)  (1, 120)                  0         \n",
            "                                                                 \n",
            " dense_82 (Dense)            (1, 84)                   10164     \n",
            "                                                                 \n",
            " activation_82 (Activation)  (1, 84)                   0         \n",
            "                                                                 \n",
            " dense_83 (Dense)            (1, 10)                   850       \n",
            "                                                                 \n",
            " activation_83 (Activation)  (1, 10)                   0         \n",
            "                                                                 \n",
            "=================================================================\n",
            "Total params: 31,604\n",
            "Trainable params: 31,604\n",
            "Non-trainable params: 0\n",
            "_________________________________________________________________\n",
            "Epoch 1/25\n",
            "196/196 [==============================] - 1s 4ms/step - loss: 2.1219 - accuracy: 0.1677\n",
            "Epoch 2/25\n",
            "196/196 [==============================] - 1s 4ms/step - loss: 2.0494 - accuracy: 0.1943\n",
            "Epoch 3/25\n",
            "196/196 [==============================] - 1s 4ms/step - loss: 2.0373 - accuracy: 0.1982\n",
            "Epoch 4/25\n",
            "196/196 [==============================] - 1s 4ms/step - loss: 2.0333 - accuracy: 0.2003\n",
            "Epoch 5/25\n",
            "196/196 [==============================] - 1s 4ms/step - loss: 2.0318 - accuracy: 0.2007\n",
            "Epoch 6/25\n",
            "196/196 [==============================] - 1s 4ms/step - loss: 2.0273 - accuracy: 0.2047\n",
            "Epoch 7/25\n",
            "196/196 [==============================] - 1s 4ms/step - loss: 2.0257 - accuracy: 0.2073\n",
            "Epoch 8/25\n",
            "196/196 [==============================] - 1s 4ms/step - loss: 2.0264 - accuracy: 0.2053\n",
            "Epoch 9/25\n",
            "196/196 [==============================] - 1s 4ms/step - loss: 2.0296 - accuracy: 0.2048\n",
            "Epoch 10/25\n",
            "196/196 [==============================] - 1s 4ms/step - loss: 2.0249 - accuracy: 0.2057\n",
            "Epoch 11/25\n",
            "196/196 [==============================] - 1s 4ms/step - loss: 2.0244 - accuracy: 0.2073\n",
            "Epoch 12/25\n",
            "196/196 [==============================] - 1s 4ms/step - loss: 2.0249 - accuracy: 0.2067\n",
            "Epoch 13/25\n",
            "196/196 [==============================] - 1s 4ms/step - loss: 2.0196 - accuracy: 0.2082\n",
            "Epoch 14/25\n",
            "196/196 [==============================] - 1s 4ms/step - loss: 2.0228 - accuracy: 0.2059\n",
            "Epoch 15/25\n",
            "196/196 [==============================] - 1s 4ms/step - loss: 2.0199 - accuracy: 0.2100\n",
            "Epoch 16/25\n",
            "196/196 [==============================] - 1s 4ms/step - loss: 2.0207 - accuracy: 0.2112\n",
            "Epoch 17/25\n",
            "196/196 [==============================] - 1s 4ms/step - loss: 2.0195 - accuracy: 0.2075\n",
            "Epoch 18/25\n",
            "196/196 [==============================] - 1s 4ms/step - loss: 2.0175 - accuracy: 0.2086\n",
            "Epoch 19/25\n",
            "196/196 [==============================] - 1s 4ms/step - loss: 2.0187 - accuracy: 0.2083\n",
            "Epoch 20/25\n",
            "196/196 [==============================] - 1s 4ms/step - loss: 2.0249 - accuracy: 0.2086\n",
            "Epoch 21/25\n",
            "196/196 [==============================] - 1s 4ms/step - loss: 2.0174 - accuracy: 0.2091\n",
            "Epoch 22/25\n",
            "196/196 [==============================] - 1s 4ms/step - loss: 2.0168 - accuracy: 0.2097\n",
            "Epoch 23/25\n",
            "196/196 [==============================] - 1s 4ms/step - loss: 2.0183 - accuracy: 0.2097\n",
            "Epoch 24/25\n",
            "196/196 [==============================] - 1s 4ms/step - loss: 2.0209 - accuracy: 0.2082\n",
            "Epoch 25/25\n",
            "196/196 [==============================] - 1s 4ms/step - loss: 2.0220 - accuracy: 0.2082\n"
          ]
        }
      ]
    },
    {
      "cell_type": "code",
      "source": [
        "# Plotting\n",
        "plt.plot(history_FFNW.history['loss'])\n",
        "plt.title('Model MSE history on train data - Lr 0.01')\n",
        "plt.ylabel('MSE')\n",
        "plt.xlabel('epoch')\n",
        "plt.show()\n",
        "\n",
        "# Evaluate\n",
        "score = FFNW.evaluate(test_images, test_labels)\n",
        "print('Test loss:', score[0])\n",
        "print('Test accuracy:', score[1])"
      ],
      "metadata": {
        "colab": {
          "base_uri": "https://localhost:8080/",
          "height": 347
        },
        "id": "MYPN9VDhnsaB",
        "outputId": "3effc624-26b3-440e-b81f-028e9da5f2ea"
      },
      "execution_count": 95,
      "outputs": [
        {
          "output_type": "display_data",
          "data": {
            "text/plain": [
              "<Figure size 432x288 with 1 Axes>"
            ],
            "image/png": "[encoded data removed]"
          },
          "metadata": {
            "needs_background": "light"
          }
        },
        {
          "output_type": "stream",
          "name": "stdout",
          "text": [
            "313/313 [==============================] - 1s 2ms/step - loss: 169.7793 - accuracy: 0.1584\n",
            "Test loss: 169.77932739257812\n",
            "Test accuracy: 0.15839999914169312\n"
          ]
        }
      ]
    },
    {
      "cell_type": "markdown",
      "source": [
        "# Question 3\n",
        "\n",
        "In this question, it is asked to calculate an operation of a convolutional kernel f on an input matrix X.\n",
        "\n",
        "First question, it is asked to calculate dimensions of the input and the kernal. The input X is 6x6x1 matrix and kernel f is 3x3 filter. The number of hyperparameters can be calculated like this:\n",
        "\n",
        "\\\\\n",
        "input is 6x6x1. kernel is 3x3. There is 1 filter. Number of hyperparameters is:\n",
        "$ [(3\\times3)\\times1+1]\\times1=10$\n",
        "\n",
        "\\\\\n",
        "In the second part, it is asked to calculate output of activation map. The below code calculates the output.\n",
        "\n",
        "\\\\\n",
        "In the third part, it is asked to apply a max pool on the output. It is not stated the size of maxpool. I assumed it is 2x2. The result of the output is given in below code."
      ],
      "metadata": {
        "id": "tjI7RK_IF8a-"
      }
    },
    {
      "cell_type": "code",
      "source": [
        "xMatrix = np.array([[7, 5, 0, 0, 3, 2],[6, 4, 5, 1, 4, 8], [9, 0, 2, 2, 5, 4], [6, 3, 4, 7, 9, 8], [5, 7, 5, 6, 9, 0], [7, 9, 0, 8, 2, 3]])\n",
        "fMatrix = np.array([[1, 0, -1], [2, 0, -2], [1, 0 ,-1]])\n",
        "output = np.zeros(16).reshape(4,4)\n",
        "\n",
        "for j in range(4):\n",
        "  for i in range(4):\n",
        "    output[i,j] = np.sum(xMatrix[(0+i):(3+i),(0+j):(3+j)]*fMatrix)\n",
        "\n",
        "output_maxlayer = np.zeros(9).reshape(3,3)\n",
        "for j in range(3):\n",
        "  for i in range(3):\n",
        "    output_maxlayer[i,j] = np.max(output[(0+i):(2+i),(0+j):(2+j)])\n",
        "\n",
        "print('Output of activation map:')\n",
        "print(output)\n",
        "print('Output of max-pooling:')\n",
        "print(output_maxlayer)"
      ],
      "metadata": {
        "colab": {
          "base_uri": "https://localhost:8080/"
        },
        "id": "4oyjxiC0Gm5F",
        "outputId": "640ceb99-2e6a-4eab-9ba8-fec56268267e"
      },
      "execution_count": 19,
      "outputs": [
        {
          "output_type": "stream",
          "name": "stdout",
          "text": [
            "Output of activation map:\n",
            "[[ 16.   9.  -4. -18.]\n",
            " [ 17.  -5. -10. -12.]\n",
            " [ 11.  -9. -17.   2.]\n",
            " [  9.  -1. -15.  16.]]\n",
            "Output of max-pooling:\n",
            "[[17.  9. -4.]\n",
            " [17. -5.  2.]\n",
            " [11. -1. 16.]]\n"
          ]
        }
      ]
    }
  ]
}